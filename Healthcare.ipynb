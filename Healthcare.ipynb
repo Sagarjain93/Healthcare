{
  "nbformat": 4,
  "nbformat_minor": 0,
  "metadata": {
    "colab": {
      "provenance": [],
      "authorship_tag": "ABX9TyMLiGkuq+sRddSxIgPQM+Q4",
      "include_colab_link": true
    },
    "kernelspec": {
      "name": "python3",
      "display_name": "Python 3"
    },
    "language_info": {
      "name": "python"
    }
  },
  "cells": [
    {
      "cell_type": "markdown",
      "metadata": {
        "id": "view-in-github",
        "colab_type": "text"
      },
      "source": [
        "<a href=\"https://colab.research.google.com/github/Sagarjain93/Healthcare/blob/main/Healthcare.ipynb\" target=\"_parent\"><img src=\"https://colab.research.google.com/assets/colab-badge.svg\" alt=\"Open In Colab\"/></a>"
      ]
    },
    {
      "cell_type": "markdown",
      "source": [
        "#**Project Name** - Exploratory Data Analysis of HealthCare Dataset"
      ],
      "metadata": {
        "id": "lMN0uSaKTDYB"
      }
    },
    {
      "cell_type": "markdown",
      "source": [
        "  **Project Type**    - EDA\n",
        "\n",
        "  **Contribution**    - Individual\n",
        "  \n",
        "  **Team Member 1 -**  SAGAR JAIN\n"
      ],
      "metadata": {
        "id": "qeigg2b8TH9Y"
      }
    },
    {
      "cell_type": "markdown",
      "source": [
        "#**Project Summary**"
      ],
      "metadata": {
        "id": "kaO65tOIUZNM"
      }
    },
    {
      "cell_type": "markdown",
      "source": [],
      "metadata": {
        "id": "iTOWCwMiU8TN"
      }
    },
    {
      "cell_type": "markdown",
      "source": [
        "#**Github Link**"
      ],
      "metadata": {
        "id": "uMNnx1vrU8ry"
      }
    },
    {
      "cell_type": "markdown",
      "source": [
        "https://github.com/Sagarjain93/Healthcare/tree/main"
      ],
      "metadata": {
        "id": "HIL-Mlh7U_on"
      }
    },
    {
      "cell_type": "markdown",
      "source": [
        "# **Problem Statement**\n"
      ],
      "metadata": {
        "id": "61l01WwCVKzO"
      }
    },
    {
      "cell_type": "markdown",
      "source": [
        "**Write Problem Statement Here.**"
      ],
      "metadata": {
        "id": "DpeJGUA3kjGy"
      }
    },
    {
      "cell_type": "markdown",
      "source": [
        "#### **Define Your Business Objective?**"
      ],
      "metadata": {
        "id": "PH-0ReGfmX4f"
      }
    },
    {
      "cell_type": "markdown",
      "source": [
        "Answer Here."
      ],
      "metadata": {
        "id": "PhDvGCAqmjP1"
      }
    },
    {
      "cell_type": "markdown",
      "source": [],
      "metadata": {
        "id": "dbVs3pjOVN4A"
      }
    },
    {
      "cell_type": "markdown",
      "source": [
        "# **1. Know Your Data**"
      ],
      "metadata": {
        "id": "DUBzzo2gVWcq"
      }
    },
    {
      "cell_type": "markdown",
      "source": [
        "##**1.1. Import Libraries**"
      ],
      "metadata": {
        "id": "0hk_DXeYVegi"
      }
    },
    {
      "cell_type": "code",
      "source": [
        "# Data Manipulation Libraries\n",
        "import numpy as np\n",
        "import pandas as pd\n",
        "\n",
        "# Data Visualization Libraries\n",
        "import matplotlib.pyplot as plt\n",
        "import seaborn as sns\n",
        "sns.palettes.SEABORN_PALETTES.keys()\n",
        "\n",
        "# Set a consistent theme for all plots\n",
        "sns.set(style = 'whitegrid')"
      ],
      "metadata": {
        "id": "OvLdR7mcWCXY"
      },
      "execution_count": 1,
      "outputs": []
    },
    {
      "cell_type": "code",
      "source": [
        "from google.colab import drive\n",
        "drive.mount('/content/drive')"
      ],
      "metadata": {
        "colab": {
          "base_uri": "https://localhost:8080/"
        },
        "id": "QdJSBOY5WXCf",
        "outputId": "6d2cca57-3db3-4ce1-d16a-69360185b47e"
      },
      "execution_count": 2,
      "outputs": [
        {
          "output_type": "stream",
          "name": "stdout",
          "text": [
            "Mounted at /content/drive\n"
          ]
        }
      ]
    },
    {
      "cell_type": "markdown",
      "source": [
        "## **1.2. Load Dataset**"
      ],
      "metadata": {
        "id": "5F5smOF3VZyW"
      }
    },
    {
      "cell_type": "code",
      "source": [
        "df = pd.read_csv('/content/drive/MyDrive/colab/eda/2. Healthcare/healthcare_dataset.csv')"
      ],
      "metadata": {
        "id": "jGcwDiVaVZVv"
      },
      "execution_count": 3,
      "outputs": []
    },
    {
      "cell_type": "markdown",
      "source": [
        "## **1.3. Preview First Few Records**"
      ],
      "metadata": {
        "id": "irQeaZjQW_NX"
      }
    },
    {
      "cell_type": "markdown",
      "source": [
        "Display the first 5 rows to get an initial idea of the dataset."
      ],
      "metadata": {
        "id": "gif6EebFXTrs"
      }
    },
    {
      "cell_type": "code",
      "source": [
        "df.head()"
      ],
      "metadata": {
        "colab": {
          "base_uri": "https://localhost:8080/",
          "height": 347
        },
        "collapsed": true,
        "id": "sTiB_1gjWt1o",
        "outputId": "aea4e632-4d22-4f9d-8207-30536f1eeb5a"
      },
      "execution_count": 4,
      "outputs": [
        {
          "output_type": "execute_result",
          "data": {
            "text/plain": [
              "            Name  Age  Gender Blood Type Medical Condition Date of Admission  \\\n",
              "0  Bobby JacksOn   30    Male         B-            Cancer        2024-01-31   \n",
              "1   LesLie TErRy   62    Male         A+           Obesity        2019-08-20   \n",
              "2    DaNnY sMitH   76  Female         A-           Obesity        2022-09-22   \n",
              "3   andrEw waTtS   28  Female         O+          Diabetes        2020-11-18   \n",
              "4  adrIENNE bEll   43  Female        AB+            Cancer        2022-09-19   \n",
              "\n",
              "             Doctor                    Hospital Insurance Provider  \\\n",
              "0     Matthew Smith             Sons and Miller         Blue Cross   \n",
              "1   Samantha Davies                     Kim Inc           Medicare   \n",
              "2  Tiffany Mitchell                    Cook PLC              Aetna   \n",
              "3       Kevin Wells  Hernandez Rogers and Vang,           Medicare   \n",
              "4    Kathleen Hanna                 White-White              Aetna   \n",
              "\n",
              "   Billing Amount  Room Number Admission Type Discharge Date   Medication  \\\n",
              "0    18856.281306          328         Urgent     2024-02-02  Paracetamol   \n",
              "1    33643.327287          265      Emergency     2019-08-26    Ibuprofen   \n",
              "2    27955.096079          205      Emergency     2022-10-07      Aspirin   \n",
              "3    37909.782410          450       Elective     2020-12-18    Ibuprofen   \n",
              "4    14238.317814          458         Urgent     2022-10-09   Penicillin   \n",
              "\n",
              "   Test Results  \n",
              "0        Normal  \n",
              "1  Inconclusive  \n",
              "2        Normal  \n",
              "3      Abnormal  \n",
              "4      Abnormal  "
            ],
            "text/html": [
              "\n",
              "  <div id=\"df-ad8b7409-63ea-465c-84fe-54bf115f1662\" class=\"colab-df-container\">\n",
              "    <div>\n",
              "<style scoped>\n",
              "    .dataframe tbody tr th:only-of-type {\n",
              "        vertical-align: middle;\n",
              "    }\n",
              "\n",
              "    .dataframe tbody tr th {\n",
              "        vertical-align: top;\n",
              "    }\n",
              "\n",
              "    .dataframe thead th {\n",
              "        text-align: right;\n",
              "    }\n",
              "</style>\n",
              "<table border=\"1\" class=\"dataframe\">\n",
              "  <thead>\n",
              "    <tr style=\"text-align: right;\">\n",
              "      <th></th>\n",
              "      <th>Name</th>\n",
              "      <th>Age</th>\n",
              "      <th>Gender</th>\n",
              "      <th>Blood Type</th>\n",
              "      <th>Medical Condition</th>\n",
              "      <th>Date of Admission</th>\n",
              "      <th>Doctor</th>\n",
              "      <th>Hospital</th>\n",
              "      <th>Insurance Provider</th>\n",
              "      <th>Billing Amount</th>\n",
              "      <th>Room Number</th>\n",
              "      <th>Admission Type</th>\n",
              "      <th>Discharge Date</th>\n",
              "      <th>Medication</th>\n",
              "      <th>Test Results</th>\n",
              "    </tr>\n",
              "  </thead>\n",
              "  <tbody>\n",
              "    <tr>\n",
              "      <th>0</th>\n",
              "      <td>Bobby JacksOn</td>\n",
              "      <td>30</td>\n",
              "      <td>Male</td>\n",
              "      <td>B-</td>\n",
              "      <td>Cancer</td>\n",
              "      <td>2024-01-31</td>\n",
              "      <td>Matthew Smith</td>\n",
              "      <td>Sons and Miller</td>\n",
              "      <td>Blue Cross</td>\n",
              "      <td>18856.281306</td>\n",
              "      <td>328</td>\n",
              "      <td>Urgent</td>\n",
              "      <td>2024-02-02</td>\n",
              "      <td>Paracetamol</td>\n",
              "      <td>Normal</td>\n",
              "    </tr>\n",
              "    <tr>\n",
              "      <th>1</th>\n",
              "      <td>LesLie TErRy</td>\n",
              "      <td>62</td>\n",
              "      <td>Male</td>\n",
              "      <td>A+</td>\n",
              "      <td>Obesity</td>\n",
              "      <td>2019-08-20</td>\n",
              "      <td>Samantha Davies</td>\n",
              "      <td>Kim Inc</td>\n",
              "      <td>Medicare</td>\n",
              "      <td>33643.327287</td>\n",
              "      <td>265</td>\n",
              "      <td>Emergency</td>\n",
              "      <td>2019-08-26</td>\n",
              "      <td>Ibuprofen</td>\n",
              "      <td>Inconclusive</td>\n",
              "    </tr>\n",
              "    <tr>\n",
              "      <th>2</th>\n",
              "      <td>DaNnY sMitH</td>\n",
              "      <td>76</td>\n",
              "      <td>Female</td>\n",
              "      <td>A-</td>\n",
              "      <td>Obesity</td>\n",
              "      <td>2022-09-22</td>\n",
              "      <td>Tiffany Mitchell</td>\n",
              "      <td>Cook PLC</td>\n",
              "      <td>Aetna</td>\n",
              "      <td>27955.096079</td>\n",
              "      <td>205</td>\n",
              "      <td>Emergency</td>\n",
              "      <td>2022-10-07</td>\n",
              "      <td>Aspirin</td>\n",
              "      <td>Normal</td>\n",
              "    </tr>\n",
              "    <tr>\n",
              "      <th>3</th>\n",
              "      <td>andrEw waTtS</td>\n",
              "      <td>28</td>\n",
              "      <td>Female</td>\n",
              "      <td>O+</td>\n",
              "      <td>Diabetes</td>\n",
              "      <td>2020-11-18</td>\n",
              "      <td>Kevin Wells</td>\n",
              "      <td>Hernandez Rogers and Vang,</td>\n",
              "      <td>Medicare</td>\n",
              "      <td>37909.782410</td>\n",
              "      <td>450</td>\n",
              "      <td>Elective</td>\n",
              "      <td>2020-12-18</td>\n",
              "      <td>Ibuprofen</td>\n",
              "      <td>Abnormal</td>\n",
              "    </tr>\n",
              "    <tr>\n",
              "      <th>4</th>\n",
              "      <td>adrIENNE bEll</td>\n",
              "      <td>43</td>\n",
              "      <td>Female</td>\n",
              "      <td>AB+</td>\n",
              "      <td>Cancer</td>\n",
              "      <td>2022-09-19</td>\n",
              "      <td>Kathleen Hanna</td>\n",
              "      <td>White-White</td>\n",
              "      <td>Aetna</td>\n",
              "      <td>14238.317814</td>\n",
              "      <td>458</td>\n",
              "      <td>Urgent</td>\n",
              "      <td>2022-10-09</td>\n",
              "      <td>Penicillin</td>\n",
              "      <td>Abnormal</td>\n",
              "    </tr>\n",
              "  </tbody>\n",
              "</table>\n",
              "</div>\n",
              "    <div class=\"colab-df-buttons\">\n",
              "\n",
              "  <div class=\"colab-df-container\">\n",
              "    <button class=\"colab-df-convert\" onclick=\"convertToInteractive('df-ad8b7409-63ea-465c-84fe-54bf115f1662')\"\n",
              "            title=\"Convert this dataframe to an interactive table.\"\n",
              "            style=\"display:none;\">\n",
              "\n",
              "  <svg xmlns=\"http://www.w3.org/2000/svg\" height=\"24px\" viewBox=\"0 -960 960 960\">\n",
              "    <path d=\"M120-120v-720h720v720H120Zm60-500h600v-160H180v160Zm220 220h160v-160H400v160Zm0 220h160v-160H400v160ZM180-400h160v-160H180v160Zm440 0h160v-160H620v160ZM180-180h160v-160H180v160Zm440 0h160v-160H620v160Z\"/>\n",
              "  </svg>\n",
              "    </button>\n",
              "\n",
              "  <style>\n",
              "    .colab-df-container {\n",
              "      display:flex;\n",
              "      gap: 12px;\n",
              "    }\n",
              "\n",
              "    .colab-df-convert {\n",
              "      background-color: #E8F0FE;\n",
              "      border: none;\n",
              "      border-radius: 50%;\n",
              "      cursor: pointer;\n",
              "      display: none;\n",
              "      fill: #1967D2;\n",
              "      height: 32px;\n",
              "      padding: 0 0 0 0;\n",
              "      width: 32px;\n",
              "    }\n",
              "\n",
              "    .colab-df-convert:hover {\n",
              "      background-color: #E2EBFA;\n",
              "      box-shadow: 0px 1px 2px rgba(60, 64, 67, 0.3), 0px 1px 3px 1px rgba(60, 64, 67, 0.15);\n",
              "      fill: #174EA6;\n",
              "    }\n",
              "\n",
              "    .colab-df-buttons div {\n",
              "      margin-bottom: 4px;\n",
              "    }\n",
              "\n",
              "    [theme=dark] .colab-df-convert {\n",
              "      background-color: #3B4455;\n",
              "      fill: #D2E3FC;\n",
              "    }\n",
              "\n",
              "    [theme=dark] .colab-df-convert:hover {\n",
              "      background-color: #434B5C;\n",
              "      box-shadow: 0px 1px 3px 1px rgba(0, 0, 0, 0.15);\n",
              "      filter: drop-shadow(0px 1px 2px rgba(0, 0, 0, 0.3));\n",
              "      fill: #FFFFFF;\n",
              "    }\n",
              "  </style>\n",
              "\n",
              "    <script>\n",
              "      const buttonEl =\n",
              "        document.querySelector('#df-ad8b7409-63ea-465c-84fe-54bf115f1662 button.colab-df-convert');\n",
              "      buttonEl.style.display =\n",
              "        google.colab.kernel.accessAllowed ? 'block' : 'none';\n",
              "\n",
              "      async function convertToInteractive(key) {\n",
              "        const element = document.querySelector('#df-ad8b7409-63ea-465c-84fe-54bf115f1662');\n",
              "        const dataTable =\n",
              "          await google.colab.kernel.invokeFunction('convertToInteractive',\n",
              "                                                    [key], {});\n",
              "        if (!dataTable) return;\n",
              "\n",
              "        const docLinkHtml = 'Like what you see? Visit the ' +\n",
              "          '<a target=\"_blank\" href=https://colab.research.google.com/notebooks/data_table.ipynb>data table notebook</a>'\n",
              "          + ' to learn more about interactive tables.';\n",
              "        element.innerHTML = '';\n",
              "        dataTable['output_type'] = 'display_data';\n",
              "        await google.colab.output.renderOutput(dataTable, element);\n",
              "        const docLink = document.createElement('div');\n",
              "        docLink.innerHTML = docLinkHtml;\n",
              "        element.appendChild(docLink);\n",
              "      }\n",
              "    </script>\n",
              "  </div>\n",
              "\n",
              "\n",
              "    <div id=\"df-91cdf32b-5e7c-41e5-8b12-abdc6171fee2\">\n",
              "      <button class=\"colab-df-quickchart\" onclick=\"quickchart('df-91cdf32b-5e7c-41e5-8b12-abdc6171fee2')\"\n",
              "                title=\"Suggest charts\"\n",
              "                style=\"display:none;\">\n",
              "\n",
              "<svg xmlns=\"http://www.w3.org/2000/svg\" height=\"24px\"viewBox=\"0 0 24 24\"\n",
              "     width=\"24px\">\n",
              "    <g>\n",
              "        <path d=\"M19 3H5c-1.1 0-2 .9-2 2v14c0 1.1.9 2 2 2h14c1.1 0 2-.9 2-2V5c0-1.1-.9-2-2-2zM9 17H7v-7h2v7zm4 0h-2V7h2v10zm4 0h-2v-4h2v4z\"/>\n",
              "    </g>\n",
              "</svg>\n",
              "      </button>\n",
              "\n",
              "<style>\n",
              "  .colab-df-quickchart {\n",
              "      --bg-color: #E8F0FE;\n",
              "      --fill-color: #1967D2;\n",
              "      --hover-bg-color: #E2EBFA;\n",
              "      --hover-fill-color: #174EA6;\n",
              "      --disabled-fill-color: #AAA;\n",
              "      --disabled-bg-color: #DDD;\n",
              "  }\n",
              "\n",
              "  [theme=dark] .colab-df-quickchart {\n",
              "      --bg-color: #3B4455;\n",
              "      --fill-color: #D2E3FC;\n",
              "      --hover-bg-color: #434B5C;\n",
              "      --hover-fill-color: #FFFFFF;\n",
              "      --disabled-bg-color: #3B4455;\n",
              "      --disabled-fill-color: #666;\n",
              "  }\n",
              "\n",
              "  .colab-df-quickchart {\n",
              "    background-color: var(--bg-color);\n",
              "    border: none;\n",
              "    border-radius: 50%;\n",
              "    cursor: pointer;\n",
              "    display: none;\n",
              "    fill: var(--fill-color);\n",
              "    height: 32px;\n",
              "    padding: 0;\n",
              "    width: 32px;\n",
              "  }\n",
              "\n",
              "  .colab-df-quickchart:hover {\n",
              "    background-color: var(--hover-bg-color);\n",
              "    box-shadow: 0 1px 2px rgba(60, 64, 67, 0.3), 0 1px 3px 1px rgba(60, 64, 67, 0.15);\n",
              "    fill: var(--button-hover-fill-color);\n",
              "  }\n",
              "\n",
              "  .colab-df-quickchart-complete:disabled,\n",
              "  .colab-df-quickchart-complete:disabled:hover {\n",
              "    background-color: var(--disabled-bg-color);\n",
              "    fill: var(--disabled-fill-color);\n",
              "    box-shadow: none;\n",
              "  }\n",
              "\n",
              "  .colab-df-spinner {\n",
              "    border: 2px solid var(--fill-color);\n",
              "    border-color: transparent;\n",
              "    border-bottom-color: var(--fill-color);\n",
              "    animation:\n",
              "      spin 1s steps(1) infinite;\n",
              "  }\n",
              "\n",
              "  @keyframes spin {\n",
              "    0% {\n",
              "      border-color: transparent;\n",
              "      border-bottom-color: var(--fill-color);\n",
              "      border-left-color: var(--fill-color);\n",
              "    }\n",
              "    20% {\n",
              "      border-color: transparent;\n",
              "      border-left-color: var(--fill-color);\n",
              "      border-top-color: var(--fill-color);\n",
              "    }\n",
              "    30% {\n",
              "      border-color: transparent;\n",
              "      border-left-color: var(--fill-color);\n",
              "      border-top-color: var(--fill-color);\n",
              "      border-right-color: var(--fill-color);\n",
              "    }\n",
              "    40% {\n",
              "      border-color: transparent;\n",
              "      border-right-color: var(--fill-color);\n",
              "      border-top-color: var(--fill-color);\n",
              "    }\n",
              "    60% {\n",
              "      border-color: transparent;\n",
              "      border-right-color: var(--fill-color);\n",
              "    }\n",
              "    80% {\n",
              "      border-color: transparent;\n",
              "      border-right-color: var(--fill-color);\n",
              "      border-bottom-color: var(--fill-color);\n",
              "    }\n",
              "    90% {\n",
              "      border-color: transparent;\n",
              "      border-bottom-color: var(--fill-color);\n",
              "    }\n",
              "  }\n",
              "</style>\n",
              "\n",
              "      <script>\n",
              "        async function quickchart(key) {\n",
              "          const quickchartButtonEl =\n",
              "            document.querySelector('#' + key + ' button');\n",
              "          quickchartButtonEl.disabled = true;  // To prevent multiple clicks.\n",
              "          quickchartButtonEl.classList.add('colab-df-spinner');\n",
              "          try {\n",
              "            const charts = await google.colab.kernel.invokeFunction(\n",
              "                'suggestCharts', [key], {});\n",
              "          } catch (error) {\n",
              "            console.error('Error during call to suggestCharts:', error);\n",
              "          }\n",
              "          quickchartButtonEl.classList.remove('colab-df-spinner');\n",
              "          quickchartButtonEl.classList.add('colab-df-quickchart-complete');\n",
              "        }\n",
              "        (() => {\n",
              "          let quickchartButtonEl =\n",
              "            document.querySelector('#df-91cdf32b-5e7c-41e5-8b12-abdc6171fee2 button');\n",
              "          quickchartButtonEl.style.display =\n",
              "            google.colab.kernel.accessAllowed ? 'block' : 'none';\n",
              "        })();\n",
              "      </script>\n",
              "    </div>\n",
              "\n",
              "    </div>\n",
              "  </div>\n"
            ],
            "application/vnd.google.colaboratory.intrinsic+json": {
              "type": "dataframe",
              "variable_name": "df",
              "summary": "{\n  \"name\": \"df\",\n  \"rows\": 55500,\n  \"fields\": [\n    {\n      \"column\": \"Name\",\n      \"properties\": {\n        \"dtype\": \"string\",\n        \"num_unique_values\": 49992,\n        \"samples\": [\n          \"LaURIE HenRy\",\n          \"vaNEssA HoLLANd\",\n          \"johN bLanCHarD\"\n        ],\n        \"semantic_type\": \"\",\n        \"description\": \"\"\n      }\n    },\n    {\n      \"column\": \"Age\",\n      \"properties\": {\n        \"dtype\": \"number\",\n        \"std\": 19,\n        \"min\": 13,\n        \"max\": 89,\n        \"num_unique_values\": 77,\n        \"samples\": [\n          43,\n          22,\n          72\n        ],\n        \"semantic_type\": \"\",\n        \"description\": \"\"\n      }\n    },\n    {\n      \"column\": \"Gender\",\n      \"properties\": {\n        \"dtype\": \"category\",\n        \"num_unique_values\": 2,\n        \"samples\": [\n          \"Female\",\n          \"Male\"\n        ],\n        \"semantic_type\": \"\",\n        \"description\": \"\"\n      }\n    },\n    {\n      \"column\": \"Blood Type\",\n      \"properties\": {\n        \"dtype\": \"category\",\n        \"num_unique_values\": 8,\n        \"samples\": [\n          \"A+\",\n          \"AB-\"\n        ],\n        \"semantic_type\": \"\",\n        \"description\": \"\"\n      }\n    },\n    {\n      \"column\": \"Medical Condition\",\n      \"properties\": {\n        \"dtype\": \"category\",\n        \"num_unique_values\": 6,\n        \"samples\": [\n          \"Cancer\",\n          \"Obesity\"\n        ],\n        \"semantic_type\": \"\",\n        \"description\": \"\"\n      }\n    },\n    {\n      \"column\": \"Date of Admission\",\n      \"properties\": {\n        \"dtype\": \"object\",\n        \"num_unique_values\": 1827,\n        \"samples\": [\n          \"2022-12-24\",\n          \"2022-02-14\"\n        ],\n        \"semantic_type\": \"\",\n        \"description\": \"\"\n      }\n    },\n    {\n      \"column\": \"Doctor\",\n      \"properties\": {\n        \"dtype\": \"string\",\n        \"num_unique_values\": 40341,\n        \"samples\": [\n          \"Aaron Curtis\",\n          \"Claudia Thompson\"\n        ],\n        \"semantic_type\": \"\",\n        \"description\": \"\"\n      }\n    },\n    {\n      \"column\": \"Hospital\",\n      \"properties\": {\n        \"dtype\": \"string\",\n        \"num_unique_values\": 39876,\n        \"samples\": [\n          \"Fitzpatrick-Robinson\",\n          \"Smith, Luna May and\"\n        ],\n        \"semantic_type\": \"\",\n        \"description\": \"\"\n      }\n    },\n    {\n      \"column\": \"Insurance Provider\",\n      \"properties\": {\n        \"dtype\": \"category\",\n        \"num_unique_values\": 5,\n        \"samples\": [\n          \"Medicare\",\n          \"Cigna\"\n        ],\n        \"semantic_type\": \"\",\n        \"description\": \"\"\n      }\n    },\n    {\n      \"column\": \"Billing Amount\",\n      \"properties\": {\n        \"dtype\": \"number\",\n        \"std\": 14211.45443086446,\n        \"min\": -2008.4921398591305,\n        \"max\": 52764.276736469175,\n        \"num_unique_values\": 50000,\n        \"samples\": [\n          41172.960486003554,\n          7672.233633429568\n        ],\n        \"semantic_type\": \"\",\n        \"description\": \"\"\n      }\n    },\n    {\n      \"column\": \"Room Number\",\n      \"properties\": {\n        \"dtype\": \"number\",\n        \"std\": 115,\n        \"min\": 101,\n        \"max\": 500,\n        \"num_unique_values\": 400,\n        \"samples\": [\n          176,\n          146\n        ],\n        \"semantic_type\": \"\",\n        \"description\": \"\"\n      }\n    },\n    {\n      \"column\": \"Admission Type\",\n      \"properties\": {\n        \"dtype\": \"category\",\n        \"num_unique_values\": 3,\n        \"samples\": [\n          \"Urgent\",\n          \"Emergency\"\n        ],\n        \"semantic_type\": \"\",\n        \"description\": \"\"\n      }\n    },\n    {\n      \"column\": \"Discharge Date\",\n      \"properties\": {\n        \"dtype\": \"object\",\n        \"num_unique_values\": 1856,\n        \"samples\": [\n          \"2020-10-29\",\n          \"2023-05-19\"\n        ],\n        \"semantic_type\": \"\",\n        \"description\": \"\"\n      }\n    },\n    {\n      \"column\": \"Medication\",\n      \"properties\": {\n        \"dtype\": \"category\",\n        \"num_unique_values\": 5,\n        \"samples\": [\n          \"Ibuprofen\",\n          \"Lipitor\"\n        ],\n        \"semantic_type\": \"\",\n        \"description\": \"\"\n      }\n    },\n    {\n      \"column\": \"Test Results\",\n      \"properties\": {\n        \"dtype\": \"category\",\n        \"num_unique_values\": 3,\n        \"samples\": [\n          \"Normal\",\n          \"Inconclusive\"\n        ],\n        \"semantic_type\": \"\",\n        \"description\": \"\"\n      }\n    }\n  ]\n}"
            }
          },
          "metadata": {},
          "execution_count": 4
        }
      ]
    },
    {
      "cell_type": "markdown",
      "source": [
        "Display the last 5 rows to get an initial idea of the dataset."
      ],
      "metadata": {
        "id": "pTEbxN2mXUvY"
      }
    },
    {
      "cell_type": "code",
      "source": [
        "df.tail()"
      ],
      "metadata": {
        "colab": {
          "base_uri": "https://localhost:8080/",
          "height": 382
        },
        "collapsed": true,
        "id": "gOHUyFHJXHC1",
        "outputId": "92f54c8a-1cf8-4509-d3f1-bc32bed8ff8b"
      },
      "execution_count": 5,
      "outputs": [
        {
          "output_type": "execute_result",
          "data": {
            "text/plain": [
              "                    Name  Age  Gender Blood Type Medical Condition  \\\n",
              "55495  eLIZABeTH jaCkSOn   42  Female         O+            Asthma   \n",
              "55496         KYle pEREz   61  Female        AB-           Obesity   \n",
              "55497       HEATher WaNG   38  Female         B+      Hypertension   \n",
              "55498     JENniFER JOneS   43    Male         O-         Arthritis   \n",
              "55499       jAMES GARCiA   53  Female         O+         Arthritis   \n",
              "\n",
              "      Date of Admission           Doctor                      Hospital  \\\n",
              "55495        2020-08-16    Joshua Jarvis                Jones-Thompson   \n",
              "55496        2020-01-23  Taylor Sullivan                  Tucker-Moyer   \n",
              "55497        2020-07-13   Joe Jacobs DVM  and Mahoney Johnson Vasquez,   \n",
              "55498        2019-05-25   Kimberly Curry      Jackson Todd and Castro,   \n",
              "55499        2024-04-02    Dennis Warren                Henry Sons and   \n",
              "\n",
              "      Insurance Provider  Billing Amount  Room Number Admission Type  \\\n",
              "55495         Blue Cross     2650.714952          417       Elective   \n",
              "55496              Cigna    31457.797307          316       Elective   \n",
              "55497   UnitedHealthcare    27620.764717          347         Urgent   \n",
              "55498           Medicare    32451.092358          321       Elective   \n",
              "55499              Aetna     4010.134172          448         Urgent   \n",
              "\n",
              "      Discharge Date  Medication Test Results  \n",
              "55495     2020-09-15  Penicillin     Abnormal  \n",
              "55496     2020-02-01     Aspirin       Normal  \n",
              "55497     2020-08-10   Ibuprofen     Abnormal  \n",
              "55498     2019-05-31   Ibuprofen     Abnormal  \n",
              "55499     2024-04-29   Ibuprofen     Abnormal  "
            ],
            "text/html": [
              "\n",
              "  <div id=\"df-401e5e3c-fc42-47cb-9dd0-8d184a3f700c\" class=\"colab-df-container\">\n",
              "    <div>\n",
              "<style scoped>\n",
              "    .dataframe tbody tr th:only-of-type {\n",
              "        vertical-align: middle;\n",
              "    }\n",
              "\n",
              "    .dataframe tbody tr th {\n",
              "        vertical-align: top;\n",
              "    }\n",
              "\n",
              "    .dataframe thead th {\n",
              "        text-align: right;\n",
              "    }\n",
              "</style>\n",
              "<table border=\"1\" class=\"dataframe\">\n",
              "  <thead>\n",
              "    <tr style=\"text-align: right;\">\n",
              "      <th></th>\n",
              "      <th>Name</th>\n",
              "      <th>Age</th>\n",
              "      <th>Gender</th>\n",
              "      <th>Blood Type</th>\n",
              "      <th>Medical Condition</th>\n",
              "      <th>Date of Admission</th>\n",
              "      <th>Doctor</th>\n",
              "      <th>Hospital</th>\n",
              "      <th>Insurance Provider</th>\n",
              "      <th>Billing Amount</th>\n",
              "      <th>Room Number</th>\n",
              "      <th>Admission Type</th>\n",
              "      <th>Discharge Date</th>\n",
              "      <th>Medication</th>\n",
              "      <th>Test Results</th>\n",
              "    </tr>\n",
              "  </thead>\n",
              "  <tbody>\n",
              "    <tr>\n",
              "      <th>55495</th>\n",
              "      <td>eLIZABeTH jaCkSOn</td>\n",
              "      <td>42</td>\n",
              "      <td>Female</td>\n",
              "      <td>O+</td>\n",
              "      <td>Asthma</td>\n",
              "      <td>2020-08-16</td>\n",
              "      <td>Joshua Jarvis</td>\n",
              "      <td>Jones-Thompson</td>\n",
              "      <td>Blue Cross</td>\n",
              "      <td>2650.714952</td>\n",
              "      <td>417</td>\n",
              "      <td>Elective</td>\n",
              "      <td>2020-09-15</td>\n",
              "      <td>Penicillin</td>\n",
              "      <td>Abnormal</td>\n",
              "    </tr>\n",
              "    <tr>\n",
              "      <th>55496</th>\n",
              "      <td>KYle pEREz</td>\n",
              "      <td>61</td>\n",
              "      <td>Female</td>\n",
              "      <td>AB-</td>\n",
              "      <td>Obesity</td>\n",
              "      <td>2020-01-23</td>\n",
              "      <td>Taylor Sullivan</td>\n",
              "      <td>Tucker-Moyer</td>\n",
              "      <td>Cigna</td>\n",
              "      <td>31457.797307</td>\n",
              "      <td>316</td>\n",
              "      <td>Elective</td>\n",
              "      <td>2020-02-01</td>\n",
              "      <td>Aspirin</td>\n",
              "      <td>Normal</td>\n",
              "    </tr>\n",
              "    <tr>\n",
              "      <th>55497</th>\n",
              "      <td>HEATher WaNG</td>\n",
              "      <td>38</td>\n",
              "      <td>Female</td>\n",
              "      <td>B+</td>\n",
              "      <td>Hypertension</td>\n",
              "      <td>2020-07-13</td>\n",
              "      <td>Joe Jacobs DVM</td>\n",
              "      <td>and Mahoney Johnson Vasquez,</td>\n",
              "      <td>UnitedHealthcare</td>\n",
              "      <td>27620.764717</td>\n",
              "      <td>347</td>\n",
              "      <td>Urgent</td>\n",
              "      <td>2020-08-10</td>\n",
              "      <td>Ibuprofen</td>\n",
              "      <td>Abnormal</td>\n",
              "    </tr>\n",
              "    <tr>\n",
              "      <th>55498</th>\n",
              "      <td>JENniFER JOneS</td>\n",
              "      <td>43</td>\n",
              "      <td>Male</td>\n",
              "      <td>O-</td>\n",
              "      <td>Arthritis</td>\n",
              "      <td>2019-05-25</td>\n",
              "      <td>Kimberly Curry</td>\n",
              "      <td>Jackson Todd and Castro,</td>\n",
              "      <td>Medicare</td>\n",
              "      <td>32451.092358</td>\n",
              "      <td>321</td>\n",
              "      <td>Elective</td>\n",
              "      <td>2019-05-31</td>\n",
              "      <td>Ibuprofen</td>\n",
              "      <td>Abnormal</td>\n",
              "    </tr>\n",
              "    <tr>\n",
              "      <th>55499</th>\n",
              "      <td>jAMES GARCiA</td>\n",
              "      <td>53</td>\n",
              "      <td>Female</td>\n",
              "      <td>O+</td>\n",
              "      <td>Arthritis</td>\n",
              "      <td>2024-04-02</td>\n",
              "      <td>Dennis Warren</td>\n",
              "      <td>Henry Sons and</td>\n",
              "      <td>Aetna</td>\n",
              "      <td>4010.134172</td>\n",
              "      <td>448</td>\n",
              "      <td>Urgent</td>\n",
              "      <td>2024-04-29</td>\n",
              "      <td>Ibuprofen</td>\n",
              "      <td>Abnormal</td>\n",
              "    </tr>\n",
              "  </tbody>\n",
              "</table>\n",
              "</div>\n",
              "    <div class=\"colab-df-buttons\">\n",
              "\n",
              "  <div class=\"colab-df-container\">\n",
              "    <button class=\"colab-df-convert\" onclick=\"convertToInteractive('df-401e5e3c-fc42-47cb-9dd0-8d184a3f700c')\"\n",
              "            title=\"Convert this dataframe to an interactive table.\"\n",
              "            style=\"display:none;\">\n",
              "\n",
              "  <svg xmlns=\"http://www.w3.org/2000/svg\" height=\"24px\" viewBox=\"0 -960 960 960\">\n",
              "    <path d=\"M120-120v-720h720v720H120Zm60-500h600v-160H180v160Zm220 220h160v-160H400v160Zm0 220h160v-160H400v160ZM180-400h160v-160H180v160Zm440 0h160v-160H620v160ZM180-180h160v-160H180v160Zm440 0h160v-160H620v160Z\"/>\n",
              "  </svg>\n",
              "    </button>\n",
              "\n",
              "  <style>\n",
              "    .colab-df-container {\n",
              "      display:flex;\n",
              "      gap: 12px;\n",
              "    }\n",
              "\n",
              "    .colab-df-convert {\n",
              "      background-color: #E8F0FE;\n",
              "      border: none;\n",
              "      border-radius: 50%;\n",
              "      cursor: pointer;\n",
              "      display: none;\n",
              "      fill: #1967D2;\n",
              "      height: 32px;\n",
              "      padding: 0 0 0 0;\n",
              "      width: 32px;\n",
              "    }\n",
              "\n",
              "    .colab-df-convert:hover {\n",
              "      background-color: #E2EBFA;\n",
              "      box-shadow: 0px 1px 2px rgba(60, 64, 67, 0.3), 0px 1px 3px 1px rgba(60, 64, 67, 0.15);\n",
              "      fill: #174EA6;\n",
              "    }\n",
              "\n",
              "    .colab-df-buttons div {\n",
              "      margin-bottom: 4px;\n",
              "    }\n",
              "\n",
              "    [theme=dark] .colab-df-convert {\n",
              "      background-color: #3B4455;\n",
              "      fill: #D2E3FC;\n",
              "    }\n",
              "\n",
              "    [theme=dark] .colab-df-convert:hover {\n",
              "      background-color: #434B5C;\n",
              "      box-shadow: 0px 1px 3px 1px rgba(0, 0, 0, 0.15);\n",
              "      filter: drop-shadow(0px 1px 2px rgba(0, 0, 0, 0.3));\n",
              "      fill: #FFFFFF;\n",
              "    }\n",
              "  </style>\n",
              "\n",
              "    <script>\n",
              "      const buttonEl =\n",
              "        document.querySelector('#df-401e5e3c-fc42-47cb-9dd0-8d184a3f700c button.colab-df-convert');\n",
              "      buttonEl.style.display =\n",
              "        google.colab.kernel.accessAllowed ? 'block' : 'none';\n",
              "\n",
              "      async function convertToInteractive(key) {\n",
              "        const element = document.querySelector('#df-401e5e3c-fc42-47cb-9dd0-8d184a3f700c');\n",
              "        const dataTable =\n",
              "          await google.colab.kernel.invokeFunction('convertToInteractive',\n",
              "                                                    [key], {});\n",
              "        if (!dataTable) return;\n",
              "\n",
              "        const docLinkHtml = 'Like what you see? Visit the ' +\n",
              "          '<a target=\"_blank\" href=https://colab.research.google.com/notebooks/data_table.ipynb>data table notebook</a>'\n",
              "          + ' to learn more about interactive tables.';\n",
              "        element.innerHTML = '';\n",
              "        dataTable['output_type'] = 'display_data';\n",
              "        await google.colab.output.renderOutput(dataTable, element);\n",
              "        const docLink = document.createElement('div');\n",
              "        docLink.innerHTML = docLinkHtml;\n",
              "        element.appendChild(docLink);\n",
              "      }\n",
              "    </script>\n",
              "  </div>\n",
              "\n",
              "\n",
              "    <div id=\"df-ed3ae281-4002-4ba3-be82-e3dfb485c8d8\">\n",
              "      <button class=\"colab-df-quickchart\" onclick=\"quickchart('df-ed3ae281-4002-4ba3-be82-e3dfb485c8d8')\"\n",
              "                title=\"Suggest charts\"\n",
              "                style=\"display:none;\">\n",
              "\n",
              "<svg xmlns=\"http://www.w3.org/2000/svg\" height=\"24px\"viewBox=\"0 0 24 24\"\n",
              "     width=\"24px\">\n",
              "    <g>\n",
              "        <path d=\"M19 3H5c-1.1 0-2 .9-2 2v14c0 1.1.9 2 2 2h14c1.1 0 2-.9 2-2V5c0-1.1-.9-2-2-2zM9 17H7v-7h2v7zm4 0h-2V7h2v10zm4 0h-2v-4h2v4z\"/>\n",
              "    </g>\n",
              "</svg>\n",
              "      </button>\n",
              "\n",
              "<style>\n",
              "  .colab-df-quickchart {\n",
              "      --bg-color: #E8F0FE;\n",
              "      --fill-color: #1967D2;\n",
              "      --hover-bg-color: #E2EBFA;\n",
              "      --hover-fill-color: #174EA6;\n",
              "      --disabled-fill-color: #AAA;\n",
              "      --disabled-bg-color: #DDD;\n",
              "  }\n",
              "\n",
              "  [theme=dark] .colab-df-quickchart {\n",
              "      --bg-color: #3B4455;\n",
              "      --fill-color: #D2E3FC;\n",
              "      --hover-bg-color: #434B5C;\n",
              "      --hover-fill-color: #FFFFFF;\n",
              "      --disabled-bg-color: #3B4455;\n",
              "      --disabled-fill-color: #666;\n",
              "  }\n",
              "\n",
              "  .colab-df-quickchart {\n",
              "    background-color: var(--bg-color);\n",
              "    border: none;\n",
              "    border-radius: 50%;\n",
              "    cursor: pointer;\n",
              "    display: none;\n",
              "    fill: var(--fill-color);\n",
              "    height: 32px;\n",
              "    padding: 0;\n",
              "    width: 32px;\n",
              "  }\n",
              "\n",
              "  .colab-df-quickchart:hover {\n",
              "    background-color: var(--hover-bg-color);\n",
              "    box-shadow: 0 1px 2px rgba(60, 64, 67, 0.3), 0 1px 3px 1px rgba(60, 64, 67, 0.15);\n",
              "    fill: var(--button-hover-fill-color);\n",
              "  }\n",
              "\n",
              "  .colab-df-quickchart-complete:disabled,\n",
              "  .colab-df-quickchart-complete:disabled:hover {\n",
              "    background-color: var(--disabled-bg-color);\n",
              "    fill: var(--disabled-fill-color);\n",
              "    box-shadow: none;\n",
              "  }\n",
              "\n",
              "  .colab-df-spinner {\n",
              "    border: 2px solid var(--fill-color);\n",
              "    border-color: transparent;\n",
              "    border-bottom-color: var(--fill-color);\n",
              "    animation:\n",
              "      spin 1s steps(1) infinite;\n",
              "  }\n",
              "\n",
              "  @keyframes spin {\n",
              "    0% {\n",
              "      border-color: transparent;\n",
              "      border-bottom-color: var(--fill-color);\n",
              "      border-left-color: var(--fill-color);\n",
              "    }\n",
              "    20% {\n",
              "      border-color: transparent;\n",
              "      border-left-color: var(--fill-color);\n",
              "      border-top-color: var(--fill-color);\n",
              "    }\n",
              "    30% {\n",
              "      border-color: transparent;\n",
              "      border-left-color: var(--fill-color);\n",
              "      border-top-color: var(--fill-color);\n",
              "      border-right-color: var(--fill-color);\n",
              "    }\n",
              "    40% {\n",
              "      border-color: transparent;\n",
              "      border-right-color: var(--fill-color);\n",
              "      border-top-color: var(--fill-color);\n",
              "    }\n",
              "    60% {\n",
              "      border-color: transparent;\n",
              "      border-right-color: var(--fill-color);\n",
              "    }\n",
              "    80% {\n",
              "      border-color: transparent;\n",
              "      border-right-color: var(--fill-color);\n",
              "      border-bottom-color: var(--fill-color);\n",
              "    }\n",
              "    90% {\n",
              "      border-color: transparent;\n",
              "      border-bottom-color: var(--fill-color);\n",
              "    }\n",
              "  }\n",
              "</style>\n",
              "\n",
              "      <script>\n",
              "        async function quickchart(key) {\n",
              "          const quickchartButtonEl =\n",
              "            document.querySelector('#' + key + ' button');\n",
              "          quickchartButtonEl.disabled = true;  // To prevent multiple clicks.\n",
              "          quickchartButtonEl.classList.add('colab-df-spinner');\n",
              "          try {\n",
              "            const charts = await google.colab.kernel.invokeFunction(\n",
              "                'suggestCharts', [key], {});\n",
              "          } catch (error) {\n",
              "            console.error('Error during call to suggestCharts:', error);\n",
              "          }\n",
              "          quickchartButtonEl.classList.remove('colab-df-spinner');\n",
              "          quickchartButtonEl.classList.add('colab-df-quickchart-complete');\n",
              "        }\n",
              "        (() => {\n",
              "          let quickchartButtonEl =\n",
              "            document.querySelector('#df-ed3ae281-4002-4ba3-be82-e3dfb485c8d8 button');\n",
              "          quickchartButtonEl.style.display =\n",
              "            google.colab.kernel.accessAllowed ? 'block' : 'none';\n",
              "        })();\n",
              "      </script>\n",
              "    </div>\n",
              "\n",
              "    </div>\n",
              "  </div>\n"
            ],
            "application/vnd.google.colaboratory.intrinsic+json": {
              "type": "dataframe",
              "repr_error": "0"
            }
          },
          "metadata": {},
          "execution_count": 5
        }
      ]
    },
    {
      "cell_type": "markdown",
      "source": [
        "##**1.4. Dataset Shape And Size**"
      ],
      "metadata": {
        "id": "GzngiZ1kXkLx"
      }
    },
    {
      "cell_type": "markdown",
      "source": [
        "###**1.4.1. Shape**"
      ],
      "metadata": {
        "id": "rkYsxCe7X-KR"
      }
    },
    {
      "cell_type": "markdown",
      "source": [
        "Check the number of rows and columns in the datase"
      ],
      "metadata": {
        "id": "_-OEtnAqX16h"
      }
    },
    {
      "cell_type": "code",
      "source": [
        "df.shape"
      ],
      "metadata": {
        "colab": {
          "base_uri": "https://localhost:8080/"
        },
        "id": "0oh0wJZzXsxI",
        "outputId": "0e152b89-e42d-43be-bdbc-423680ccbbec"
      },
      "execution_count": 6,
      "outputs": [
        {
          "output_type": "execute_result",
          "data": {
            "text/plain": [
              "(55500, 15)"
            ]
          },
          "metadata": {},
          "execution_count": 6
        }
      ]
    },
    {
      "cell_type": "markdown",
      "source": [
        "The dataset has 15 columns and 55500 rows"
      ],
      "metadata": {
        "id": "YwmlKYf7Wtlt"
      }
    },
    {
      "cell_type": "markdown",
      "source": [
        "###**1.4.2. Size**"
      ],
      "metadata": {
        "id": "QizAPShUYDhm"
      }
    },
    {
      "cell_type": "markdown",
      "source": [
        "Total records in the dataset"
      ],
      "metadata": {
        "id": "roef6DueX33A"
      }
    },
    {
      "cell_type": "code",
      "source": [
        "df.size"
      ],
      "metadata": {
        "colab": {
          "base_uri": "https://localhost:8080/"
        },
        "id": "gJllwcPoXx9M",
        "outputId": "1bc9444e-b121-48dd-8f06-8a74668bbc39"
      },
      "execution_count": 7,
      "outputs": [
        {
          "output_type": "execute_result",
          "data": {
            "text/plain": [
              "832500"
            ]
          },
          "metadata": {},
          "execution_count": 7
        }
      ]
    },
    {
      "cell_type": "markdown",
      "source": [
        "In total there are 8,32,500 values in the dataset ."
      ],
      "metadata": {
        "id": "inpCVzGTW5Jx"
      }
    },
    {
      "cell_type": "markdown",
      "source": [
        "##**1.5. Dataset Columns**"
      ],
      "metadata": {
        "id": "fgl4O2SE8NX4"
      }
    },
    {
      "cell_type": "code",
      "source": [
        "df.columns"
      ],
      "metadata": {
        "colab": {
          "base_uri": "https://localhost:8080/"
        },
        "id": "6OT99AQS8S9t",
        "outputId": "d0f61709-48df-4593-e857-d3d31801d975"
      },
      "execution_count": 8,
      "outputs": [
        {
          "output_type": "execute_result",
          "data": {
            "text/plain": [
              "Index(['Name', 'Age', 'Gender', 'Blood Type', 'Medical Condition',\n",
              "       'Date of Admission', 'Doctor', 'Hospital', 'Insurance Provider',\n",
              "       'Billing Amount', 'Room Number', 'Admission Type', 'Discharge Date',\n",
              "       'Medication', 'Test Results'],\n",
              "      dtype='object')"
            ]
          },
          "metadata": {},
          "execution_count": 8
        }
      ]
    },
    {
      "cell_type": "markdown",
      "source": [
        "##**1.6. Dataset Summary**"
      ],
      "metadata": {
        "id": "C6xzkPP0YTyk"
      }
    },
    {
      "cell_type": "markdown",
      "source": [
        "###**1.6.1 Check Dataset Information**"
      ],
      "metadata": {
        "id": "8a-fuTFJXayQ"
      }
    },
    {
      "cell_type": "code",
      "source": [
        "df.info()"
      ],
      "metadata": {
        "colab": {
          "base_uri": "https://localhost:8080/"
        },
        "id": "_0quTpARYZl4",
        "outputId": "ea73ab67-5053-4441-c6e0-842da2dee4c6"
      },
      "execution_count": 9,
      "outputs": [
        {
          "output_type": "stream",
          "name": "stdout",
          "text": [
            "<class 'pandas.core.frame.DataFrame'>\n",
            "RangeIndex: 55500 entries, 0 to 55499\n",
            "Data columns (total 15 columns):\n",
            " #   Column              Non-Null Count  Dtype  \n",
            "---  ------              --------------  -----  \n",
            " 0   Name                55500 non-null  object \n",
            " 1   Age                 55500 non-null  int64  \n",
            " 2   Gender              55500 non-null  object \n",
            " 3   Blood Type          55500 non-null  object \n",
            " 4   Medical Condition   55500 non-null  object \n",
            " 5   Date of Admission   55500 non-null  object \n",
            " 6   Doctor              55500 non-null  object \n",
            " 7   Hospital            55500 non-null  object \n",
            " 8   Insurance Provider  55500 non-null  object \n",
            " 9   Billing Amount      55500 non-null  float64\n",
            " 10  Room Number         55500 non-null  int64  \n",
            " 11  Admission Type      55500 non-null  object \n",
            " 12  Discharge Date      55500 non-null  object \n",
            " 13  Medication          55500 non-null  object \n",
            " 14  Test Results        55500 non-null  object \n",
            "dtypes: float64(1), int64(2), object(12)\n",
            "memory usage: 6.4+ MB\n"
          ]
        }
      ]
    },
    {
      "cell_type": "markdown",
      "source": [
        "✅ No missing values in any column — this is excellent.\n",
        "\n",
        "🛠️ Date columns (Date of Admission, Discharge Date) are in object type and should be converted to datetime.\n",
        "\n",
        "🧹 Columns like Name and Room Number may not be meaningful for analysis unless needed for specific use cases.\n",
        "\n",
        "💊 Columns like Medical Condition, Medication, Test Results might need value count analysis, and if free text, some cleaning or grouping.\n"
      ],
      "metadata": {
        "id": "4F2l3DpjY5qH"
      }
    },
    {
      "cell_type": "markdown",
      "source": [
        "###**1.6.2. Statistical Summary Of Dataset**"
      ],
      "metadata": {
        "id": "EQgp-i-KmCvU"
      }
    },
    {
      "cell_type": "markdown",
      "source": [
        "Catgorizing all the columns into groups"
      ],
      "metadata": {
        "id": "iGHz_ftl_Kr0"
      }
    },
    {
      "cell_type": "code",
      "source": [
        "# Categorical Columns (object or string type)\n",
        "categorical_cols = df.select_dtypes(include=['object']).columns.tolist()\n",
        "\n",
        "# Numerical Columns (int or float type)\n",
        "numerical_cols = df.select_dtypes(include=['int64', 'float64']).columns.tolist()\n",
        "\n",
        "print(\"🟢 Categorical Columns:\\n\", categorical_cols)\n",
        "print(\"\\n🔵 Numerical Columns:\\n\", numerical_cols)\n"
      ],
      "metadata": {
        "colab": {
          "base_uri": "https://localhost:8080/"
        },
        "id": "JsK8pcrb-7us",
        "outputId": "42eb0d87-0757-4e7b-8c80-8baf7dc9d36b"
      },
      "execution_count": 10,
      "outputs": [
        {
          "output_type": "stream",
          "name": "stdout",
          "text": [
            "🟢 Categorical Columns:\n",
            " ['Name', 'Gender', 'Blood Type', 'Medical Condition', 'Date of Admission', 'Doctor', 'Hospital', 'Insurance Provider', 'Admission Type', 'Discharge Date', 'Medication', 'Test Results']\n",
            "\n",
            "🔵 Numerical Columns:\n",
            " ['Age', 'Billing Amount', 'Room Number']\n"
          ]
        }
      ]
    },
    {
      "cell_type": "markdown",
      "source": [
        "####**A. Statistical Summary Of Numerical Columns**"
      ],
      "metadata": {
        "id": "T30iHXD1q7rS"
      }
    },
    {
      "cell_type": "code",
      "source": [
        "df.describe().round()"
      ],
      "metadata": {
        "colab": {
          "base_uri": "https://localhost:8080/",
          "height": 300
        },
        "id": "qI5Z0Ww3mCId",
        "outputId": "c4e966f5-3e65-4c18-acef-3ccde29c5908"
      },
      "execution_count": 11,
      "outputs": [
        {
          "output_type": "execute_result",
          "data": {
            "text/plain": [
              "           Age  Billing Amount  Room Number\n",
              "count  55500.0         55500.0      55500.0\n",
              "mean      52.0         25539.0        301.0\n",
              "std       20.0         14211.0        115.0\n",
              "min       13.0         -2008.0        101.0\n",
              "25%       35.0         13241.0        202.0\n",
              "50%       52.0         25538.0        302.0\n",
              "75%       68.0         37821.0        401.0\n",
              "max       89.0         52764.0        500.0"
            ],
            "text/html": [
              "\n",
              "  <div id=\"df-4b7fc43b-340d-4ffa-bef5-0e01c9676a1f\" class=\"colab-df-container\">\n",
              "    <div>\n",
              "<style scoped>\n",
              "    .dataframe tbody tr th:only-of-type {\n",
              "        vertical-align: middle;\n",
              "    }\n",
              "\n",
              "    .dataframe tbody tr th {\n",
              "        vertical-align: top;\n",
              "    }\n",
              "\n",
              "    .dataframe thead th {\n",
              "        text-align: right;\n",
              "    }\n",
              "</style>\n",
              "<table border=\"1\" class=\"dataframe\">\n",
              "  <thead>\n",
              "    <tr style=\"text-align: right;\">\n",
              "      <th></th>\n",
              "      <th>Age</th>\n",
              "      <th>Billing Amount</th>\n",
              "      <th>Room Number</th>\n",
              "    </tr>\n",
              "  </thead>\n",
              "  <tbody>\n",
              "    <tr>\n",
              "      <th>count</th>\n",
              "      <td>55500.0</td>\n",
              "      <td>55500.0</td>\n",
              "      <td>55500.0</td>\n",
              "    </tr>\n",
              "    <tr>\n",
              "      <th>mean</th>\n",
              "      <td>52.0</td>\n",
              "      <td>25539.0</td>\n",
              "      <td>301.0</td>\n",
              "    </tr>\n",
              "    <tr>\n",
              "      <th>std</th>\n",
              "      <td>20.0</td>\n",
              "      <td>14211.0</td>\n",
              "      <td>115.0</td>\n",
              "    </tr>\n",
              "    <tr>\n",
              "      <th>min</th>\n",
              "      <td>13.0</td>\n",
              "      <td>-2008.0</td>\n",
              "      <td>101.0</td>\n",
              "    </tr>\n",
              "    <tr>\n",
              "      <th>25%</th>\n",
              "      <td>35.0</td>\n",
              "      <td>13241.0</td>\n",
              "      <td>202.0</td>\n",
              "    </tr>\n",
              "    <tr>\n",
              "      <th>50%</th>\n",
              "      <td>52.0</td>\n",
              "      <td>25538.0</td>\n",
              "      <td>302.0</td>\n",
              "    </tr>\n",
              "    <tr>\n",
              "      <th>75%</th>\n",
              "      <td>68.0</td>\n",
              "      <td>37821.0</td>\n",
              "      <td>401.0</td>\n",
              "    </tr>\n",
              "    <tr>\n",
              "      <th>max</th>\n",
              "      <td>89.0</td>\n",
              "      <td>52764.0</td>\n",
              "      <td>500.0</td>\n",
              "    </tr>\n",
              "  </tbody>\n",
              "</table>\n",
              "</div>\n",
              "    <div class=\"colab-df-buttons\">\n",
              "\n",
              "  <div class=\"colab-df-container\">\n",
              "    <button class=\"colab-df-convert\" onclick=\"convertToInteractive('df-4b7fc43b-340d-4ffa-bef5-0e01c9676a1f')\"\n",
              "            title=\"Convert this dataframe to an interactive table.\"\n",
              "            style=\"display:none;\">\n",
              "\n",
              "  <svg xmlns=\"http://www.w3.org/2000/svg\" height=\"24px\" viewBox=\"0 -960 960 960\">\n",
              "    <path d=\"M120-120v-720h720v720H120Zm60-500h600v-160H180v160Zm220 220h160v-160H400v160Zm0 220h160v-160H400v160ZM180-400h160v-160H180v160Zm440 0h160v-160H620v160ZM180-180h160v-160H180v160Zm440 0h160v-160H620v160Z\"/>\n",
              "  </svg>\n",
              "    </button>\n",
              "\n",
              "  <style>\n",
              "    .colab-df-container {\n",
              "      display:flex;\n",
              "      gap: 12px;\n",
              "    }\n",
              "\n",
              "    .colab-df-convert {\n",
              "      background-color: #E8F0FE;\n",
              "      border: none;\n",
              "      border-radius: 50%;\n",
              "      cursor: pointer;\n",
              "      display: none;\n",
              "      fill: #1967D2;\n",
              "      height: 32px;\n",
              "      padding: 0 0 0 0;\n",
              "      width: 32px;\n",
              "    }\n",
              "\n",
              "    .colab-df-convert:hover {\n",
              "      background-color: #E2EBFA;\n",
              "      box-shadow: 0px 1px 2px rgba(60, 64, 67, 0.3), 0px 1px 3px 1px rgba(60, 64, 67, 0.15);\n",
              "      fill: #174EA6;\n",
              "    }\n",
              "\n",
              "    .colab-df-buttons div {\n",
              "      margin-bottom: 4px;\n",
              "    }\n",
              "\n",
              "    [theme=dark] .colab-df-convert {\n",
              "      background-color: #3B4455;\n",
              "      fill: #D2E3FC;\n",
              "    }\n",
              "\n",
              "    [theme=dark] .colab-df-convert:hover {\n",
              "      background-color: #434B5C;\n",
              "      box-shadow: 0px 1px 3px 1px rgba(0, 0, 0, 0.15);\n",
              "      filter: drop-shadow(0px 1px 2px rgba(0, 0, 0, 0.3));\n",
              "      fill: #FFFFFF;\n",
              "    }\n",
              "  </style>\n",
              "\n",
              "    <script>\n",
              "      const buttonEl =\n",
              "        document.querySelector('#df-4b7fc43b-340d-4ffa-bef5-0e01c9676a1f button.colab-df-convert');\n",
              "      buttonEl.style.display =\n",
              "        google.colab.kernel.accessAllowed ? 'block' : 'none';\n",
              "\n",
              "      async function convertToInteractive(key) {\n",
              "        const element = document.querySelector('#df-4b7fc43b-340d-4ffa-bef5-0e01c9676a1f');\n",
              "        const dataTable =\n",
              "          await google.colab.kernel.invokeFunction('convertToInteractive',\n",
              "                                                    [key], {});\n",
              "        if (!dataTable) return;\n",
              "\n",
              "        const docLinkHtml = 'Like what you see? Visit the ' +\n",
              "          '<a target=\"_blank\" href=https://colab.research.google.com/notebooks/data_table.ipynb>data table notebook</a>'\n",
              "          + ' to learn more about interactive tables.';\n",
              "        element.innerHTML = '';\n",
              "        dataTable['output_type'] = 'display_data';\n",
              "        await google.colab.output.renderOutput(dataTable, element);\n",
              "        const docLink = document.createElement('div');\n",
              "        docLink.innerHTML = docLinkHtml;\n",
              "        element.appendChild(docLink);\n",
              "      }\n",
              "    </script>\n",
              "  </div>\n",
              "\n",
              "\n",
              "    <div id=\"df-f9fcb91b-c902-49c8-be3d-1f38aed24822\">\n",
              "      <button class=\"colab-df-quickchart\" onclick=\"quickchart('df-f9fcb91b-c902-49c8-be3d-1f38aed24822')\"\n",
              "                title=\"Suggest charts\"\n",
              "                style=\"display:none;\">\n",
              "\n",
              "<svg xmlns=\"http://www.w3.org/2000/svg\" height=\"24px\"viewBox=\"0 0 24 24\"\n",
              "     width=\"24px\">\n",
              "    <g>\n",
              "        <path d=\"M19 3H5c-1.1 0-2 .9-2 2v14c0 1.1.9 2 2 2h14c1.1 0 2-.9 2-2V5c0-1.1-.9-2-2-2zM9 17H7v-7h2v7zm4 0h-2V7h2v10zm4 0h-2v-4h2v4z\"/>\n",
              "    </g>\n",
              "</svg>\n",
              "      </button>\n",
              "\n",
              "<style>\n",
              "  .colab-df-quickchart {\n",
              "      --bg-color: #E8F0FE;\n",
              "      --fill-color: #1967D2;\n",
              "      --hover-bg-color: #E2EBFA;\n",
              "      --hover-fill-color: #174EA6;\n",
              "      --disabled-fill-color: #AAA;\n",
              "      --disabled-bg-color: #DDD;\n",
              "  }\n",
              "\n",
              "  [theme=dark] .colab-df-quickchart {\n",
              "      --bg-color: #3B4455;\n",
              "      --fill-color: #D2E3FC;\n",
              "      --hover-bg-color: #434B5C;\n",
              "      --hover-fill-color: #FFFFFF;\n",
              "      --disabled-bg-color: #3B4455;\n",
              "      --disabled-fill-color: #666;\n",
              "  }\n",
              "\n",
              "  .colab-df-quickchart {\n",
              "    background-color: var(--bg-color);\n",
              "    border: none;\n",
              "    border-radius: 50%;\n",
              "    cursor: pointer;\n",
              "    display: none;\n",
              "    fill: var(--fill-color);\n",
              "    height: 32px;\n",
              "    padding: 0;\n",
              "    width: 32px;\n",
              "  }\n",
              "\n",
              "  .colab-df-quickchart:hover {\n",
              "    background-color: var(--hover-bg-color);\n",
              "    box-shadow: 0 1px 2px rgba(60, 64, 67, 0.3), 0 1px 3px 1px rgba(60, 64, 67, 0.15);\n",
              "    fill: var(--button-hover-fill-color);\n",
              "  }\n",
              "\n",
              "  .colab-df-quickchart-complete:disabled,\n",
              "  .colab-df-quickchart-complete:disabled:hover {\n",
              "    background-color: var(--disabled-bg-color);\n",
              "    fill: var(--disabled-fill-color);\n",
              "    box-shadow: none;\n",
              "  }\n",
              "\n",
              "  .colab-df-spinner {\n",
              "    border: 2px solid var(--fill-color);\n",
              "    border-color: transparent;\n",
              "    border-bottom-color: var(--fill-color);\n",
              "    animation:\n",
              "      spin 1s steps(1) infinite;\n",
              "  }\n",
              "\n",
              "  @keyframes spin {\n",
              "    0% {\n",
              "      border-color: transparent;\n",
              "      border-bottom-color: var(--fill-color);\n",
              "      border-left-color: var(--fill-color);\n",
              "    }\n",
              "    20% {\n",
              "      border-color: transparent;\n",
              "      border-left-color: var(--fill-color);\n",
              "      border-top-color: var(--fill-color);\n",
              "    }\n",
              "    30% {\n",
              "      border-color: transparent;\n",
              "      border-left-color: var(--fill-color);\n",
              "      border-top-color: var(--fill-color);\n",
              "      border-right-color: var(--fill-color);\n",
              "    }\n",
              "    40% {\n",
              "      border-color: transparent;\n",
              "      border-right-color: var(--fill-color);\n",
              "      border-top-color: var(--fill-color);\n",
              "    }\n",
              "    60% {\n",
              "      border-color: transparent;\n",
              "      border-right-color: var(--fill-color);\n",
              "    }\n",
              "    80% {\n",
              "      border-color: transparent;\n",
              "      border-right-color: var(--fill-color);\n",
              "      border-bottom-color: var(--fill-color);\n",
              "    }\n",
              "    90% {\n",
              "      border-color: transparent;\n",
              "      border-bottom-color: var(--fill-color);\n",
              "    }\n",
              "  }\n",
              "</style>\n",
              "\n",
              "      <script>\n",
              "        async function quickchart(key) {\n",
              "          const quickchartButtonEl =\n",
              "            document.querySelector('#' + key + ' button');\n",
              "          quickchartButtonEl.disabled = true;  // To prevent multiple clicks.\n",
              "          quickchartButtonEl.classList.add('colab-df-spinner');\n",
              "          try {\n",
              "            const charts = await google.colab.kernel.invokeFunction(\n",
              "                'suggestCharts', [key], {});\n",
              "          } catch (error) {\n",
              "            console.error('Error during call to suggestCharts:', error);\n",
              "          }\n",
              "          quickchartButtonEl.classList.remove('colab-df-spinner');\n",
              "          quickchartButtonEl.classList.add('colab-df-quickchart-complete');\n",
              "        }\n",
              "        (() => {\n",
              "          let quickchartButtonEl =\n",
              "            document.querySelector('#df-f9fcb91b-c902-49c8-be3d-1f38aed24822 button');\n",
              "          quickchartButtonEl.style.display =\n",
              "            google.colab.kernel.accessAllowed ? 'block' : 'none';\n",
              "        })();\n",
              "      </script>\n",
              "    </div>\n",
              "\n",
              "    </div>\n",
              "  </div>\n"
            ],
            "application/vnd.google.colaboratory.intrinsic+json": {
              "type": "dataframe",
              "summary": "{\n  \"name\": \"df\",\n  \"rows\": 8,\n  \"fields\": [\n    {\n      \"column\": \"Age\",\n      \"properties\": {\n        \"dtype\": \"number\",\n        \"std\": 19605.61177635118,\n        \"min\": 13.0,\n        \"max\": 55500.0,\n        \"num_unique_values\": 7,\n        \"samples\": [\n          55500.0,\n          52.0,\n          68.0\n        ],\n        \"semantic_type\": \"\",\n        \"description\": \"\"\n      }\n    },\n    {\n      \"column\": \"Billing Amount\",\n      \"properties\": {\n        \"dtype\": \"number\",\n        \"std\": 19950.93074627991,\n        \"min\": -2008.0,\n        \"max\": 55500.0,\n        \"num_unique_values\": 8,\n        \"samples\": [\n          25539.0,\n          25538.0,\n          55500.0\n        ],\n        \"semantic_type\": \"\",\n        \"description\": \"\"\n      }\n    },\n    {\n      \"column\": \"Room Number\",\n      \"properties\": {\n        \"dtype\": \"number\",\n        \"std\": 19525.60983316892,\n        \"min\": 101.0,\n        \"max\": 55500.0,\n        \"num_unique_values\": 8,\n        \"samples\": [\n          301.0,\n          302.0,\n          55500.0\n        ],\n        \"semantic_type\": \"\",\n        \"description\": \"\"\n      }\n    }\n  ]\n}"
            }
          },
          "metadata": {},
          "execution_count": 11
        }
      ]
    },
    {
      "cell_type": "markdown",
      "source": [
        "#####**Interpretation**"
      ],
      "metadata": {
        "id": "vQ2b1jFgrRS6"
      }
    },
    {
      "cell_type": "markdown",
      "source": [
        "**🔶 Age**\n",
        "\n",
        "The dataset represents a wide age range of patients (13 to 89 years), with a mean and median age of 52, indicating a balanced and symmetrical distribution. The majority of patients (middle 50%) fall between ages 35 and 68, suggesting that most admissions are from middle-aged to elderly individuals.\n",
        "\n",
        "\n",
        "**💸 Billing Amount**\n",
        "\n",
        "The mean and median billing amount is ₹25,539, indicating a generally consistent billing pattern across patients. **However, the presence of negative billing (-₹2,008) is a red flag, likely representing data entry errors or refunds, and should be cleaned before analysis.** The standard deviation of ₹14,211 reflects a wide variability in healthcare costs, possibly due to different treatments, facilities, or durations of stay.\n",
        "\n",
        "\n",
        "**🏨 Room Number**\n",
        "\n",
        "Rooms are numbered from 101 to 500, with an even distribution and average room number around 301. This hints at a well-utilized hospital facility, with rooms likely categorized in a structured manner (e.g., floors, departments). No abnormalities were detected in room assignment data."
      ],
      "metadata": {
        "id": "i2X3d4sOnr80"
      }
    },
    {
      "cell_type": "markdown",
      "source": [
        "####**B. Statistical Summary Of Categorical Columns**"
      ],
      "metadata": {
        "id": "6d7XGLiTrVi-"
      }
    },
    {
      "cell_type": "code",
      "source": [
        "df.describe(include='object')"
      ],
      "metadata": {
        "colab": {
          "base_uri": "https://localhost:8080/",
          "height": 209
        },
        "id": "RVc28wk6m2NW",
        "outputId": "d0f0d5b7-5b1c-4c4d-ebe1-d6cf48448233"
      },
      "execution_count": 12,
      "outputs": [
        {
          "output_type": "execute_result",
          "data": {
            "text/plain": [
              "               Name Gender Blood Type Medical Condition Date of Admission  \\\n",
              "count         55500  55500      55500             55500             55500   \n",
              "unique        49992      2          8                 6              1827   \n",
              "top     DAvId muNoZ   Male         A-         Arthritis        2024-03-16   \n",
              "freq              3  27774       6969              9308                50   \n",
              "\n",
              "               Doctor   Hospital Insurance Provider Admission Type  \\\n",
              "count           55500      55500              55500          55500   \n",
              "unique          40341      39876                  5              3   \n",
              "top     Michael Smith  LLC Smith              Cigna       Elective   \n",
              "freq               27         44              11249          18655   \n",
              "\n",
              "       Discharge Date Medication Test Results  \n",
              "count           55500      55500        55500  \n",
              "unique           1856          5            3  \n",
              "top        2020-03-15    Lipitor     Abnormal  \n",
              "freq               53      11140        18627  "
            ],
            "text/html": [
              "\n",
              "  <div id=\"df-19fcdf18-86f5-4fdb-a825-51e8810ec655\" class=\"colab-df-container\">\n",
              "    <div>\n",
              "<style scoped>\n",
              "    .dataframe tbody tr th:only-of-type {\n",
              "        vertical-align: middle;\n",
              "    }\n",
              "\n",
              "    .dataframe tbody tr th {\n",
              "        vertical-align: top;\n",
              "    }\n",
              "\n",
              "    .dataframe thead th {\n",
              "        text-align: right;\n",
              "    }\n",
              "</style>\n",
              "<table border=\"1\" class=\"dataframe\">\n",
              "  <thead>\n",
              "    <tr style=\"text-align: right;\">\n",
              "      <th></th>\n",
              "      <th>Name</th>\n",
              "      <th>Gender</th>\n",
              "      <th>Blood Type</th>\n",
              "      <th>Medical Condition</th>\n",
              "      <th>Date of Admission</th>\n",
              "      <th>Doctor</th>\n",
              "      <th>Hospital</th>\n",
              "      <th>Insurance Provider</th>\n",
              "      <th>Admission Type</th>\n",
              "      <th>Discharge Date</th>\n",
              "      <th>Medication</th>\n",
              "      <th>Test Results</th>\n",
              "    </tr>\n",
              "  </thead>\n",
              "  <tbody>\n",
              "    <tr>\n",
              "      <th>count</th>\n",
              "      <td>55500</td>\n",
              "      <td>55500</td>\n",
              "      <td>55500</td>\n",
              "      <td>55500</td>\n",
              "      <td>55500</td>\n",
              "      <td>55500</td>\n",
              "      <td>55500</td>\n",
              "      <td>55500</td>\n",
              "      <td>55500</td>\n",
              "      <td>55500</td>\n",
              "      <td>55500</td>\n",
              "      <td>55500</td>\n",
              "    </tr>\n",
              "    <tr>\n",
              "      <th>unique</th>\n",
              "      <td>49992</td>\n",
              "      <td>2</td>\n",
              "      <td>8</td>\n",
              "      <td>6</td>\n",
              "      <td>1827</td>\n",
              "      <td>40341</td>\n",
              "      <td>39876</td>\n",
              "      <td>5</td>\n",
              "      <td>3</td>\n",
              "      <td>1856</td>\n",
              "      <td>5</td>\n",
              "      <td>3</td>\n",
              "    </tr>\n",
              "    <tr>\n",
              "      <th>top</th>\n",
              "      <td>DAvId muNoZ</td>\n",
              "      <td>Male</td>\n",
              "      <td>A-</td>\n",
              "      <td>Arthritis</td>\n",
              "      <td>2024-03-16</td>\n",
              "      <td>Michael Smith</td>\n",
              "      <td>LLC Smith</td>\n",
              "      <td>Cigna</td>\n",
              "      <td>Elective</td>\n",
              "      <td>2020-03-15</td>\n",
              "      <td>Lipitor</td>\n",
              "      <td>Abnormal</td>\n",
              "    </tr>\n",
              "    <tr>\n",
              "      <th>freq</th>\n",
              "      <td>3</td>\n",
              "      <td>27774</td>\n",
              "      <td>6969</td>\n",
              "      <td>9308</td>\n",
              "      <td>50</td>\n",
              "      <td>27</td>\n",
              "      <td>44</td>\n",
              "      <td>11249</td>\n",
              "      <td>18655</td>\n",
              "      <td>53</td>\n",
              "      <td>11140</td>\n",
              "      <td>18627</td>\n",
              "    </tr>\n",
              "  </tbody>\n",
              "</table>\n",
              "</div>\n",
              "    <div class=\"colab-df-buttons\">\n",
              "\n",
              "  <div class=\"colab-df-container\">\n",
              "    <button class=\"colab-df-convert\" onclick=\"convertToInteractive('df-19fcdf18-86f5-4fdb-a825-51e8810ec655')\"\n",
              "            title=\"Convert this dataframe to an interactive table.\"\n",
              "            style=\"display:none;\">\n",
              "\n",
              "  <svg xmlns=\"http://www.w3.org/2000/svg\" height=\"24px\" viewBox=\"0 -960 960 960\">\n",
              "    <path d=\"M120-120v-720h720v720H120Zm60-500h600v-160H180v160Zm220 220h160v-160H400v160Zm0 220h160v-160H400v160ZM180-400h160v-160H180v160Zm440 0h160v-160H620v160ZM180-180h160v-160H180v160Zm440 0h160v-160H620v160Z\"/>\n",
              "  </svg>\n",
              "    </button>\n",
              "\n",
              "  <style>\n",
              "    .colab-df-container {\n",
              "      display:flex;\n",
              "      gap: 12px;\n",
              "    }\n",
              "\n",
              "    .colab-df-convert {\n",
              "      background-color: #E8F0FE;\n",
              "      border: none;\n",
              "      border-radius: 50%;\n",
              "      cursor: pointer;\n",
              "      display: none;\n",
              "      fill: #1967D2;\n",
              "      height: 32px;\n",
              "      padding: 0 0 0 0;\n",
              "      width: 32px;\n",
              "    }\n",
              "\n",
              "    .colab-df-convert:hover {\n",
              "      background-color: #E2EBFA;\n",
              "      box-shadow: 0px 1px 2px rgba(60, 64, 67, 0.3), 0px 1px 3px 1px rgba(60, 64, 67, 0.15);\n",
              "      fill: #174EA6;\n",
              "    }\n",
              "\n",
              "    .colab-df-buttons div {\n",
              "      margin-bottom: 4px;\n",
              "    }\n",
              "\n",
              "    [theme=dark] .colab-df-convert {\n",
              "      background-color: #3B4455;\n",
              "      fill: #D2E3FC;\n",
              "    }\n",
              "\n",
              "    [theme=dark] .colab-df-convert:hover {\n",
              "      background-color: #434B5C;\n",
              "      box-shadow: 0px 1px 3px 1px rgba(0, 0, 0, 0.15);\n",
              "      filter: drop-shadow(0px 1px 2px rgba(0, 0, 0, 0.3));\n",
              "      fill: #FFFFFF;\n",
              "    }\n",
              "  </style>\n",
              "\n",
              "    <script>\n",
              "      const buttonEl =\n",
              "        document.querySelector('#df-19fcdf18-86f5-4fdb-a825-51e8810ec655 button.colab-df-convert');\n",
              "      buttonEl.style.display =\n",
              "        google.colab.kernel.accessAllowed ? 'block' : 'none';\n",
              "\n",
              "      async function convertToInteractive(key) {\n",
              "        const element = document.querySelector('#df-19fcdf18-86f5-4fdb-a825-51e8810ec655');\n",
              "        const dataTable =\n",
              "          await google.colab.kernel.invokeFunction('convertToInteractive',\n",
              "                                                    [key], {});\n",
              "        if (!dataTable) return;\n",
              "\n",
              "        const docLinkHtml = 'Like what you see? Visit the ' +\n",
              "          '<a target=\"_blank\" href=https://colab.research.google.com/notebooks/data_table.ipynb>data table notebook</a>'\n",
              "          + ' to learn more about interactive tables.';\n",
              "        element.innerHTML = '';\n",
              "        dataTable['output_type'] = 'display_data';\n",
              "        await google.colab.output.renderOutput(dataTable, element);\n",
              "        const docLink = document.createElement('div');\n",
              "        docLink.innerHTML = docLinkHtml;\n",
              "        element.appendChild(docLink);\n",
              "      }\n",
              "    </script>\n",
              "  </div>\n",
              "\n",
              "\n",
              "    <div id=\"df-7a38399a-7a82-492e-bfe3-dc55dbb00c14\">\n",
              "      <button class=\"colab-df-quickchart\" onclick=\"quickchart('df-7a38399a-7a82-492e-bfe3-dc55dbb00c14')\"\n",
              "                title=\"Suggest charts\"\n",
              "                style=\"display:none;\">\n",
              "\n",
              "<svg xmlns=\"http://www.w3.org/2000/svg\" height=\"24px\"viewBox=\"0 0 24 24\"\n",
              "     width=\"24px\">\n",
              "    <g>\n",
              "        <path d=\"M19 3H5c-1.1 0-2 .9-2 2v14c0 1.1.9 2 2 2h14c1.1 0 2-.9 2-2V5c0-1.1-.9-2-2-2zM9 17H7v-7h2v7zm4 0h-2V7h2v10zm4 0h-2v-4h2v4z\"/>\n",
              "    </g>\n",
              "</svg>\n",
              "      </button>\n",
              "\n",
              "<style>\n",
              "  .colab-df-quickchart {\n",
              "      --bg-color: #E8F0FE;\n",
              "      --fill-color: #1967D2;\n",
              "      --hover-bg-color: #E2EBFA;\n",
              "      --hover-fill-color: #174EA6;\n",
              "      --disabled-fill-color: #AAA;\n",
              "      --disabled-bg-color: #DDD;\n",
              "  }\n",
              "\n",
              "  [theme=dark] .colab-df-quickchart {\n",
              "      --bg-color: #3B4455;\n",
              "      --fill-color: #D2E3FC;\n",
              "      --hover-bg-color: #434B5C;\n",
              "      --hover-fill-color: #FFFFFF;\n",
              "      --disabled-bg-color: #3B4455;\n",
              "      --disabled-fill-color: #666;\n",
              "  }\n",
              "\n",
              "  .colab-df-quickchart {\n",
              "    background-color: var(--bg-color);\n",
              "    border: none;\n",
              "    border-radius: 50%;\n",
              "    cursor: pointer;\n",
              "    display: none;\n",
              "    fill: var(--fill-color);\n",
              "    height: 32px;\n",
              "    padding: 0;\n",
              "    width: 32px;\n",
              "  }\n",
              "\n",
              "  .colab-df-quickchart:hover {\n",
              "    background-color: var(--hover-bg-color);\n",
              "    box-shadow: 0 1px 2px rgba(60, 64, 67, 0.3), 0 1px 3px 1px rgba(60, 64, 67, 0.15);\n",
              "    fill: var(--button-hover-fill-color);\n",
              "  }\n",
              "\n",
              "  .colab-df-quickchart-complete:disabled,\n",
              "  .colab-df-quickchart-complete:disabled:hover {\n",
              "    background-color: var(--disabled-bg-color);\n",
              "    fill: var(--disabled-fill-color);\n",
              "    box-shadow: none;\n",
              "  }\n",
              "\n",
              "  .colab-df-spinner {\n",
              "    border: 2px solid var(--fill-color);\n",
              "    border-color: transparent;\n",
              "    border-bottom-color: var(--fill-color);\n",
              "    animation:\n",
              "      spin 1s steps(1) infinite;\n",
              "  }\n",
              "\n",
              "  @keyframes spin {\n",
              "    0% {\n",
              "      border-color: transparent;\n",
              "      border-bottom-color: var(--fill-color);\n",
              "      border-left-color: var(--fill-color);\n",
              "    }\n",
              "    20% {\n",
              "      border-color: transparent;\n",
              "      border-left-color: var(--fill-color);\n",
              "      border-top-color: var(--fill-color);\n",
              "    }\n",
              "    30% {\n",
              "      border-color: transparent;\n",
              "      border-left-color: var(--fill-color);\n",
              "      border-top-color: var(--fill-color);\n",
              "      border-right-color: var(--fill-color);\n",
              "    }\n",
              "    40% {\n",
              "      border-color: transparent;\n",
              "      border-right-color: var(--fill-color);\n",
              "      border-top-color: var(--fill-color);\n",
              "    }\n",
              "    60% {\n",
              "      border-color: transparent;\n",
              "      border-right-color: var(--fill-color);\n",
              "    }\n",
              "    80% {\n",
              "      border-color: transparent;\n",
              "      border-right-color: var(--fill-color);\n",
              "      border-bottom-color: var(--fill-color);\n",
              "    }\n",
              "    90% {\n",
              "      border-color: transparent;\n",
              "      border-bottom-color: var(--fill-color);\n",
              "    }\n",
              "  }\n",
              "</style>\n",
              "\n",
              "      <script>\n",
              "        async function quickchart(key) {\n",
              "          const quickchartButtonEl =\n",
              "            document.querySelector('#' + key + ' button');\n",
              "          quickchartButtonEl.disabled = true;  // To prevent multiple clicks.\n",
              "          quickchartButtonEl.classList.add('colab-df-spinner');\n",
              "          try {\n",
              "            const charts = await google.colab.kernel.invokeFunction(\n",
              "                'suggestCharts', [key], {});\n",
              "          } catch (error) {\n",
              "            console.error('Error during call to suggestCharts:', error);\n",
              "          }\n",
              "          quickchartButtonEl.classList.remove('colab-df-spinner');\n",
              "          quickchartButtonEl.classList.add('colab-df-quickchart-complete');\n",
              "        }\n",
              "        (() => {\n",
              "          let quickchartButtonEl =\n",
              "            document.querySelector('#df-7a38399a-7a82-492e-bfe3-dc55dbb00c14 button');\n",
              "          quickchartButtonEl.style.display =\n",
              "            google.colab.kernel.accessAllowed ? 'block' : 'none';\n",
              "        })();\n",
              "      </script>\n",
              "    </div>\n",
              "\n",
              "    </div>\n",
              "  </div>\n"
            ],
            "application/vnd.google.colaboratory.intrinsic+json": {
              "type": "dataframe",
              "summary": "{\n  \"name\": \"df\",\n  \"rows\": 4,\n  \"fields\": [\n    {\n      \"column\": \"Name\",\n      \"properties\": {\n        \"dtype\": \"string\",\n        \"num_unique_values\": 4,\n        \"samples\": [\n          49992,\n          \"3\",\n          \"55500\"\n        ],\n        \"semantic_type\": \"\",\n        \"description\": \"\"\n      }\n    },\n    {\n      \"column\": \"Gender\",\n      \"properties\": {\n        \"dtype\": \"string\",\n        \"num_unique_values\": 4,\n        \"samples\": [\n          2,\n          \"27774\",\n          \"55500\"\n        ],\n        \"semantic_type\": \"\",\n        \"description\": \"\"\n      }\n    },\n    {\n      \"column\": \"Blood Type\",\n      \"properties\": {\n        \"dtype\": \"string\",\n        \"num_unique_values\": 4,\n        \"samples\": [\n          8,\n          \"6969\",\n          \"55500\"\n        ],\n        \"semantic_type\": \"\",\n        \"description\": \"\"\n      }\n    },\n    {\n      \"column\": \"Medical Condition\",\n      \"properties\": {\n        \"dtype\": \"string\",\n        \"num_unique_values\": 4,\n        \"samples\": [\n          6,\n          \"9308\",\n          \"55500\"\n        ],\n        \"semantic_type\": \"\",\n        \"description\": \"\"\n      }\n    },\n    {\n      \"column\": \"Date of Admission\",\n      \"properties\": {\n        \"dtype\": \"date\",\n        \"min\": \"1970-01-01 00:00:00.000000050\",\n        \"max\": \"2024-03-16 00:00:00\",\n        \"num_unique_values\": 4,\n        \"samples\": [\n          1827,\n          \"50\",\n          \"55500\"\n        ],\n        \"semantic_type\": \"\",\n        \"description\": \"\"\n      }\n    },\n    {\n      \"column\": \"Doctor\",\n      \"properties\": {\n        \"dtype\": \"string\",\n        \"num_unique_values\": 4,\n        \"samples\": [\n          40341,\n          \"27\",\n          \"55500\"\n        ],\n        \"semantic_type\": \"\",\n        \"description\": \"\"\n      }\n    },\n    {\n      \"column\": \"Hospital\",\n      \"properties\": {\n        \"dtype\": \"string\",\n        \"num_unique_values\": 4,\n        \"samples\": [\n          39876,\n          \"44\",\n          \"55500\"\n        ],\n        \"semantic_type\": \"\",\n        \"description\": \"\"\n      }\n    },\n    {\n      \"column\": \"Insurance Provider\",\n      \"properties\": {\n        \"dtype\": \"string\",\n        \"num_unique_values\": 4,\n        \"samples\": [\n          5,\n          \"11249\",\n          \"55500\"\n        ],\n        \"semantic_type\": \"\",\n        \"description\": \"\"\n      }\n    },\n    {\n      \"column\": \"Admission Type\",\n      \"properties\": {\n        \"dtype\": \"string\",\n        \"num_unique_values\": 4,\n        \"samples\": [\n          3,\n          \"18655\",\n          \"55500\"\n        ],\n        \"semantic_type\": \"\",\n        \"description\": \"\"\n      }\n    },\n    {\n      \"column\": \"Discharge Date\",\n      \"properties\": {\n        \"dtype\": \"date\",\n        \"min\": \"1970-01-01 00:00:00.000000053\",\n        \"max\": \"2020-03-15 00:00:00\",\n        \"num_unique_values\": 4,\n        \"samples\": [\n          1856,\n          \"53\",\n          \"55500\"\n        ],\n        \"semantic_type\": \"\",\n        \"description\": \"\"\n      }\n    },\n    {\n      \"column\": \"Medication\",\n      \"properties\": {\n        \"dtype\": \"string\",\n        \"num_unique_values\": 4,\n        \"samples\": [\n          5,\n          \"11140\",\n          \"55500\"\n        ],\n        \"semantic_type\": \"\",\n        \"description\": \"\"\n      }\n    },\n    {\n      \"column\": \"Test Results\",\n      \"properties\": {\n        \"dtype\": \"string\",\n        \"num_unique_values\": 4,\n        \"samples\": [\n          3,\n          \"18627\",\n          \"55500\"\n        ],\n        \"semantic_type\": \"\",\n        \"description\": \"\"\n      }\n    }\n  ]\n}"
            }
          },
          "metadata": {},
          "execution_count": 12
        }
      ]
    },
    {
      "cell_type": "markdown",
      "source": [
        "#####**Interpretation**"
      ],
      "metadata": {
        "id": "HdUJHKVV6K8n"
      }
    },
    {
      "cell_type": "markdown",
      "source": [
        "Patient Uniqueness: Nearly all names are unique, suggesting individual patient records. However, duplicates like \"DAvId muNoZ\" repeated 3 times with inconsistent capitalization might indicate data cleaning need.\n",
        "\n",
        "Medical Trend: Conditions like Arthritis and medications like Lipitor suggest a trend in aging and cardiovascular/chronic health issues.\n",
        "\n",
        "Operational Load: Certain doctors and hospitals have higher patient volumes, suggesting they are central hubs in the system.\n",
        "\n",
        "Admission Planning: Majority of cases are elective, not emergency — implying advance booking, surgeries, or planned treatments.\n",
        "\n",
        "Test Result Concern: High number of Abnormal test results implies a serious patient population. Critical for healthcare providers to look into disease trends or misdiagnosis rates.\n",
        "\n"
      ],
      "metadata": {
        "id": "4u5b9foKrsmF"
      }
    },
    {
      "cell_type": "markdown",
      "source": [
        "##**1.7. Check For Duplicates**"
      ],
      "metadata": {
        "id": "Z3-HzMFwXhF2"
      }
    },
    {
      "cell_type": "code",
      "source": [
        "#check duplicate values\n",
        "df.duplicated().sum()"
      ],
      "metadata": {
        "colab": {
          "base_uri": "https://localhost:8080/"
        },
        "id": "d6srghtnXlcw",
        "outputId": "d65f4bc6-40d8-479a-80ba-7e51d5711c27"
      },
      "execution_count": 13,
      "outputs": [
        {
          "output_type": "execute_result",
          "data": {
            "text/plain": [
              "np.int64(534)"
            ]
          },
          "metadata": {},
          "execution_count": 13
        }
      ]
    },
    {
      "cell_type": "markdown",
      "source": [
        "This shows that there are 534 duplicate values."
      ],
      "metadata": {
        "id": "uUDzd9mPXrBI"
      }
    },
    {
      "cell_type": "code",
      "source": [
        "df[df.duplicated()]"
      ],
      "metadata": {
        "colab": {
          "base_uri": "https://localhost:8080/",
          "height": 669
        },
        "id": "597MlHaq49Cp",
        "outputId": "4274f72a-d204-4626-e4aa-cddc4e83534d"
      },
      "execution_count": 14,
      "outputs": [
        {
          "output_type": "execute_result",
          "data": {
            "text/plain": [
              "                     Name  Age  Gender Blood Type Medical Condition  \\\n",
              "50023        Samuel joYCe   56    Male         O+         Arthritis   \n",
              "50040    KIMBErly vasqueZ   26    Male         A-           Obesity   \n",
              "50055      SCoTT tHOrNton   55  Female         B-           Obesity   \n",
              "50070         wiLliam LEe   27  Female         O+         Arthritis   \n",
              "50078  chRistOPheR NoRrIs   38    Male        AB-         Arthritis   \n",
              "...                   ...  ...     ...        ...               ...   \n",
              "55461      connOR coMPTon   63    Male         A+            Asthma   \n",
              "55462       alYSsA mIlLER   35  Female         A-          Diabetes   \n",
              "55464        ChRIs huGHeS   35  Female        AB-           Obesity   \n",
              "55484     keNNEtH alvarez   80    Male         O+            Cancer   \n",
              "55491       lInDA grIFfin   47  Female         O+           Obesity   \n",
              "\n",
              "      Date of Admission             Doctor                    Hospital  \\\n",
              "50023        2022-11-03     Krista Hartman              Thomas-Ballard   \n",
              "50040        2023-10-23   Jennifer Bennett                   Cowan Inc   \n",
              "50055        2021-04-08      Joshua Ingram                  Keller LLC   \n",
              "50070        2020-01-31  Lauren Montgomery               Winters-Simon   \n",
              "50078        2023-01-14       Denise Blair                 Inc Morales   \n",
              "...                 ...                ...                         ...   \n",
              "55461        2021-08-21     Jonathan Allen  and Willis Mullins, Bowers   \n",
              "55462        2022-06-30         Ryan Price           Shelton-Gallagher   \n",
              "55464        2024-02-28      Katelyn Perry                Lyons-Hansen   \n",
              "55484        2022-05-05      Andrew Conner               Sons Mayo and   \n",
              "55491        2020-06-21     Danielle Davis    and King Jordan Johnson,   \n",
              "\n",
              "      Insurance Provider  Billing Amount  Room Number Admission Type  \\\n",
              "50023   UnitedHealthcare    15654.830587          157         Urgent   \n",
              "50040   UnitedHealthcare    38142.109678          313         Urgent   \n",
              "50055           Medicare    30894.904511          455         Urgent   \n",
              "50070              Cigna    46229.434901          153       Elective   \n",
              "50078           Medicare     9072.127142          452      Emergency   \n",
              "...                  ...             ...          ...            ...   \n",
              "55461           Medicare     1936.702824          375      Emergency   \n",
              "55462   UnitedHealthcare     2210.460898          289       Elective   \n",
              "55464         Blue Cross    11889.154513          128      Emergency   \n",
              "55484              Cigna    45653.802310          114       Elective   \n",
              "55491              Aetna    15715.551079          310      Emergency   \n",
              "\n",
              "      Discharge Date   Medication  Test Results  \n",
              "50023     2022-11-22      Aspirin  Inconclusive  \n",
              "50040     2023-11-18   Penicillin      Abnormal  \n",
              "50055     2021-04-15      Aspirin      Abnormal  \n",
              "50070     2020-02-13      Lipitor        Normal  \n",
              "50078     2023-02-12   Penicillin        Normal  \n",
              "...              ...          ...           ...  \n",
              "55461     2021-09-16  Paracetamol        Normal  \n",
              "55462     2022-07-27   Penicillin        Normal  \n",
              "55464     2024-03-14  Paracetamol      Abnormal  \n",
              "55484     2022-05-17      Aspirin        Normal  \n",
              "55491     2020-06-25      Lipitor      Abnormal  \n",
              "\n",
              "[534 rows x 15 columns]"
            ],
            "text/html": [
              "\n",
              "  <div id=\"df-81af89c9-9df7-4fe9-bf91-35cea77a7165\" class=\"colab-df-container\">\n",
              "    <div>\n",
              "<style scoped>\n",
              "    .dataframe tbody tr th:only-of-type {\n",
              "        vertical-align: middle;\n",
              "    }\n",
              "\n",
              "    .dataframe tbody tr th {\n",
              "        vertical-align: top;\n",
              "    }\n",
              "\n",
              "    .dataframe thead th {\n",
              "        text-align: right;\n",
              "    }\n",
              "</style>\n",
              "<table border=\"1\" class=\"dataframe\">\n",
              "  <thead>\n",
              "    <tr style=\"text-align: right;\">\n",
              "      <th></th>\n",
              "      <th>Name</th>\n",
              "      <th>Age</th>\n",
              "      <th>Gender</th>\n",
              "      <th>Blood Type</th>\n",
              "      <th>Medical Condition</th>\n",
              "      <th>Date of Admission</th>\n",
              "      <th>Doctor</th>\n",
              "      <th>Hospital</th>\n",
              "      <th>Insurance Provider</th>\n",
              "      <th>Billing Amount</th>\n",
              "      <th>Room Number</th>\n",
              "      <th>Admission Type</th>\n",
              "      <th>Discharge Date</th>\n",
              "      <th>Medication</th>\n",
              "      <th>Test Results</th>\n",
              "    </tr>\n",
              "  </thead>\n",
              "  <tbody>\n",
              "    <tr>\n",
              "      <th>50023</th>\n",
              "      <td>Samuel joYCe</td>\n",
              "      <td>56</td>\n",
              "      <td>Male</td>\n",
              "      <td>O+</td>\n",
              "      <td>Arthritis</td>\n",
              "      <td>2022-11-03</td>\n",
              "      <td>Krista Hartman</td>\n",
              "      <td>Thomas-Ballard</td>\n",
              "      <td>UnitedHealthcare</td>\n",
              "      <td>15654.830587</td>\n",
              "      <td>157</td>\n",
              "      <td>Urgent</td>\n",
              "      <td>2022-11-22</td>\n",
              "      <td>Aspirin</td>\n",
              "      <td>Inconclusive</td>\n",
              "    </tr>\n",
              "    <tr>\n",
              "      <th>50040</th>\n",
              "      <td>KIMBErly vasqueZ</td>\n",
              "      <td>26</td>\n",
              "      <td>Male</td>\n",
              "      <td>A-</td>\n",
              "      <td>Obesity</td>\n",
              "      <td>2023-10-23</td>\n",
              "      <td>Jennifer Bennett</td>\n",
              "      <td>Cowan Inc</td>\n",
              "      <td>UnitedHealthcare</td>\n",
              "      <td>38142.109678</td>\n",
              "      <td>313</td>\n",
              "      <td>Urgent</td>\n",
              "      <td>2023-11-18</td>\n",
              "      <td>Penicillin</td>\n",
              "      <td>Abnormal</td>\n",
              "    </tr>\n",
              "    <tr>\n",
              "      <th>50055</th>\n",
              "      <td>SCoTT tHOrNton</td>\n",
              "      <td>55</td>\n",
              "      <td>Female</td>\n",
              "      <td>B-</td>\n",
              "      <td>Obesity</td>\n",
              "      <td>2021-04-08</td>\n",
              "      <td>Joshua Ingram</td>\n",
              "      <td>Keller LLC</td>\n",
              "      <td>Medicare</td>\n",
              "      <td>30894.904511</td>\n",
              "      <td>455</td>\n",
              "      <td>Urgent</td>\n",
              "      <td>2021-04-15</td>\n",
              "      <td>Aspirin</td>\n",
              "      <td>Abnormal</td>\n",
              "    </tr>\n",
              "    <tr>\n",
              "      <th>50070</th>\n",
              "      <td>wiLliam LEe</td>\n",
              "      <td>27</td>\n",
              "      <td>Female</td>\n",
              "      <td>O+</td>\n",
              "      <td>Arthritis</td>\n",
              "      <td>2020-01-31</td>\n",
              "      <td>Lauren Montgomery</td>\n",
              "      <td>Winters-Simon</td>\n",
              "      <td>Cigna</td>\n",
              "      <td>46229.434901</td>\n",
              "      <td>153</td>\n",
              "      <td>Elective</td>\n",
              "      <td>2020-02-13</td>\n",
              "      <td>Lipitor</td>\n",
              "      <td>Normal</td>\n",
              "    </tr>\n",
              "    <tr>\n",
              "      <th>50078</th>\n",
              "      <td>chRistOPheR NoRrIs</td>\n",
              "      <td>38</td>\n",
              "      <td>Male</td>\n",
              "      <td>AB-</td>\n",
              "      <td>Arthritis</td>\n",
              "      <td>2023-01-14</td>\n",
              "      <td>Denise Blair</td>\n",
              "      <td>Inc Morales</td>\n",
              "      <td>Medicare</td>\n",
              "      <td>9072.127142</td>\n",
              "      <td>452</td>\n",
              "      <td>Emergency</td>\n",
              "      <td>2023-02-12</td>\n",
              "      <td>Penicillin</td>\n",
              "      <td>Normal</td>\n",
              "    </tr>\n",
              "    <tr>\n",
              "      <th>...</th>\n",
              "      <td>...</td>\n",
              "      <td>...</td>\n",
              "      <td>...</td>\n",
              "      <td>...</td>\n",
              "      <td>...</td>\n",
              "      <td>...</td>\n",
              "      <td>...</td>\n",
              "      <td>...</td>\n",
              "      <td>...</td>\n",
              "      <td>...</td>\n",
              "      <td>...</td>\n",
              "      <td>...</td>\n",
              "      <td>...</td>\n",
              "      <td>...</td>\n",
              "      <td>...</td>\n",
              "    </tr>\n",
              "    <tr>\n",
              "      <th>55461</th>\n",
              "      <td>connOR coMPTon</td>\n",
              "      <td>63</td>\n",
              "      <td>Male</td>\n",
              "      <td>A+</td>\n",
              "      <td>Asthma</td>\n",
              "      <td>2021-08-21</td>\n",
              "      <td>Jonathan Allen</td>\n",
              "      <td>and Willis Mullins, Bowers</td>\n",
              "      <td>Medicare</td>\n",
              "      <td>1936.702824</td>\n",
              "      <td>375</td>\n",
              "      <td>Emergency</td>\n",
              "      <td>2021-09-16</td>\n",
              "      <td>Paracetamol</td>\n",
              "      <td>Normal</td>\n",
              "    </tr>\n",
              "    <tr>\n",
              "      <th>55462</th>\n",
              "      <td>alYSsA mIlLER</td>\n",
              "      <td>35</td>\n",
              "      <td>Female</td>\n",
              "      <td>A-</td>\n",
              "      <td>Diabetes</td>\n",
              "      <td>2022-06-30</td>\n",
              "      <td>Ryan Price</td>\n",
              "      <td>Shelton-Gallagher</td>\n",
              "      <td>UnitedHealthcare</td>\n",
              "      <td>2210.460898</td>\n",
              "      <td>289</td>\n",
              "      <td>Elective</td>\n",
              "      <td>2022-07-27</td>\n",
              "      <td>Penicillin</td>\n",
              "      <td>Normal</td>\n",
              "    </tr>\n",
              "    <tr>\n",
              "      <th>55464</th>\n",
              "      <td>ChRIs huGHeS</td>\n",
              "      <td>35</td>\n",
              "      <td>Female</td>\n",
              "      <td>AB-</td>\n",
              "      <td>Obesity</td>\n",
              "      <td>2024-02-28</td>\n",
              "      <td>Katelyn Perry</td>\n",
              "      <td>Lyons-Hansen</td>\n",
              "      <td>Blue Cross</td>\n",
              "      <td>11889.154513</td>\n",
              "      <td>128</td>\n",
              "      <td>Emergency</td>\n",
              "      <td>2024-03-14</td>\n",
              "      <td>Paracetamol</td>\n",
              "      <td>Abnormal</td>\n",
              "    </tr>\n",
              "    <tr>\n",
              "      <th>55484</th>\n",
              "      <td>keNNEtH alvarez</td>\n",
              "      <td>80</td>\n",
              "      <td>Male</td>\n",
              "      <td>O+</td>\n",
              "      <td>Cancer</td>\n",
              "      <td>2022-05-05</td>\n",
              "      <td>Andrew Conner</td>\n",
              "      <td>Sons Mayo and</td>\n",
              "      <td>Cigna</td>\n",
              "      <td>45653.802310</td>\n",
              "      <td>114</td>\n",
              "      <td>Elective</td>\n",
              "      <td>2022-05-17</td>\n",
              "      <td>Aspirin</td>\n",
              "      <td>Normal</td>\n",
              "    </tr>\n",
              "    <tr>\n",
              "      <th>55491</th>\n",
              "      <td>lInDA grIFfin</td>\n",
              "      <td>47</td>\n",
              "      <td>Female</td>\n",
              "      <td>O+</td>\n",
              "      <td>Obesity</td>\n",
              "      <td>2020-06-21</td>\n",
              "      <td>Danielle Davis</td>\n",
              "      <td>and King Jordan Johnson,</td>\n",
              "      <td>Aetna</td>\n",
              "      <td>15715.551079</td>\n",
              "      <td>310</td>\n",
              "      <td>Emergency</td>\n",
              "      <td>2020-06-25</td>\n",
              "      <td>Lipitor</td>\n",
              "      <td>Abnormal</td>\n",
              "    </tr>\n",
              "  </tbody>\n",
              "</table>\n",
              "<p>534 rows × 15 columns</p>\n",
              "</div>\n",
              "    <div class=\"colab-df-buttons\">\n",
              "\n",
              "  <div class=\"colab-df-container\">\n",
              "    <button class=\"colab-df-convert\" onclick=\"convertToInteractive('df-81af89c9-9df7-4fe9-bf91-35cea77a7165')\"\n",
              "            title=\"Convert this dataframe to an interactive table.\"\n",
              "            style=\"display:none;\">\n",
              "\n",
              "  <svg xmlns=\"http://www.w3.org/2000/svg\" height=\"24px\" viewBox=\"0 -960 960 960\">\n",
              "    <path d=\"M120-120v-720h720v720H120Zm60-500h600v-160H180v160Zm220 220h160v-160H400v160Zm0 220h160v-160H400v160ZM180-400h160v-160H180v160Zm440 0h160v-160H620v160ZM180-180h160v-160H180v160Zm440 0h160v-160H620v160Z\"/>\n",
              "  </svg>\n",
              "    </button>\n",
              "\n",
              "  <style>\n",
              "    .colab-df-container {\n",
              "      display:flex;\n",
              "      gap: 12px;\n",
              "    }\n",
              "\n",
              "    .colab-df-convert {\n",
              "      background-color: #E8F0FE;\n",
              "      border: none;\n",
              "      border-radius: 50%;\n",
              "      cursor: pointer;\n",
              "      display: none;\n",
              "      fill: #1967D2;\n",
              "      height: 32px;\n",
              "      padding: 0 0 0 0;\n",
              "      width: 32px;\n",
              "    }\n",
              "\n",
              "    .colab-df-convert:hover {\n",
              "      background-color: #E2EBFA;\n",
              "      box-shadow: 0px 1px 2px rgba(60, 64, 67, 0.3), 0px 1px 3px 1px rgba(60, 64, 67, 0.15);\n",
              "      fill: #174EA6;\n",
              "    }\n",
              "\n",
              "    .colab-df-buttons div {\n",
              "      margin-bottom: 4px;\n",
              "    }\n",
              "\n",
              "    [theme=dark] .colab-df-convert {\n",
              "      background-color: #3B4455;\n",
              "      fill: #D2E3FC;\n",
              "    }\n",
              "\n",
              "    [theme=dark] .colab-df-convert:hover {\n",
              "      background-color: #434B5C;\n",
              "      box-shadow: 0px 1px 3px 1px rgba(0, 0, 0, 0.15);\n",
              "      filter: drop-shadow(0px 1px 2px rgba(0, 0, 0, 0.3));\n",
              "      fill: #FFFFFF;\n",
              "    }\n",
              "  </style>\n",
              "\n",
              "    <script>\n",
              "      const buttonEl =\n",
              "        document.querySelector('#df-81af89c9-9df7-4fe9-bf91-35cea77a7165 button.colab-df-convert');\n",
              "      buttonEl.style.display =\n",
              "        google.colab.kernel.accessAllowed ? 'block' : 'none';\n",
              "\n",
              "      async function convertToInteractive(key) {\n",
              "        const element = document.querySelector('#df-81af89c9-9df7-4fe9-bf91-35cea77a7165');\n",
              "        const dataTable =\n",
              "          await google.colab.kernel.invokeFunction('convertToInteractive',\n",
              "                                                    [key], {});\n",
              "        if (!dataTable) return;\n",
              "\n",
              "        const docLinkHtml = 'Like what you see? Visit the ' +\n",
              "          '<a target=\"_blank\" href=https://colab.research.google.com/notebooks/data_table.ipynb>data table notebook</a>'\n",
              "          + ' to learn more about interactive tables.';\n",
              "        element.innerHTML = '';\n",
              "        dataTable['output_type'] = 'display_data';\n",
              "        await google.colab.output.renderOutput(dataTable, element);\n",
              "        const docLink = document.createElement('div');\n",
              "        docLink.innerHTML = docLinkHtml;\n",
              "        element.appendChild(docLink);\n",
              "      }\n",
              "    </script>\n",
              "  </div>\n",
              "\n",
              "\n",
              "    <div id=\"df-a04d88e0-b9b3-45f7-92a7-de1b6ab04344\">\n",
              "      <button class=\"colab-df-quickchart\" onclick=\"quickchart('df-a04d88e0-b9b3-45f7-92a7-de1b6ab04344')\"\n",
              "                title=\"Suggest charts\"\n",
              "                style=\"display:none;\">\n",
              "\n",
              "<svg xmlns=\"http://www.w3.org/2000/svg\" height=\"24px\"viewBox=\"0 0 24 24\"\n",
              "     width=\"24px\">\n",
              "    <g>\n",
              "        <path d=\"M19 3H5c-1.1 0-2 .9-2 2v14c0 1.1.9 2 2 2h14c1.1 0 2-.9 2-2V5c0-1.1-.9-2-2-2zM9 17H7v-7h2v7zm4 0h-2V7h2v10zm4 0h-2v-4h2v4z\"/>\n",
              "    </g>\n",
              "</svg>\n",
              "      </button>\n",
              "\n",
              "<style>\n",
              "  .colab-df-quickchart {\n",
              "      --bg-color: #E8F0FE;\n",
              "      --fill-color: #1967D2;\n",
              "      --hover-bg-color: #E2EBFA;\n",
              "      --hover-fill-color: #174EA6;\n",
              "      --disabled-fill-color: #AAA;\n",
              "      --disabled-bg-color: #DDD;\n",
              "  }\n",
              "\n",
              "  [theme=dark] .colab-df-quickchart {\n",
              "      --bg-color: #3B4455;\n",
              "      --fill-color: #D2E3FC;\n",
              "      --hover-bg-color: #434B5C;\n",
              "      --hover-fill-color: #FFFFFF;\n",
              "      --disabled-bg-color: #3B4455;\n",
              "      --disabled-fill-color: #666;\n",
              "  }\n",
              "\n",
              "  .colab-df-quickchart {\n",
              "    background-color: var(--bg-color);\n",
              "    border: none;\n",
              "    border-radius: 50%;\n",
              "    cursor: pointer;\n",
              "    display: none;\n",
              "    fill: var(--fill-color);\n",
              "    height: 32px;\n",
              "    padding: 0;\n",
              "    width: 32px;\n",
              "  }\n",
              "\n",
              "  .colab-df-quickchart:hover {\n",
              "    background-color: var(--hover-bg-color);\n",
              "    box-shadow: 0 1px 2px rgba(60, 64, 67, 0.3), 0 1px 3px 1px rgba(60, 64, 67, 0.15);\n",
              "    fill: var(--button-hover-fill-color);\n",
              "  }\n",
              "\n",
              "  .colab-df-quickchart-complete:disabled,\n",
              "  .colab-df-quickchart-complete:disabled:hover {\n",
              "    background-color: var(--disabled-bg-color);\n",
              "    fill: var(--disabled-fill-color);\n",
              "    box-shadow: none;\n",
              "  }\n",
              "\n",
              "  .colab-df-spinner {\n",
              "    border: 2px solid var(--fill-color);\n",
              "    border-color: transparent;\n",
              "    border-bottom-color: var(--fill-color);\n",
              "    animation:\n",
              "      spin 1s steps(1) infinite;\n",
              "  }\n",
              "\n",
              "  @keyframes spin {\n",
              "    0% {\n",
              "      border-color: transparent;\n",
              "      border-bottom-color: var(--fill-color);\n",
              "      border-left-color: var(--fill-color);\n",
              "    }\n",
              "    20% {\n",
              "      border-color: transparent;\n",
              "      border-left-color: var(--fill-color);\n",
              "      border-top-color: var(--fill-color);\n",
              "    }\n",
              "    30% {\n",
              "      border-color: transparent;\n",
              "      border-left-color: var(--fill-color);\n",
              "      border-top-color: var(--fill-color);\n",
              "      border-right-color: var(--fill-color);\n",
              "    }\n",
              "    40% {\n",
              "      border-color: transparent;\n",
              "      border-right-color: var(--fill-color);\n",
              "      border-top-color: var(--fill-color);\n",
              "    }\n",
              "    60% {\n",
              "      border-color: transparent;\n",
              "      border-right-color: var(--fill-color);\n",
              "    }\n",
              "    80% {\n",
              "      border-color: transparent;\n",
              "      border-right-color: var(--fill-color);\n",
              "      border-bottom-color: var(--fill-color);\n",
              "    }\n",
              "    90% {\n",
              "      border-color: transparent;\n",
              "      border-bottom-color: var(--fill-color);\n",
              "    }\n",
              "  }\n",
              "</style>\n",
              "\n",
              "      <script>\n",
              "        async function quickchart(key) {\n",
              "          const quickchartButtonEl =\n",
              "            document.querySelector('#' + key + ' button');\n",
              "          quickchartButtonEl.disabled = true;  // To prevent multiple clicks.\n",
              "          quickchartButtonEl.classList.add('colab-df-spinner');\n",
              "          try {\n",
              "            const charts = await google.colab.kernel.invokeFunction(\n",
              "                'suggestCharts', [key], {});\n",
              "          } catch (error) {\n",
              "            console.error('Error during call to suggestCharts:', error);\n",
              "          }\n",
              "          quickchartButtonEl.classList.remove('colab-df-spinner');\n",
              "          quickchartButtonEl.classList.add('colab-df-quickchart-complete');\n",
              "        }\n",
              "        (() => {\n",
              "          let quickchartButtonEl =\n",
              "            document.querySelector('#df-a04d88e0-b9b3-45f7-92a7-de1b6ab04344 button');\n",
              "          quickchartButtonEl.style.display =\n",
              "            google.colab.kernel.accessAllowed ? 'block' : 'none';\n",
              "        })();\n",
              "      </script>\n",
              "    </div>\n",
              "\n",
              "    </div>\n",
              "  </div>\n"
            ],
            "application/vnd.google.colaboratory.intrinsic+json": {
              "type": "dataframe",
              "repr_error": "0"
            }
          },
          "metadata": {},
          "execution_count": 14
        }
      ]
    },
    {
      "cell_type": "markdown",
      "source": [
        "##**1.8. Check For Unique Values**"
      ],
      "metadata": {
        "id": "oNSWqfFgZX30"
      }
    },
    {
      "cell_type": "code",
      "source": [
        "#check unique values in dataset\n",
        "df.nunique()"
      ],
      "metadata": {
        "colab": {
          "base_uri": "https://localhost:8080/",
          "height": 554
        },
        "id": "M2O8ZW5vZdjh",
        "outputId": "b7136a89-50d5-4843-c249-3eb2fcbd2bbd"
      },
      "execution_count": 15,
      "outputs": [
        {
          "output_type": "execute_result",
          "data": {
            "text/plain": [
              "Name                  49992\n",
              "Age                      77\n",
              "Gender                    2\n",
              "Blood Type                8\n",
              "Medical Condition         6\n",
              "Date of Admission      1827\n",
              "Doctor                40341\n",
              "Hospital              39876\n",
              "Insurance Provider        5\n",
              "Billing Amount        50000\n",
              "Room Number             400\n",
              "Admission Type            3\n",
              "Discharge Date         1856\n",
              "Medication                5\n",
              "Test Results              3\n",
              "dtype: int64"
            ],
            "text/html": [
              "<div>\n",
              "<style scoped>\n",
              "    .dataframe tbody tr th:only-of-type {\n",
              "        vertical-align: middle;\n",
              "    }\n",
              "\n",
              "    .dataframe tbody tr th {\n",
              "        vertical-align: top;\n",
              "    }\n",
              "\n",
              "    .dataframe thead th {\n",
              "        text-align: right;\n",
              "    }\n",
              "</style>\n",
              "<table border=\"1\" class=\"dataframe\">\n",
              "  <thead>\n",
              "    <tr style=\"text-align: right;\">\n",
              "      <th></th>\n",
              "      <th>0</th>\n",
              "    </tr>\n",
              "  </thead>\n",
              "  <tbody>\n",
              "    <tr>\n",
              "      <th>Name</th>\n",
              "      <td>49992</td>\n",
              "    </tr>\n",
              "    <tr>\n",
              "      <th>Age</th>\n",
              "      <td>77</td>\n",
              "    </tr>\n",
              "    <tr>\n",
              "      <th>Gender</th>\n",
              "      <td>2</td>\n",
              "    </tr>\n",
              "    <tr>\n",
              "      <th>Blood Type</th>\n",
              "      <td>8</td>\n",
              "    </tr>\n",
              "    <tr>\n",
              "      <th>Medical Condition</th>\n",
              "      <td>6</td>\n",
              "    </tr>\n",
              "    <tr>\n",
              "      <th>Date of Admission</th>\n",
              "      <td>1827</td>\n",
              "    </tr>\n",
              "    <tr>\n",
              "      <th>Doctor</th>\n",
              "      <td>40341</td>\n",
              "    </tr>\n",
              "    <tr>\n",
              "      <th>Hospital</th>\n",
              "      <td>39876</td>\n",
              "    </tr>\n",
              "    <tr>\n",
              "      <th>Insurance Provider</th>\n",
              "      <td>5</td>\n",
              "    </tr>\n",
              "    <tr>\n",
              "      <th>Billing Amount</th>\n",
              "      <td>50000</td>\n",
              "    </tr>\n",
              "    <tr>\n",
              "      <th>Room Number</th>\n",
              "      <td>400</td>\n",
              "    </tr>\n",
              "    <tr>\n",
              "      <th>Admission Type</th>\n",
              "      <td>3</td>\n",
              "    </tr>\n",
              "    <tr>\n",
              "      <th>Discharge Date</th>\n",
              "      <td>1856</td>\n",
              "    </tr>\n",
              "    <tr>\n",
              "      <th>Medication</th>\n",
              "      <td>5</td>\n",
              "    </tr>\n",
              "    <tr>\n",
              "      <th>Test Results</th>\n",
              "      <td>3</td>\n",
              "    </tr>\n",
              "  </tbody>\n",
              "</table>\n",
              "</div><br><label><b>dtype:</b> int64</label>"
            ]
          },
          "metadata": {},
          "execution_count": 15
        }
      ]
    },
    {
      "cell_type": "markdown",
      "source": [
        "Various Types Of Unique Values (Column-wise) In The Dataset."
      ],
      "metadata": {
        "id": "4L5TX-w4aA_A"
      }
    },
    {
      "cell_type": "code",
      "source": [
        "#unique values list column wise\n",
        "for col in df.columns:\n",
        "    print(f\"\\n🧾 Column: {col}\")\n",
        "    print(f\"🔢 Unique Values Count: {df[col].nunique()}\")\n",
        "    print(f\"📋 Unique Values: {df[col].unique()}\")\n"
      ],
      "metadata": {
        "colab": {
          "base_uri": "https://localhost:8080/"
        },
        "collapsed": true,
        "id": "l5yVHnJIZjin",
        "outputId": "23450e80-1e5e-4c35-ff36-ec3d65e87d4c"
      },
      "execution_count": 16,
      "outputs": [
        {
          "output_type": "stream",
          "name": "stdout",
          "text": [
            "\n",
            "🧾 Column: Name\n",
            "🔢 Unique Values Count: 49992\n",
            "📋 Unique Values: ['Bobby JacksOn' 'LesLie TErRy' 'DaNnY sMitH' ... 'LiSa sIMPsoN'\n",
            " 'RoGER farRELl' 'kaTheRIne WeBSTer']\n",
            "\n",
            "🧾 Column: Age\n",
            "🔢 Unique Values Count: 77\n",
            "📋 Unique Values: [30 62 76 28 43 36 21 20 82 58 72 38 75 68 44 46 63 34 67 48 59 73 51 23\n",
            " 78 25 33 26 70 57 74 81 49 65 31 22 77 42 24 84 55 40 83 18 27 19 29 61\n",
            " 80 60 35 79 53 69 47 85 52 37 50 32 54 45 66 39 56 64 71 41 88 17 87 86\n",
            " 15 16 13 14 89]\n",
            "\n",
            "🧾 Column: Gender\n",
            "🔢 Unique Values Count: 2\n",
            "📋 Unique Values: ['Male' 'Female']\n",
            "\n",
            "🧾 Column: Blood Type\n",
            "🔢 Unique Values Count: 8\n",
            "📋 Unique Values: ['B-' 'A+' 'A-' 'O+' 'AB+' 'AB-' 'B+' 'O-']\n",
            "\n",
            "🧾 Column: Medical Condition\n",
            "🔢 Unique Values Count: 6\n",
            "📋 Unique Values: ['Cancer' 'Obesity' 'Diabetes' 'Asthma' 'Hypertension' 'Arthritis']\n",
            "\n",
            "🧾 Column: Date of Admission\n",
            "🔢 Unique Values Count: 1827\n",
            "📋 Unique Values: ['2024-01-31' '2019-08-20' '2022-09-22' ... '2019-05-31' '2023-10-12'\n",
            " '2021-03-14']\n",
            "\n",
            "🧾 Column: Doctor\n",
            "🔢 Unique Values Count: 40341\n",
            "📋 Unique Values: ['Matthew Smith' 'Samantha Davies' 'Tiffany Mitchell' ... 'Deborah Sutton'\n",
            " 'Mary Bartlett' 'Alec May']\n",
            "\n",
            "🧾 Column: Hospital\n",
            "🔢 Unique Values Count: 39876\n",
            "📋 Unique Values: ['Sons and Miller' 'Kim Inc' 'Cook PLC' ... 'Guzman Jones and Graves,'\n",
            " 'and Williams, Brown Mckenzie' 'Moreno Murphy, Griffith and']\n",
            "\n",
            "🧾 Column: Insurance Provider\n",
            "🔢 Unique Values Count: 5\n",
            "📋 Unique Values: ['Blue Cross' 'Medicare' 'Aetna' 'UnitedHealthcare' 'Cigna']\n",
            "\n",
            "🧾 Column: Billing Amount\n",
            "🔢 Unique Values Count: 50000\n",
            "📋 Unique Values: [18856.28130598 33643.32728658 27955.09607884 ...  8441.14706442\n",
            " 34934.2841126   8926.28593733]\n",
            "\n",
            "🧾 Column: Room Number\n",
            "🔢 Unique Values Count: 400\n",
            "📋 Unique Values: [328 265 205 450 458 389 277 316 249 394 288 134 309 182 465 114 449 260\n",
            " 115 295 327 119 109 162 401 157 223 293 371 108 245 494 285 228 481 212\n",
            " 113 272 478 196 418 410 300 211 413 138 456 234 492 180 250 296 330 405\n",
            " 306 333 244 325 378 468 368 263 489 241 231 377 407 135 131 102 255 422\n",
            " 320 273 395 152 321 428 482 268 120 318 144 226 459 208 227 402 442 425\n",
            " 373 290 361 251 440 414 424 307 476 388 326 178 177 302 130 430 133 104\n",
            " 408 376 331 275 480 233 384 380 310 406 213 427 500 451 485 267 154 466\n",
            " 453 261 167 179 490 258 483 202 198 308 278 103 400 192 128 238 136 218\n",
            " 348 486 147 126 314 271 341 498 168 189 438 286 266 392 156 315 322 184\n",
            " 472 398 435 174 137 111 464 117 493 183 471 164 356 497 421 488 317 247\n",
            " 158 242 151 221 359 370 141 343 319 121 166 397 186 299 101 142 181 282\n",
            " 350 262 210 391 195 214 409 279 243 106 467 176 287 124 352 165 347 354\n",
            " 225 357 140 404 426 236 194 188 415 185 358 390 112 283 439 123 469 230\n",
            " 171 484 256 365 452 172 197 110 437 419 416 461 431 105 313 385 116 386\n",
            " 175 270 338 360 252 215 434 374 217 366 118 387 237 355 364 169 301 463\n",
            " 382 232 455 462 393 423 264 289 342 292 146 193 148 441 199 216 132 475\n",
            " 436 403 433 206 207 375 159 304 349 396 445 276 298 129 209 420 324 443\n",
            " 254 470 346 496 448 280 335 411 200 312 305 345 145 203 362 454 191 339\n",
            " 477 219 412 379 340 170 190 363 491 487 334 125 332 224 204 323 248 297\n",
            " 311 201 143 107 303 329 122 337 457 274 246 294 161 336 383 187 229 291\n",
            " 155 173 353 281 446 399 479 429 150 253 149 369 220 127 153 474 372 381\n",
            " 473 351 259 257 367 222 460 447 495 344 163 139 444 284 499 432 269 160\n",
            " 240 239 417 235]\n",
            "\n",
            "🧾 Column: Admission Type\n",
            "🔢 Unique Values Count: 3\n",
            "📋 Unique Values: ['Urgent' 'Emergency' 'Elective']\n",
            "\n",
            "🧾 Column: Discharge Date\n",
            "🔢 Unique Values Count: 1856\n",
            "📋 Unique Values: ['2024-02-02' '2019-08-26' '2022-10-07' ... '2019-05-09' '2024-05-31'\n",
            " '2024-06-06']\n",
            "\n",
            "🧾 Column: Medication\n",
            "🔢 Unique Values Count: 5\n",
            "📋 Unique Values: ['Paracetamol' 'Ibuprofen' 'Aspirin' 'Penicillin' 'Lipitor']\n",
            "\n",
            "🧾 Column: Test Results\n",
            "🔢 Unique Values Count: 3\n",
            "📋 Unique Values: ['Normal' 'Inconclusive' 'Abnormal']\n"
          ]
        }
      ]
    },
    {
      "cell_type": "markdown",
      "source": [
        "👥 Patient Demographics\n",
        "Name: 49,992 unique names out of 55,500 rows → indicates possible duplicate or repeat patients, especially with inconsistent casing (e.g., \"TinA white\" vs \"Tina White\").\n",
        "\n",
        "Age: 77 unique ages (ranging from 13 to 89) → suggests a wide age range, which may impact medical conditions or billing.\n",
        "\n",
        "Gender: Only 2 values ('Male', 'Female') → Data is binary-gender specific and clean, with no nulls or third categories.\n",
        "\n",
        "🧬 Medical Details\n",
        "Blood Type: 8 unique blood groups → complete standard set; can explore if certain blood types dominate in specific conditions.\n",
        "\n",
        "Medical Condition: 6 conditions → manageable number, suitable for condition-wise analysis (e.g., cost by condition).\n",
        "\n",
        "Medication: 5 medications → can easily group and analyze prescription trends.\n",
        "\n",
        "Test Results: 3 categories → gives a quick way to segment patients by diagnostic results (Normal, Abnormal, Inconclusive).\n",
        "\n",
        "🏥 Admission & Treatment Info\n",
        "Date of Admission: 1,827 unique dates and\n",
        "\n",
        "Discharge Date: 1,856 unique dates → rich time-series data available; good for trend analysis and calculating length of stay.\n",
        "\n",
        "Admission Type: 3 types (Urgent, Emergency, Elective) → opens up scope for urgency-based care cost or outcome analysis.\n",
        "\n",
        "Doctor: 40,341 unique names → very high; may indicate unstandardized entries, duplicates, or rotating doctors.\n",
        "\n",
        "Hospital: 39,876 unique hospitals → similar concern as above; possibly noisy data or large hospital network.\n",
        "\n",
        "💰 Billing and Logistics\n",
        "Billing Amount: 50,000 unique values → very high granularity; can show detailed billing trends but may need binning.\n",
        "\n",
        "Room Number: 400 unique values → might relate to ward-level cost analysis or patient placement trends.\n",
        "\n",
        "🛡️ Insurance\n",
        "Insurance Provider: Only 5 providers → compact enough for direct comparison in billing, approval rates, etc.\n",
        "\n",
        "🎯 Key Early Takeaways\n",
        "Dataset is rich in categorical and temporal diversity, perfect for trend, cost, and segmentation analysis.\n",
        "\n",
        "Some columns like Name, Doctor, and Hospital might contain duplicates or unclean text entries due to inconsistent casing.\n",
        "\n",
        "A small number of values in fields like Gender, Medication, Test Results, and Admission Type make them great for clear visualizations and summaries.\n",
        "\n"
      ],
      "metadata": {
        "id": "Z-3sKOZBa5vj"
      }
    },
    {
      "cell_type": "markdown",
      "source": [
        "##**1.9. Check For Missing Values**"
      ],
      "metadata": {
        "id": "DbrEmPBz9k8q"
      }
    },
    {
      "cell_type": "code",
      "source": [
        "#Check missing values\n",
        "df.isnull().sum()"
      ],
      "metadata": {
        "colab": {
          "base_uri": "https://localhost:8080/",
          "height": 554
        },
        "id": "wT06pIw89npB",
        "outputId": "2a399571-be46-469e-f59e-0585836317ef"
      },
      "execution_count": 17,
      "outputs": [
        {
          "output_type": "execute_result",
          "data": {
            "text/plain": [
              "Name                  0\n",
              "Age                   0\n",
              "Gender                0\n",
              "Blood Type            0\n",
              "Medical Condition     0\n",
              "Date of Admission     0\n",
              "Doctor                0\n",
              "Hospital              0\n",
              "Insurance Provider    0\n",
              "Billing Amount        0\n",
              "Room Number           0\n",
              "Admission Type        0\n",
              "Discharge Date        0\n",
              "Medication            0\n",
              "Test Results          0\n",
              "dtype: int64"
            ],
            "text/html": [
              "<div>\n",
              "<style scoped>\n",
              "    .dataframe tbody tr th:only-of-type {\n",
              "        vertical-align: middle;\n",
              "    }\n",
              "\n",
              "    .dataframe tbody tr th {\n",
              "        vertical-align: top;\n",
              "    }\n",
              "\n",
              "    .dataframe thead th {\n",
              "        text-align: right;\n",
              "    }\n",
              "</style>\n",
              "<table border=\"1\" class=\"dataframe\">\n",
              "  <thead>\n",
              "    <tr style=\"text-align: right;\">\n",
              "      <th></th>\n",
              "      <th>0</th>\n",
              "    </tr>\n",
              "  </thead>\n",
              "  <tbody>\n",
              "    <tr>\n",
              "      <th>Name</th>\n",
              "      <td>0</td>\n",
              "    </tr>\n",
              "    <tr>\n",
              "      <th>Age</th>\n",
              "      <td>0</td>\n",
              "    </tr>\n",
              "    <tr>\n",
              "      <th>Gender</th>\n",
              "      <td>0</td>\n",
              "    </tr>\n",
              "    <tr>\n",
              "      <th>Blood Type</th>\n",
              "      <td>0</td>\n",
              "    </tr>\n",
              "    <tr>\n",
              "      <th>Medical Condition</th>\n",
              "      <td>0</td>\n",
              "    </tr>\n",
              "    <tr>\n",
              "      <th>Date of Admission</th>\n",
              "      <td>0</td>\n",
              "    </tr>\n",
              "    <tr>\n",
              "      <th>Doctor</th>\n",
              "      <td>0</td>\n",
              "    </tr>\n",
              "    <tr>\n",
              "      <th>Hospital</th>\n",
              "      <td>0</td>\n",
              "    </tr>\n",
              "    <tr>\n",
              "      <th>Insurance Provider</th>\n",
              "      <td>0</td>\n",
              "    </tr>\n",
              "    <tr>\n",
              "      <th>Billing Amount</th>\n",
              "      <td>0</td>\n",
              "    </tr>\n",
              "    <tr>\n",
              "      <th>Room Number</th>\n",
              "      <td>0</td>\n",
              "    </tr>\n",
              "    <tr>\n",
              "      <th>Admission Type</th>\n",
              "      <td>0</td>\n",
              "    </tr>\n",
              "    <tr>\n",
              "      <th>Discharge Date</th>\n",
              "      <td>0</td>\n",
              "    </tr>\n",
              "    <tr>\n",
              "      <th>Medication</th>\n",
              "      <td>0</td>\n",
              "    </tr>\n",
              "    <tr>\n",
              "      <th>Test Results</th>\n",
              "      <td>0</td>\n",
              "    </tr>\n",
              "  </tbody>\n",
              "</table>\n",
              "</div><br><label><b>dtype:</b> int64</label>"
            ]
          },
          "metadata": {},
          "execution_count": 17
        }
      ]
    },
    {
      "cell_type": "markdown",
      "source": [
        "##**1.10.Check For Outliers**"
      ],
      "metadata": {
        "id": "QjKT57OD_Z4H"
      }
    },
    {
      "cell_type": "code",
      "source": [
        "for col in numerical_cols:\n",
        "    plt.figure(figsize=(6, 1.5))\n",
        "    sns.boxplot(x=df[col],color = 'pink')\n",
        "    plt.title(f'Boxplot of {col}')\n",
        "    plt.tight_layout()\n",
        "    plt.show()\n"
      ],
      "metadata": {
        "colab": {
          "base_uri": "https://localhost:8080/",
          "height": 419
        },
        "id": "nWw5KSap_mZA",
        "outputId": "eac1d2a1-f0e1-4861-9f75-ca49f679f118"
      },
      "execution_count": 18,
      "outputs": [
        {
          "output_type": "display_data",
          "data": {
            "text/plain": [
              "<Figure size 600x150 with 1 Axes>"
            ],
            "image/png": "[encoded data removed]"
          },
          "metadata": {}
        },
        {
          "output_type": "display_data",
          "data": {
            "text/plain": [
              "<Figure size 600x150 with 1 Axes>"
            ],
            "image/png": "[encoded data removed]"
          },
          "metadata": {}
        },
        {
          "output_type": "display_data",
          "data": {
            "text/plain": [
              "<Figure size 600x150 with 1 Axes>"
            ],
            "image/png": "[encoded data removed]"
          },
          "metadata": {}
        }
      ]
    },
    {
      "cell_type": "markdown",
      "source": [
        "**1. Age**\n",
        "\n",
        "✅ Symmetrical distribution centered around 52 (matches .describe()).\n",
        "\n",
        "❌ No visible outliers: All data points seem within whiskers.\n",
        "\n",
        "🔍 Insight: Age data is clean and well-bounded (min 13, max 89). No further preprocessing needed for outliers.\n",
        "\n",
        "**2. Billing Amount**\n",
        "\n",
        "⚠️ Presence of outliers on the left (negative or very low values).\n",
        "\n",
        "Confirmed by .describe() showing a minimum of -2008, which is not valid for billing.\n",
        "\n",
        "🧹 Action required:\n",
        "\n",
        "Filter or correct negative billing amounts – likely data entry issues.\n",
        "\n",
        "**3. Room Number**\n",
        "\n",
        "✅ Appears to be uniformly distributed between ~100 to 500.\n",
        "\n",
        "❌ No outliers present.\n",
        "\n",
        "🔍 Insight: Room numbers are within a logical range; outlier handling not needed here."
      ],
      "metadata": {
        "id": "bLepnRklApjo"
      }
    },
    {
      "cell_type": "markdown",
      "source": [
        "##**1.11. Check For \"null\" String**"
      ],
      "metadata": {
        "id": "Xz27F3qI3HU9"
      }
    },
    {
      "cell_type": "code",
      "source": [
        "(df == \"null\").sum()"
      ],
      "metadata": {
        "colab": {
          "base_uri": "https://localhost:8080/",
          "height": 554
        },
        "id": "PsiKtxcG3QBW",
        "outputId": "962f6259-97ba-4ca0-d336-843c23f29396"
      },
      "execution_count": 19,
      "outputs": [
        {
          "output_type": "execute_result",
          "data": {
            "text/plain": [
              "Name                  0\n",
              "Age                   0\n",
              "Gender                0\n",
              "Blood Type            0\n",
              "Medical Condition     0\n",
              "Date of Admission     0\n",
              "Doctor                0\n",
              "Hospital              0\n",
              "Insurance Provider    0\n",
              "Billing Amount        0\n",
              "Room Number           0\n",
              "Admission Type        0\n",
              "Discharge Date        0\n",
              "Medication            0\n",
              "Test Results          0\n",
              "dtype: int64"
            ],
            "text/html": [
              "<div>\n",
              "<style scoped>\n",
              "    .dataframe tbody tr th:only-of-type {\n",
              "        vertical-align: middle;\n",
              "    }\n",
              "\n",
              "    .dataframe tbody tr th {\n",
              "        vertical-align: top;\n",
              "    }\n",
              "\n",
              "    .dataframe thead th {\n",
              "        text-align: right;\n",
              "    }\n",
              "</style>\n",
              "<table border=\"1\" class=\"dataframe\">\n",
              "  <thead>\n",
              "    <tr style=\"text-align: right;\">\n",
              "      <th></th>\n",
              "      <th>0</th>\n",
              "    </tr>\n",
              "  </thead>\n",
              "  <tbody>\n",
              "    <tr>\n",
              "      <th>Name</th>\n",
              "      <td>0</td>\n",
              "    </tr>\n",
              "    <tr>\n",
              "      <th>Age</th>\n",
              "      <td>0</td>\n",
              "    </tr>\n",
              "    <tr>\n",
              "      <th>Gender</th>\n",
              "      <td>0</td>\n",
              "    </tr>\n",
              "    <tr>\n",
              "      <th>Blood Type</th>\n",
              "      <td>0</td>\n",
              "    </tr>\n",
              "    <tr>\n",
              "      <th>Medical Condition</th>\n",
              "      <td>0</td>\n",
              "    </tr>\n",
              "    <tr>\n",
              "      <th>Date of Admission</th>\n",
              "      <td>0</td>\n",
              "    </tr>\n",
              "    <tr>\n",
              "      <th>Doctor</th>\n",
              "      <td>0</td>\n",
              "    </tr>\n",
              "    <tr>\n",
              "      <th>Hospital</th>\n",
              "      <td>0</td>\n",
              "    </tr>\n",
              "    <tr>\n",
              "      <th>Insurance Provider</th>\n",
              "      <td>0</td>\n",
              "    </tr>\n",
              "    <tr>\n",
              "      <th>Billing Amount</th>\n",
              "      <td>0</td>\n",
              "    </tr>\n",
              "    <tr>\n",
              "      <th>Room Number</th>\n",
              "      <td>0</td>\n",
              "    </tr>\n",
              "    <tr>\n",
              "      <th>Admission Type</th>\n",
              "      <td>0</td>\n",
              "    </tr>\n",
              "    <tr>\n",
              "      <th>Discharge Date</th>\n",
              "      <td>0</td>\n",
              "    </tr>\n",
              "    <tr>\n",
              "      <th>Medication</th>\n",
              "      <td>0</td>\n",
              "    </tr>\n",
              "    <tr>\n",
              "      <th>Test Results</th>\n",
              "      <td>0</td>\n",
              "    </tr>\n",
              "  </tbody>\n",
              "</table>\n",
              "</div><br><label><b>dtype:</b> int64</label>"
            ]
          },
          "metadata": {},
          "execution_count": 19
        }
      ]
    },
    {
      "cell_type": "markdown",
      "source": [
        "#**2. Data Cleaning/Preprocessing**"
      ],
      "metadata": {
        "id": "8rtSWNw1qnrh"
      }
    },
    {
      "cell_type": "markdown",
      "source": [
        "##**2.1 Column Name Standardization**"
      ],
      "metadata": {
        "id": "ib_zrpf4q9c6"
      }
    },
    {
      "cell_type": "code",
      "source": [
        "df.columns"
      ],
      "metadata": {
        "colab": {
          "base_uri": "https://localhost:8080/"
        },
        "id": "dRbuePPcsZOD",
        "outputId": "4cc836e5-f76b-41ea-bded-d96eb0c497dc"
      },
      "execution_count": 20,
      "outputs": [
        {
          "output_type": "execute_result",
          "data": {
            "text/plain": [
              "Index(['Name', 'Age', 'Gender', 'Blood Type', 'Medical Condition',\n",
              "       'Date of Admission', 'Doctor', 'Hospital', 'Insurance Provider',\n",
              "       'Billing Amount', 'Room Number', 'Admission Type', 'Discharge Date',\n",
              "       'Medication', 'Test Results'],\n",
              "      dtype='object')"
            ]
          },
          "metadata": {},
          "execution_count": 20
        }
      ]
    },
    {
      "cell_type": "markdown",
      "source": [
        "**All the columns should be in lower case and there should be \"_\"(underscore) instead of \"  \"(space).**"
      ],
      "metadata": {
        "id": "tOwlXaV6rf8C"
      }
    },
    {
      "cell_type": "code",
      "source": [
        "#lower case column name and replace space with underscore.\n",
        "df.columns = df.columns.str.strip().str.lower().str.replace(' ', '_')"
      ],
      "metadata": {
        "id": "1dt-gx5-rfrG"
      },
      "execution_count": 21,
      "outputs": []
    },
    {
      "cell_type": "code",
      "source": [
        "#check columns\n",
        "df.columns"
      ],
      "metadata": {
        "colab": {
          "base_uri": "https://localhost:8080/"
        },
        "id": "i9yBoy3Kqv2a",
        "outputId": "bf7b81dd-6774-4609-f3da-6f284ec7c72c"
      },
      "execution_count": 22,
      "outputs": [
        {
          "output_type": "execute_result",
          "data": {
            "text/plain": [
              "Index(['name', 'age', 'gender', 'blood_type', 'medical_condition',\n",
              "       'date_of_admission', 'doctor', 'hospital', 'insurance_provider',\n",
              "       'billing_amount', 'room_number', 'admission_type', 'discharge_date',\n",
              "       'medication', 'test_results'],\n",
              "      dtype='object')"
            ]
          },
          "metadata": {},
          "execution_count": 22
        }
      ]
    },
    {
      "cell_type": "markdown",
      "source": [
        "##**2.2 Billing Amount Clean Up**"
      ],
      "metadata": {
        "id": "zsuFngoQsGC2"
      }
    },
    {
      "cell_type": "markdown",
      "source": [
        "### 2.2.1. Rounded billing_amount to whole numbers"
      ],
      "metadata": {
        "id": "IJxsSZCF1_V4"
      }
    },
    {
      "cell_type": "code",
      "source": [
        "df.billing_amount.head()"
      ],
      "metadata": {
        "colab": {
          "base_uri": "https://localhost:8080/",
          "height": 241
        },
        "id": "VRPEBBDysGz2",
        "outputId": "16e43118-121f-46e8-f4a3-eb852ba19a3f"
      },
      "execution_count": 23,
      "outputs": [
        {
          "output_type": "execute_result",
          "data": {
            "text/plain": [
              "0    18856.281306\n",
              "1    33643.327287\n",
              "2    27955.096079\n",
              "3    37909.782410\n",
              "4    14238.317814\n",
              "Name: billing_amount, dtype: float64"
            ],
            "text/html": [
              "<div>\n",
              "<style scoped>\n",
              "    .dataframe tbody tr th:only-of-type {\n",
              "        vertical-align: middle;\n",
              "    }\n",
              "\n",
              "    .dataframe tbody tr th {\n",
              "        vertical-align: top;\n",
              "    }\n",
              "\n",
              "    .dataframe thead th {\n",
              "        text-align: right;\n",
              "    }\n",
              "</style>\n",
              "<table border=\"1\" class=\"dataframe\">\n",
              "  <thead>\n",
              "    <tr style=\"text-align: right;\">\n",
              "      <th></th>\n",
              "      <th>billing_amount</th>\n",
              "    </tr>\n",
              "  </thead>\n",
              "  <tbody>\n",
              "    <tr>\n",
              "      <th>0</th>\n",
              "      <td>18856.281306</td>\n",
              "    </tr>\n",
              "    <tr>\n",
              "      <th>1</th>\n",
              "      <td>33643.327287</td>\n",
              "    </tr>\n",
              "    <tr>\n",
              "      <th>2</th>\n",
              "      <td>27955.096079</td>\n",
              "    </tr>\n",
              "    <tr>\n",
              "      <th>3</th>\n",
              "      <td>37909.782410</td>\n",
              "    </tr>\n",
              "    <tr>\n",
              "      <th>4</th>\n",
              "      <td>14238.317814</td>\n",
              "    </tr>\n",
              "  </tbody>\n",
              "</table>\n",
              "</div><br><label><b>dtype:</b> float64</label>"
            ]
          },
          "metadata": {},
          "execution_count": 23
        }
      ]
    },
    {
      "cell_type": "markdown",
      "source": [
        "**To make the billing values cleaner and easier to work with, we round them to the nearest integer.**"
      ],
      "metadata": {
        "id": "B5XJH_ygs0Zk"
      }
    },
    {
      "cell_type": "code",
      "source": [
        "#rounding the billing_amount values\n",
        "df['billing_amount'] = df['billing_amount'].round(0).astype(int)"
      ],
      "metadata": {
        "id": "IjkSUyY1s4Eq"
      },
      "execution_count": 24,
      "outputs": []
    },
    {
      "cell_type": "code",
      "source": [
        "#check\n",
        "df.billing_amount.head()"
      ],
      "metadata": {
        "colab": {
          "base_uri": "https://localhost:8080/",
          "height": 241
        },
        "id": "DskHno4ws8iT",
        "outputId": "4ef52bb9-338b-408c-d210-74b095081b22"
      },
      "execution_count": 25,
      "outputs": [
        {
          "output_type": "execute_result",
          "data": {
            "text/plain": [
              "0    18856\n",
              "1    33643\n",
              "2    27955\n",
              "3    37910\n",
              "4    14238\n",
              "Name: billing_amount, dtype: int64"
            ],
            "text/html": [
              "<div>\n",
              "<style scoped>\n",
              "    .dataframe tbody tr th:only-of-type {\n",
              "        vertical-align: middle;\n",
              "    }\n",
              "\n",
              "    .dataframe tbody tr th {\n",
              "        vertical-align: top;\n",
              "    }\n",
              "\n",
              "    .dataframe thead th {\n",
              "        text-align: right;\n",
              "    }\n",
              "</style>\n",
              "<table border=\"1\" class=\"dataframe\">\n",
              "  <thead>\n",
              "    <tr style=\"text-align: right;\">\n",
              "      <th></th>\n",
              "      <th>billing_amount</th>\n",
              "    </tr>\n",
              "  </thead>\n",
              "  <tbody>\n",
              "    <tr>\n",
              "      <th>0</th>\n",
              "      <td>18856</td>\n",
              "    </tr>\n",
              "    <tr>\n",
              "      <th>1</th>\n",
              "      <td>33643</td>\n",
              "    </tr>\n",
              "    <tr>\n",
              "      <th>2</th>\n",
              "      <td>27955</td>\n",
              "    </tr>\n",
              "    <tr>\n",
              "      <th>3</th>\n",
              "      <td>37910</td>\n",
              "    </tr>\n",
              "    <tr>\n",
              "      <th>4</th>\n",
              "      <td>14238</td>\n",
              "    </tr>\n",
              "  </tbody>\n",
              "</table>\n",
              "</div><br><label><b>dtype:</b> int64</label>"
            ]
          },
          "metadata": {},
          "execution_count": 25
        }
      ]
    },
    {
      "cell_type": "markdown",
      "source": [
        "###2.2.2. Removed rows with negative billing_amount"
      ],
      "metadata": {
        "id": "a_6IVt_Swpiz"
      }
    },
    {
      "cell_type": "code",
      "source": [
        "# find and count values having negative value in billing_amount\n",
        "df[df['billing_amount'] < 0]"
      ],
      "metadata": {
        "colab": {
          "base_uri": "https://localhost:8080/",
          "height": 704
        },
        "id": "0byxuo33xr3j",
        "outputId": "8fe521e5-b7d8-491a-c244-9cba9e71b6c7"
      },
      "execution_count": 26,
      "outputs": [
        {
          "output_type": "execute_result",
          "data": {
            "text/plain": [
              "                    name  age  gender blood_type medical_condition  \\\n",
              "132      ashLEy ERIcKSoN   32  Female        AB-            Cancer   \n",
              "799    CHRisTOPHer wEiss   49  Female        AB-            Asthma   \n",
              "1018       AsHley WaRnER   60    Male         A+      Hypertension   \n",
              "1421        JAY galloWaY   74  Female         O+            Asthma   \n",
              "2103   josHUa wilLIamSon   72  Female         B-          Diabetes   \n",
              "...                  ...  ...     ...        ...               ...   \n",
              "52894         JosEPh cOx   23    Male        AB-          Diabetes   \n",
              "53204      AsHley WaRnER   55    Male         A+      Hypertension   \n",
              "53232       dAnIel dRaKe   68  Female         B+      Hypertension   \n",
              "54136  DR. micHaEl MckAy   64    Male         O+            Cancer   \n",
              "55276       JOhN fERRELl   58  Female         O-      Hypertension   \n",
              "\n",
              "      date_of_admission          doctor                   hospital  \\\n",
              "132          2019-11-05   Gerald Hooper  and Johnson Moore, Branch   \n",
              "799          2023-02-16  Kelly Thompson              Hunter-Hughes   \n",
              "1018         2021-12-21  Andrea Bentley      and Wagner, Lee Klein   \n",
              "1421         2021-01-20   Debra Everett               Group Peters   \n",
              "2103         2021-03-21     Wendy Ramos    and Huff Reeves, Dennis   \n",
              "...                 ...             ...                        ...   \n",
              "52894        2019-10-13     Peter Smith                   Inc Ward   \n",
              "53204        2021-12-21  Andrea Bentley      and Wagner, Lee Klein   \n",
              "53232        2020-04-24       Brett Ray                   Carr Ltd   \n",
              "54136        2019-05-31    Dawn Navarro  Mcconnell and Rios, Clark   \n",
              "55276        2019-05-20  Randy Calderon                Inc Spencer   \n",
              "\n",
              "      insurance_provider  billing_amount  room_number admission_type  \\\n",
              "132                Aetna            -503          376         Urgent   \n",
              "799                Aetna           -1018          204       Elective   \n",
              "1018               Aetna            -306          426       Elective   \n",
              "1421          Blue Cross            -109          381      Emergency   \n",
              "2103          Blue Cross            -577          369         Urgent   \n",
              "...                  ...             ...          ...            ...   \n",
              "52894         Blue Cross            -354          271       Elective   \n",
              "53204              Aetna            -306          426       Elective   \n",
              "53232              Aetna            -592          426       Elective   \n",
              "54136   UnitedHealthcare            -200          122         Urgent   \n",
              "55276           Medicare            -309          394      Emergency   \n",
              "\n",
              "      discharge_date   medication  test_results  \n",
              "132       2019-11-23   Penicillin        Normal  \n",
              "799       2023-03-09   Penicillin  Inconclusive  \n",
              "1018      2022-01-11    Ibuprofen        Normal  \n",
              "1421      2021-02-09    Ibuprofen      Abnormal  \n",
              "2103      2021-04-17      Aspirin      Abnormal  \n",
              "...              ...          ...           ...  \n",
              "52894     2019-10-25      Lipitor  Inconclusive  \n",
              "53204     2022-01-11    Ibuprofen        Normal  \n",
              "53232     2020-04-26      Lipitor      Abnormal  \n",
              "54136     2019-06-12    Ibuprofen      Abnormal  \n",
              "55276     2019-05-27  Paracetamol  Inconclusive  \n",
              "\n",
              "[108 rows x 15 columns]"
            ],
            "text/html": [
              "\n",
              "  <div id=\"df-a8dc3fff-2c19-43d4-bf28-05c603d6dbeb\" class=\"colab-df-container\">\n",
              "    <div>\n",
              "<style scoped>\n",
              "    .dataframe tbody tr th:only-of-type {\n",
              "        vertical-align: middle;\n",
              "    }\n",
              "\n",
              "    .dataframe tbody tr th {\n",
              "        vertical-align: top;\n",
              "    }\n",
              "\n",
              "    .dataframe thead th {\n",
              "        text-align: right;\n",
              "    }\n",
              "</style>\n",
              "<table border=\"1\" class=\"dataframe\">\n",
              "  <thead>\n",
              "    <tr style=\"text-align: right;\">\n",
              "      <th></th>\n",
              "      <th>name</th>\n",
              "      <th>age</th>\n",
              "      <th>gender</th>\n",
              "      <th>blood_type</th>\n",
              "      <th>medical_condition</th>\n",
              "      <th>date_of_admission</th>\n",
              "      <th>doctor</th>\n",
              "      <th>hospital</th>\n",
              "      <th>insurance_provider</th>\n",
              "      <th>billing_amount</th>\n",
              "      <th>room_number</th>\n",
              "      <th>admission_type</th>\n",
              "      <th>discharge_date</th>\n",
              "      <th>medication</th>\n",
              "      <th>test_results</th>\n",
              "    </tr>\n",
              "  </thead>\n",
              "  <tbody>\n",
              "    <tr>\n",
              "      <th>132</th>\n",
              "      <td>ashLEy ERIcKSoN</td>\n",
              "      <td>32</td>\n",
              "      <td>Female</td>\n",
              "      <td>AB-</td>\n",
              "      <td>Cancer</td>\n",
              "      <td>2019-11-05</td>\n",
              "      <td>Gerald Hooper</td>\n",
              "      <td>and Johnson Moore, Branch</td>\n",
              "      <td>Aetna</td>\n",
              "      <td>-503</td>\n",
              "      <td>376</td>\n",
              "      <td>Urgent</td>\n",
              "      <td>2019-11-23</td>\n",
              "      <td>Penicillin</td>\n",
              "      <td>Normal</td>\n",
              "    </tr>\n",
              "    <tr>\n",
              "      <th>799</th>\n",
              "      <td>CHRisTOPHer wEiss</td>\n",
              "      <td>49</td>\n",
              "      <td>Female</td>\n",
              "      <td>AB-</td>\n",
              "      <td>Asthma</td>\n",
              "      <td>2023-02-16</td>\n",
              "      <td>Kelly Thompson</td>\n",
              "      <td>Hunter-Hughes</td>\n",
              "      <td>Aetna</td>\n",
              "      <td>-1018</td>\n",
              "      <td>204</td>\n",
              "      <td>Elective</td>\n",
              "      <td>2023-03-09</td>\n",
              "      <td>Penicillin</td>\n",
              "      <td>Inconclusive</td>\n",
              "    </tr>\n",
              "    <tr>\n",
              "      <th>1018</th>\n",
              "      <td>AsHley WaRnER</td>\n",
              "      <td>60</td>\n",
              "      <td>Male</td>\n",
              "      <td>A+</td>\n",
              "      <td>Hypertension</td>\n",
              "      <td>2021-12-21</td>\n",
              "      <td>Andrea Bentley</td>\n",
              "      <td>and Wagner, Lee Klein</td>\n",
              "      <td>Aetna</td>\n",
              "      <td>-306</td>\n",
              "      <td>426</td>\n",
              "      <td>Elective</td>\n",
              "      <td>2022-01-11</td>\n",
              "      <td>Ibuprofen</td>\n",
              "      <td>Normal</td>\n",
              "    </tr>\n",
              "    <tr>\n",
              "      <th>1421</th>\n",
              "      <td>JAY galloWaY</td>\n",
              "      <td>74</td>\n",
              "      <td>Female</td>\n",
              "      <td>O+</td>\n",
              "      <td>Asthma</td>\n",
              "      <td>2021-01-20</td>\n",
              "      <td>Debra Everett</td>\n",
              "      <td>Group Peters</td>\n",
              "      <td>Blue Cross</td>\n",
              "      <td>-109</td>\n",
              "      <td>381</td>\n",
              "      <td>Emergency</td>\n",
              "      <td>2021-02-09</td>\n",
              "      <td>Ibuprofen</td>\n",
              "      <td>Abnormal</td>\n",
              "    </tr>\n",
              "    <tr>\n",
              "      <th>2103</th>\n",
              "      <td>josHUa wilLIamSon</td>\n",
              "      <td>72</td>\n",
              "      <td>Female</td>\n",
              "      <td>B-</td>\n",
              "      <td>Diabetes</td>\n",
              "      <td>2021-03-21</td>\n",
              "      <td>Wendy Ramos</td>\n",
              "      <td>and Huff Reeves, Dennis</td>\n",
              "      <td>Blue Cross</td>\n",
              "      <td>-577</td>\n",
              "      <td>369</td>\n",
              "      <td>Urgent</td>\n",
              "      <td>2021-04-17</td>\n",
              "      <td>Aspirin</td>\n",
              "      <td>Abnormal</td>\n",
              "    </tr>\n",
              "    <tr>\n",
              "      <th>...</th>\n",
              "      <td>...</td>\n",
              "      <td>...</td>\n",
              "      <td>...</td>\n",
              "      <td>...</td>\n",
              "      <td>...</td>\n",
              "      <td>...</td>\n",
              "      <td>...</td>\n",
              "      <td>...</td>\n",
              "      <td>...</td>\n",
              "      <td>...</td>\n",
              "      <td>...</td>\n",
              "      <td>...</td>\n",
              "      <td>...</td>\n",
              "      <td>...</td>\n",
              "      <td>...</td>\n",
              "    </tr>\n",
              "    <tr>\n",
              "      <th>52894</th>\n",
              "      <td>JosEPh cOx</td>\n",
              "      <td>23</td>\n",
              "      <td>Male</td>\n",
              "      <td>AB-</td>\n",
              "      <td>Diabetes</td>\n",
              "      <td>2019-10-13</td>\n",
              "      <td>Peter Smith</td>\n",
              "      <td>Inc Ward</td>\n",
              "      <td>Blue Cross</td>\n",
              "      <td>-354</td>\n",
              "      <td>271</td>\n",
              "      <td>Elective</td>\n",
              "      <td>2019-10-25</td>\n",
              "      <td>Lipitor</td>\n",
              "      <td>Inconclusive</td>\n",
              "    </tr>\n",
              "    <tr>\n",
              "      <th>53204</th>\n",
              "      <td>AsHley WaRnER</td>\n",
              "      <td>55</td>\n",
              "      <td>Male</td>\n",
              "      <td>A+</td>\n",
              "      <td>Hypertension</td>\n",
              "      <td>2021-12-21</td>\n",
              "      <td>Andrea Bentley</td>\n",
              "      <td>and Wagner, Lee Klein</td>\n",
              "      <td>Aetna</td>\n",
              "      <td>-306</td>\n",
              "      <td>426</td>\n",
              "      <td>Elective</td>\n",
              "      <td>2022-01-11</td>\n",
              "      <td>Ibuprofen</td>\n",
              "      <td>Normal</td>\n",
              "    </tr>\n",
              "    <tr>\n",
              "      <th>53232</th>\n",
              "      <td>dAnIel dRaKe</td>\n",
              "      <td>68</td>\n",
              "      <td>Female</td>\n",
              "      <td>B+</td>\n",
              "      <td>Hypertension</td>\n",
              "      <td>2020-04-24</td>\n",
              "      <td>Brett Ray</td>\n",
              "      <td>Carr Ltd</td>\n",
              "      <td>Aetna</td>\n",
              "      <td>-592</td>\n",
              "      <td>426</td>\n",
              "      <td>Elective</td>\n",
              "      <td>2020-04-26</td>\n",
              "      <td>Lipitor</td>\n",
              "      <td>Abnormal</td>\n",
              "    </tr>\n",
              "    <tr>\n",
              "      <th>54136</th>\n",
              "      <td>DR. micHaEl MckAy</td>\n",
              "      <td>64</td>\n",
              "      <td>Male</td>\n",
              "      <td>O+</td>\n",
              "      <td>Cancer</td>\n",
              "      <td>2019-05-31</td>\n",
              "      <td>Dawn Navarro</td>\n",
              "      <td>Mcconnell and Rios, Clark</td>\n",
              "      <td>UnitedHealthcare</td>\n",
              "      <td>-200</td>\n",
              "      <td>122</td>\n",
              "      <td>Urgent</td>\n",
              "      <td>2019-06-12</td>\n",
              "      <td>Ibuprofen</td>\n",
              "      <td>Abnormal</td>\n",
              "    </tr>\n",
              "    <tr>\n",
              "      <th>55276</th>\n",
              "      <td>JOhN fERRELl</td>\n",
              "      <td>58</td>\n",
              "      <td>Female</td>\n",
              "      <td>O-</td>\n",
              "      <td>Hypertension</td>\n",
              "      <td>2019-05-20</td>\n",
              "      <td>Randy Calderon</td>\n",
              "      <td>Inc Spencer</td>\n",
              "      <td>Medicare</td>\n",
              "      <td>-309</td>\n",
              "      <td>394</td>\n",
              "      <td>Emergency</td>\n",
              "      <td>2019-05-27</td>\n",
              "      <td>Paracetamol</td>\n",
              "      <td>Inconclusive</td>\n",
              "    </tr>\n",
              "  </tbody>\n",
              "</table>\n",
              "<p>108 rows × 15 columns</p>\n",
              "</div>\n",
              "    <div class=\"colab-df-buttons\">\n",
              "\n",
              "  <div class=\"colab-df-container\">\n",
              "    <button class=\"colab-df-convert\" onclick=\"convertToInteractive('df-a8dc3fff-2c19-43d4-bf28-05c603d6dbeb')\"\n",
              "            title=\"Convert this dataframe to an interactive table.\"\n",
              "            style=\"display:none;\">\n",
              "\n",
              "  <svg xmlns=\"http://www.w3.org/2000/svg\" height=\"24px\" viewBox=\"0 -960 960 960\">\n",
              "    <path d=\"M120-120v-720h720v720H120Zm60-500h600v-160H180v160Zm220 220h160v-160H400v160Zm0 220h160v-160H400v160ZM180-400h160v-160H180v160Zm440 0h160v-160H620v160ZM180-180h160v-160H180v160Zm440 0h160v-160H620v160Z\"/>\n",
              "  </svg>\n",
              "    </button>\n",
              "\n",
              "  <style>\n",
              "    .colab-df-container {\n",
              "      display:flex;\n",
              "      gap: 12px;\n",
              "    }\n",
              "\n",
              "    .colab-df-convert {\n",
              "      background-color: #E8F0FE;\n",
              "      border: none;\n",
              "      border-radius: 50%;\n",
              "      cursor: pointer;\n",
              "      display: none;\n",
              "      fill: #1967D2;\n",
              "      height: 32px;\n",
              "      padding: 0 0 0 0;\n",
              "      width: 32px;\n",
              "    }\n",
              "\n",
              "    .colab-df-convert:hover {\n",
              "      background-color: #E2EBFA;\n",
              "      box-shadow: 0px 1px 2px rgba(60, 64, 67, 0.3), 0px 1px 3px 1px rgba(60, 64, 67, 0.15);\n",
              "      fill: #174EA6;\n",
              "    }\n",
              "\n",
              "    .colab-df-buttons div {\n",
              "      margin-bottom: 4px;\n",
              "    }\n",
              "\n",
              "    [theme=dark] .colab-df-convert {\n",
              "      background-color: #3B4455;\n",
              "      fill: #D2E3FC;\n",
              "    }\n",
              "\n",
              "    [theme=dark] .colab-df-convert:hover {\n",
              "      background-color: #434B5C;\n",
              "      box-shadow: 0px 1px 3px 1px rgba(0, 0, 0, 0.15);\n",
              "      filter: drop-shadow(0px 1px 2px rgba(0, 0, 0, 0.3));\n",
              "      fill: #FFFFFF;\n",
              "    }\n",
              "  </style>\n",
              "\n",
              "    <script>\n",
              "      const buttonEl =\n",
              "        document.querySelector('#df-a8dc3fff-2c19-43d4-bf28-05c603d6dbeb button.colab-df-convert');\n",
              "      buttonEl.style.display =\n",
              "        google.colab.kernel.accessAllowed ? 'block' : 'none';\n",
              "\n",
              "      async function convertToInteractive(key) {\n",
              "        const element = document.querySelector('#df-a8dc3fff-2c19-43d4-bf28-05c603d6dbeb');\n",
              "        const dataTable =\n",
              "          await google.colab.kernel.invokeFunction('convertToInteractive',\n",
              "                                                    [key], {});\n",
              "        if (!dataTable) return;\n",
              "\n",
              "        const docLinkHtml = 'Like what you see? Visit the ' +\n",
              "          '<a target=\"_blank\" href=https://colab.research.google.com/notebooks/data_table.ipynb>data table notebook</a>'\n",
              "          + ' to learn more about interactive tables.';\n",
              "        element.innerHTML = '';\n",
              "        dataTable['output_type'] = 'display_data';\n",
              "        await google.colab.output.renderOutput(dataTable, element);\n",
              "        const docLink = document.createElement('div');\n",
              "        docLink.innerHTML = docLinkHtml;\n",
              "        element.appendChild(docLink);\n",
              "      }\n",
              "    </script>\n",
              "  </div>\n",
              "\n",
              "\n",
              "    <div id=\"df-80dd4a7c-d7fe-423d-8a4f-b4c0657ee8bd\">\n",
              "      <button class=\"colab-df-quickchart\" onclick=\"quickchart('df-80dd4a7c-d7fe-423d-8a4f-b4c0657ee8bd')\"\n",
              "                title=\"Suggest charts\"\n",
              "                style=\"display:none;\">\n",
              "\n",
              "<svg xmlns=\"http://www.w3.org/2000/svg\" height=\"24px\"viewBox=\"0 0 24 24\"\n",
              "     width=\"24px\">\n",
              "    <g>\n",
              "        <path d=\"M19 3H5c-1.1 0-2 .9-2 2v14c0 1.1.9 2 2 2h14c1.1 0 2-.9 2-2V5c0-1.1-.9-2-2-2zM9 17H7v-7h2v7zm4 0h-2V7h2v10zm4 0h-2v-4h2v4z\"/>\n",
              "    </g>\n",
              "</svg>\n",
              "      </button>\n",
              "\n",
              "<style>\n",
              "  .colab-df-quickchart {\n",
              "      --bg-color: #E8F0FE;\n",
              "      --fill-color: #1967D2;\n",
              "      --hover-bg-color: #E2EBFA;\n",
              "      --hover-fill-color: #174EA6;\n",
              "      --disabled-fill-color: #AAA;\n",
              "      --disabled-bg-color: #DDD;\n",
              "  }\n",
              "\n",
              "  [theme=dark] .colab-df-quickchart {\n",
              "      --bg-color: #3B4455;\n",
              "      --fill-color: #D2E3FC;\n",
              "      --hover-bg-color: #434B5C;\n",
              "      --hover-fill-color: #FFFFFF;\n",
              "      --disabled-bg-color: #3B4455;\n",
              "      --disabled-fill-color: #666;\n",
              "  }\n",
              "\n",
              "  .colab-df-quickchart {\n",
              "    background-color: var(--bg-color);\n",
              "    border: none;\n",
              "    border-radius: 50%;\n",
              "    cursor: pointer;\n",
              "    display: none;\n",
              "    fill: var(--fill-color);\n",
              "    height: 32px;\n",
              "    padding: 0;\n",
              "    width: 32px;\n",
              "  }\n",
              "\n",
              "  .colab-df-quickchart:hover {\n",
              "    background-color: var(--hover-bg-color);\n",
              "    box-shadow: 0 1px 2px rgba(60, 64, 67, 0.3), 0 1px 3px 1px rgba(60, 64, 67, 0.15);\n",
              "    fill: var(--button-hover-fill-color);\n",
              "  }\n",
              "\n",
              "  .colab-df-quickchart-complete:disabled,\n",
              "  .colab-df-quickchart-complete:disabled:hover {\n",
              "    background-color: var(--disabled-bg-color);\n",
              "    fill: var(--disabled-fill-color);\n",
              "    box-shadow: none;\n",
              "  }\n",
              "\n",
              "  .colab-df-spinner {\n",
              "    border: 2px solid var(--fill-color);\n",
              "    border-color: transparent;\n",
              "    border-bottom-color: var(--fill-color);\n",
              "    animation:\n",
              "      spin 1s steps(1) infinite;\n",
              "  }\n",
              "\n",
              "  @keyframes spin {\n",
              "    0% {\n",
              "      border-color: transparent;\n",
              "      border-bottom-color: var(--fill-color);\n",
              "      border-left-color: var(--fill-color);\n",
              "    }\n",
              "    20% {\n",
              "      border-color: transparent;\n",
              "      border-left-color: var(--fill-color);\n",
              "      border-top-color: var(--fill-color);\n",
              "    }\n",
              "    30% {\n",
              "      border-color: transparent;\n",
              "      border-left-color: var(--fill-color);\n",
              "      border-top-color: var(--fill-color);\n",
              "      border-right-color: var(--fill-color);\n",
              "    }\n",
              "    40% {\n",
              "      border-color: transparent;\n",
              "      border-right-color: var(--fill-color);\n",
              "      border-top-color: var(--fill-color);\n",
              "    }\n",
              "    60% {\n",
              "      border-color: transparent;\n",
              "      border-right-color: var(--fill-color);\n",
              "    }\n",
              "    80% {\n",
              "      border-color: transparent;\n",
              "      border-right-color: var(--fill-color);\n",
              "      border-bottom-color: var(--fill-color);\n",
              "    }\n",
              "    90% {\n",
              "      border-color: transparent;\n",
              "      border-bottom-color: var(--fill-color);\n",
              "    }\n",
              "  }\n",
              "</style>\n",
              "\n",
              "      <script>\n",
              "        async function quickchart(key) {\n",
              "          const quickchartButtonEl =\n",
              "            document.querySelector('#' + key + ' button');\n",
              "          quickchartButtonEl.disabled = true;  // To prevent multiple clicks.\n",
              "          quickchartButtonEl.classList.add('colab-df-spinner');\n",
              "          try {\n",
              "            const charts = await google.colab.kernel.invokeFunction(\n",
              "                'suggestCharts', [key], {});\n",
              "          } catch (error) {\n",
              "            console.error('Error during call to suggestCharts:', error);\n",
              "          }\n",
              "          quickchartButtonEl.classList.remove('colab-df-spinner');\n",
              "          quickchartButtonEl.classList.add('colab-df-quickchart-complete');\n",
              "        }\n",
              "        (() => {\n",
              "          let quickchartButtonEl =\n",
              "            document.querySelector('#df-80dd4a7c-d7fe-423d-8a4f-b4c0657ee8bd button');\n",
              "          quickchartButtonEl.style.display =\n",
              "            google.colab.kernel.accessAllowed ? 'block' : 'none';\n",
              "        })();\n",
              "      </script>\n",
              "    </div>\n",
              "\n",
              "    </div>\n",
              "  </div>\n"
            ],
            "application/vnd.google.colaboratory.intrinsic+json": {
              "type": "dataframe",
              "repr_error": "0"
            }
          },
          "metadata": {},
          "execution_count": 26
        }
      ]
    },
    {
      "cell_type": "markdown",
      "source": [
        "There are 106 values with negative value"
      ],
      "metadata": {
        "id": "R7RmoJmkyV-k"
      }
    },
    {
      "cell_type": "code",
      "source": [
        "#removing the rows with Negative values\n",
        "before = df.shape[0]\n",
        "df = df[df['billing_amount'] >= 0]\n",
        "after = df.shape[0]\n",
        "print(f\"Removed {before - after} rows with negative billing amounts.\")\n"
      ],
      "metadata": {
        "colab": {
          "base_uri": "https://localhost:8080/"
        },
        "id": "A8wlf0Nuyj51",
        "outputId": "8df52c7d-9e3d-4bb3-c582-e66f7ecd0596"
      },
      "execution_count": 27,
      "outputs": [
        {
          "output_type": "stream",
          "name": "stdout",
          "text": [
            "Removed 108 rows with negative billing amounts.\n"
          ]
        }
      ]
    },
    {
      "cell_type": "markdown",
      "source": [
        "##**2.3. Date Column Cleanup**"
      ],
      "metadata": {
        "id": "TonngrY6tovm"
      }
    },
    {
      "cell_type": "code",
      "source": [
        "#Check dtypes of \"discharge_date\" and \"date_of_admission\" columns\n",
        "df[['discharge_date','date_of_admission']].dtypes"
      ],
      "metadata": {
        "colab": {
          "base_uri": "https://localhost:8080/",
          "height": 147
        },
        "id": "f6Ompu_Ity_C",
        "outputId": "a18932e2-0509-4e45-aac2-64dd2cfb9fd2"
      },
      "execution_count": 28,
      "outputs": [
        {
          "output_type": "execute_result",
          "data": {
            "text/plain": [
              "discharge_date       object\n",
              "date_of_admission    object\n",
              "dtype: object"
            ],
            "text/html": [
              "<div>\n",
              "<style scoped>\n",
              "    .dataframe tbody tr th:only-of-type {\n",
              "        vertical-align: middle;\n",
              "    }\n",
              "\n",
              "    .dataframe tbody tr th {\n",
              "        vertical-align: top;\n",
              "    }\n",
              "\n",
              "    .dataframe thead th {\n",
              "        text-align: right;\n",
              "    }\n",
              "</style>\n",
              "<table border=\"1\" class=\"dataframe\">\n",
              "  <thead>\n",
              "    <tr style=\"text-align: right;\">\n",
              "      <th></th>\n",
              "      <th>0</th>\n",
              "    </tr>\n",
              "  </thead>\n",
              "  <tbody>\n",
              "    <tr>\n",
              "      <th>discharge_date</th>\n",
              "      <td>object</td>\n",
              "    </tr>\n",
              "    <tr>\n",
              "      <th>date_of_admission</th>\n",
              "      <td>object</td>\n",
              "    </tr>\n",
              "  </tbody>\n",
              "</table>\n",
              "</div><br><label><b>dtype:</b> object</label>"
            ]
          },
          "metadata": {},
          "execution_count": 28
        }
      ]
    },
    {
      "cell_type": "code",
      "source": [
        "#converting the datatypes of the above 2 columns to datetime type.\n",
        "df['date_of_admission'] = pd.to_datetime(df['date_of_admission'], errors='coerce')\n",
        "df['discharge_date'] = pd.to_datetime(df['discharge_date'], errors='coerce')"
      ],
      "metadata": {
        "id": "FYAaoiKTvN86",
        "colab": {
          "base_uri": "https://localhost:8080/"
        },
        "outputId": "c933f52d-aa49-4091-9b83-6d45ed5341d6"
      },
      "execution_count": 29,
      "outputs": [
        {
          "output_type": "stream",
          "name": "stderr",
          "text": [
            "/tmp/ipython-input-29-630248539.py:2: SettingWithCopyWarning: \n",
            "A value is trying to be set on a copy of a slice from a DataFrame.\n",
            "Try using .loc[row_indexer,col_indexer] = value instead\n",
            "\n",
            "See the caveats in the documentation: https://pandas.pydata.org/pandas-docs/stable/user_guide/indexing.html#returning-a-view-versus-a-copy\n",
            "  df['date_of_admission'] = pd.to_datetime(df['date_of_admission'], errors='coerce')\n",
            "/tmp/ipython-input-29-630248539.py:3: SettingWithCopyWarning: \n",
            "A value is trying to be set on a copy of a slice from a DataFrame.\n",
            "Try using .loc[row_indexer,col_indexer] = value instead\n",
            "\n",
            "See the caveats in the documentation: https://pandas.pydata.org/pandas-docs/stable/user_guide/indexing.html#returning-a-view-versus-a-copy\n",
            "  df['discharge_date'] = pd.to_datetime(df['discharge_date'], errors='coerce')\n"
          ]
        }
      ]
    },
    {
      "cell_type": "code",
      "source": [
        "#check\n",
        "df[['discharge_date','date_of_admission']].dtypes"
      ],
      "metadata": {
        "colab": {
          "base_uri": "https://localhost:8080/",
          "height": 147
        },
        "id": "_ZsfNBnVvifD",
        "outputId": "04772d3c-4881-45ad-d401-e1ca1dc2e2f0"
      },
      "execution_count": 30,
      "outputs": [
        {
          "output_type": "execute_result",
          "data": {
            "text/plain": [
              "discharge_date       datetime64[ns]\n",
              "date_of_admission    datetime64[ns]\n",
              "dtype: object"
            ],
            "text/html": [
              "<div>\n",
              "<style scoped>\n",
              "    .dataframe tbody tr th:only-of-type {\n",
              "        vertical-align: middle;\n",
              "    }\n",
              "\n",
              "    .dataframe tbody tr th {\n",
              "        vertical-align: top;\n",
              "    }\n",
              "\n",
              "    .dataframe thead th {\n",
              "        text-align: right;\n",
              "    }\n",
              "</style>\n",
              "<table border=\"1\" class=\"dataframe\">\n",
              "  <thead>\n",
              "    <tr style=\"text-align: right;\">\n",
              "      <th></th>\n",
              "      <th>0</th>\n",
              "    </tr>\n",
              "  </thead>\n",
              "  <tbody>\n",
              "    <tr>\n",
              "      <th>discharge_date</th>\n",
              "      <td>datetime64[ns]</td>\n",
              "    </tr>\n",
              "    <tr>\n",
              "      <th>date_of_admission</th>\n",
              "      <td>datetime64[ns]</td>\n",
              "    </tr>\n",
              "  </tbody>\n",
              "</table>\n",
              "</div><br><label><b>dtype:</b> object</label>"
            ]
          },
          "metadata": {},
          "execution_count": 30
        }
      ]
    },
    {
      "cell_type": "markdown",
      "source": [
        "##**2.4. Handling Duplicates**"
      ],
      "metadata": {
        "id": "ZxAdMB9lv39S"
      }
    },
    {
      "cell_type": "code",
      "source": [
        "#find duplicate values\n",
        "df.duplicated().sum()"
      ],
      "metadata": {
        "colab": {
          "base_uri": "https://localhost:8080/"
        },
        "id": "C0UbSGuVv8Mc",
        "outputId": "93fd8986-00ae-471e-fc1e-ee7337744561"
      },
      "execution_count": 31,
      "outputs": [
        {
          "output_type": "execute_result",
          "data": {
            "text/plain": [
              "np.int64(532)"
            ]
          },
          "metadata": {},
          "execution_count": 31
        }
      ]
    },
    {
      "cell_type": "code",
      "source": [
        "#drop duplicate values from the dataset\n",
        "df = df.drop_duplicates()"
      ],
      "metadata": {
        "id": "v6inon3EwGmB"
      },
      "execution_count": 32,
      "outputs": []
    },
    {
      "cell_type": "code",
      "source": [
        "#check\n",
        "df.duplicated().sum()"
      ],
      "metadata": {
        "colab": {
          "base_uri": "https://localhost:8080/"
        },
        "id": "YMt9ZVtzwO0V",
        "outputId": "bf458962-430e-4dbf-ce8d-95f3260cfbb8"
      },
      "execution_count": 33,
      "outputs": [
        {
          "output_type": "execute_result",
          "data": {
            "text/plain": [
              "np.int64(0)"
            ]
          },
          "metadata": {},
          "execution_count": 33
        }
      ]
    },
    {
      "cell_type": "markdown",
      "source": [
        "##**2.5. Text Formatting**"
      ],
      "metadata": {
        "id": "sfuhekokzSKb"
      }
    },
    {
      "cell_type": "code",
      "source": [
        "# check case of name columns\n",
        "df.name.head()"
      ],
      "metadata": {
        "colab": {
          "base_uri": "https://localhost:8080/",
          "height": 241
        },
        "id": "66lXbmk8zZWI",
        "outputId": "c35e1011-4d19-4a82-92a0-a86f87ff815b"
      },
      "execution_count": 34,
      "outputs": [
        {
          "output_type": "execute_result",
          "data": {
            "text/plain": [
              "0    Bobby JacksOn\n",
              "1     LesLie TErRy\n",
              "2      DaNnY sMitH\n",
              "3     andrEw waTtS\n",
              "4    adrIENNE bEll\n",
              "Name: name, dtype: object"
            ],
            "text/html": [
              "<div>\n",
              "<style scoped>\n",
              "    .dataframe tbody tr th:only-of-type {\n",
              "        vertical-align: middle;\n",
              "    }\n",
              "\n",
              "    .dataframe tbody tr th {\n",
              "        vertical-align: top;\n",
              "    }\n",
              "\n",
              "    .dataframe thead th {\n",
              "        text-align: right;\n",
              "    }\n",
              "</style>\n",
              "<table border=\"1\" class=\"dataframe\">\n",
              "  <thead>\n",
              "    <tr style=\"text-align: right;\">\n",
              "      <th></th>\n",
              "      <th>name</th>\n",
              "    </tr>\n",
              "  </thead>\n",
              "  <tbody>\n",
              "    <tr>\n",
              "      <th>0</th>\n",
              "      <td>Bobby JacksOn</td>\n",
              "    </tr>\n",
              "    <tr>\n",
              "      <th>1</th>\n",
              "      <td>LesLie TErRy</td>\n",
              "    </tr>\n",
              "    <tr>\n",
              "      <th>2</th>\n",
              "      <td>DaNnY sMitH</td>\n",
              "    </tr>\n",
              "    <tr>\n",
              "      <th>3</th>\n",
              "      <td>andrEw waTtS</td>\n",
              "    </tr>\n",
              "    <tr>\n",
              "      <th>4</th>\n",
              "      <td>adrIENNE bEll</td>\n",
              "    </tr>\n",
              "  </tbody>\n",
              "</table>\n",
              "</div><br><label><b>dtype:</b> object</label>"
            ]
          },
          "metadata": {},
          "execution_count": 34
        }
      ]
    },
    {
      "cell_type": "markdown",
      "source": [
        "There is alot of inconsitency in the values of the 'name' column."
      ],
      "metadata": {
        "id": "v7Ma-0YUzeoD"
      }
    },
    {
      "cell_type": "code",
      "source": [
        "#standardizing the case of values of the name columns\n",
        "df['name'] = df['name'].str.title()"
      ],
      "metadata": {
        "id": "WK3e9iCNzePL"
      },
      "execution_count": 35,
      "outputs": []
    },
    {
      "cell_type": "code",
      "source": [
        "#check after standardizationi of the column value\n",
        "df.name.head()"
      ],
      "metadata": {
        "colab": {
          "base_uri": "https://localhost:8080/",
          "height": 241
        },
        "id": "ujlXFkQ3znat",
        "outputId": "7531a490-3af3-4e67-bb05-800e712bc882"
      },
      "execution_count": 36,
      "outputs": [
        {
          "output_type": "execute_result",
          "data": {
            "text/plain": [
              "0    Bobby Jackson\n",
              "1     Leslie Terry\n",
              "2      Danny Smith\n",
              "3     Andrew Watts\n",
              "4    Adrienne Bell\n",
              "Name: name, dtype: object"
            ],
            "text/html": [
              "<div>\n",
              "<style scoped>\n",
              "    .dataframe tbody tr th:only-of-type {\n",
              "        vertical-align: middle;\n",
              "    }\n",
              "\n",
              "    .dataframe tbody tr th {\n",
              "        vertical-align: top;\n",
              "    }\n",
              "\n",
              "    .dataframe thead th {\n",
              "        text-align: right;\n",
              "    }\n",
              "</style>\n",
              "<table border=\"1\" class=\"dataframe\">\n",
              "  <thead>\n",
              "    <tr style=\"text-align: right;\">\n",
              "      <th></th>\n",
              "      <th>name</th>\n",
              "    </tr>\n",
              "  </thead>\n",
              "  <tbody>\n",
              "    <tr>\n",
              "      <th>0</th>\n",
              "      <td>Bobby Jackson</td>\n",
              "    </tr>\n",
              "    <tr>\n",
              "      <th>1</th>\n",
              "      <td>Leslie Terry</td>\n",
              "    </tr>\n",
              "    <tr>\n",
              "      <th>2</th>\n",
              "      <td>Danny Smith</td>\n",
              "    </tr>\n",
              "    <tr>\n",
              "      <th>3</th>\n",
              "      <td>Andrew Watts</td>\n",
              "    </tr>\n",
              "    <tr>\n",
              "      <th>4</th>\n",
              "      <td>Adrienne Bell</td>\n",
              "    </tr>\n",
              "  </tbody>\n",
              "</table>\n",
              "</div><br><label><b>dtype:</b> object</label>"
            ]
          },
          "metadata": {},
          "execution_count": 36
        }
      ]
    },
    {
      "cell_type": "markdown",
      "source": [
        "## **Summary Of Data Cleaning And Preprocessing**"
      ],
      "metadata": {
        "id": "QxQyuxX30cGN"
      }
    },
    {
      "cell_type": "markdown",
      "source": [
        "1.Renamed all column names by replacing spaces with underscores for consistency.\n",
        "\n",
        "2.Rounded the billing_amount column to the nearest integer for uniformity.\n",
        "\n",
        "3.Removed rows with negative billing amounts to ensure data validity.\n",
        "\n",
        "4.Converted admission_date and discharge_date columns to proper datetime format.\n",
        "\n",
        "5.Standardized the casing in the name column using title case for readability.\n",
        "\n",
        "6.Removed duplicate rows to avoid redundancy in data.\n",
        "\n",
        "7.Checked and verified data types for all columns to ensure correctness.\n",
        "\n",
        "\n"
      ],
      "metadata": {
        "id": "yA4nqWyh3rwG"
      }
    },
    {
      "cell_type": "code",
      "source": [
        "df.head(2)"
      ],
      "metadata": {
        "colab": {
          "base_uri": "https://localhost:8080/",
          "height": 167
        },
        "id": "B1O7kiUubqnY",
        "outputId": "e9a563ee-3a03-420c-f5a5-afdd86e0e53e"
      },
      "execution_count": 38,
      "outputs": [
        {
          "output_type": "execute_result",
          "data": {
            "text/plain": [
              "            name  age gender blood_type medical_condition date_of_admission  \\\n",
              "0  Bobby Jackson   30   Male         B-            Cancer        2024-01-31   \n",
              "1   Leslie Terry   62   Male         A+           Obesity        2019-08-20   \n",
              "\n",
              "            doctor         hospital insurance_provider  billing_amount  \\\n",
              "0    Matthew Smith  Sons and Miller         Blue Cross           18856   \n",
              "1  Samantha Davies          Kim Inc           Medicare           33643   \n",
              "\n",
              "   room_number admission_type discharge_date   medication  test_results  \n",
              "0          328         Urgent     2024-02-02  Paracetamol        Normal  \n",
              "1          265      Emergency     2019-08-26    Ibuprofen  Inconclusive  "
            ],
            "text/html": [
              "\n",
              "  <div id=\"df-ecd19230-fab0-4d67-b1eb-fb402e749b3a\" class=\"colab-df-container\">\n",
              "    <div>\n",
              "<style scoped>\n",
              "    .dataframe tbody tr th:only-of-type {\n",
              "        vertical-align: middle;\n",
              "    }\n",
              "\n",
              "    .dataframe tbody tr th {\n",
              "        vertical-align: top;\n",
              "    }\n",
              "\n",
              "    .dataframe thead th {\n",
              "        text-align: right;\n",
              "    }\n",
              "</style>\n",
              "<table border=\"1\" class=\"dataframe\">\n",
              "  <thead>\n",
              "    <tr style=\"text-align: right;\">\n",
              "      <th></th>\n",
              "      <th>name</th>\n",
              "      <th>age</th>\n",
              "      <th>gender</th>\n",
              "      <th>blood_type</th>\n",
              "      <th>medical_condition</th>\n",
              "      <th>date_of_admission</th>\n",
              "      <th>doctor</th>\n",
              "      <th>hospital</th>\n",
              "      <th>insurance_provider</th>\n",
              "      <th>billing_amount</th>\n",
              "      <th>room_number</th>\n",
              "      <th>admission_type</th>\n",
              "      <th>discharge_date</th>\n",
              "      <th>medication</th>\n",
              "      <th>test_results</th>\n",
              "    </tr>\n",
              "  </thead>\n",
              "  <tbody>\n",
              "    <tr>\n",
              "      <th>0</th>\n",
              "      <td>Bobby Jackson</td>\n",
              "      <td>30</td>\n",
              "      <td>Male</td>\n",
              "      <td>B-</td>\n",
              "      <td>Cancer</td>\n",
              "      <td>2024-01-31</td>\n",
              "      <td>Matthew Smith</td>\n",
              "      <td>Sons and Miller</td>\n",
              "      <td>Blue Cross</td>\n",
              "      <td>18856</td>\n",
              "      <td>328</td>\n",
              "      <td>Urgent</td>\n",
              "      <td>2024-02-02</td>\n",
              "      <td>Paracetamol</td>\n",
              "      <td>Normal</td>\n",
              "    </tr>\n",
              "    <tr>\n",
              "      <th>1</th>\n",
              "      <td>Leslie Terry</td>\n",
              "      <td>62</td>\n",
              "      <td>Male</td>\n",
              "      <td>A+</td>\n",
              "      <td>Obesity</td>\n",
              "      <td>2019-08-20</td>\n",
              "      <td>Samantha Davies</td>\n",
              "      <td>Kim Inc</td>\n",
              "      <td>Medicare</td>\n",
              "      <td>33643</td>\n",
              "      <td>265</td>\n",
              "      <td>Emergency</td>\n",
              "      <td>2019-08-26</td>\n",
              "      <td>Ibuprofen</td>\n",
              "      <td>Inconclusive</td>\n",
              "    </tr>\n",
              "  </tbody>\n",
              "</table>\n",
              "</div>\n",
              "    <div class=\"colab-df-buttons\">\n",
              "\n",
              "  <div class=\"colab-df-container\">\n",
              "    <button class=\"colab-df-convert\" onclick=\"convertToInteractive('df-ecd19230-fab0-4d67-b1eb-fb402e749b3a')\"\n",
              "            title=\"Convert this dataframe to an interactive table.\"\n",
              "            style=\"display:none;\">\n",
              "\n",
              "  <svg xmlns=\"http://www.w3.org/2000/svg\" height=\"24px\" viewBox=\"0 -960 960 960\">\n",
              "    <path d=\"M120-120v-720h720v720H120Zm60-500h600v-160H180v160Zm220 220h160v-160H400v160Zm0 220h160v-160H400v160ZM180-400h160v-160H180v160Zm440 0h160v-160H620v160ZM180-180h160v-160H180v160Zm440 0h160v-160H620v160Z\"/>\n",
              "  </svg>\n",
              "    </button>\n",
              "\n",
              "  <style>\n",
              "    .colab-df-container {\n",
              "      display:flex;\n",
              "      gap: 12px;\n",
              "    }\n",
              "\n",
              "    .colab-df-convert {\n",
              "      background-color: #E8F0FE;\n",
              "      border: none;\n",
              "      border-radius: 50%;\n",
              "      cursor: pointer;\n",
              "      display: none;\n",
              "      fill: #1967D2;\n",
              "      height: 32px;\n",
              "      padding: 0 0 0 0;\n",
              "      width: 32px;\n",
              "    }\n",
              "\n",
              "    .colab-df-convert:hover {\n",
              "      background-color: #E2EBFA;\n",
              "      box-shadow: 0px 1px 2px rgba(60, 64, 67, 0.3), 0px 1px 3px 1px rgba(60, 64, 67, 0.15);\n",
              "      fill: #174EA6;\n",
              "    }\n",
              "\n",
              "    .colab-df-buttons div {\n",
              "      margin-bottom: 4px;\n",
              "    }\n",
              "\n",
              "    [theme=dark] .colab-df-convert {\n",
              "      background-color: #3B4455;\n",
              "      fill: #D2E3FC;\n",
              "    }\n",
              "\n",
              "    [theme=dark] .colab-df-convert:hover {\n",
              "      background-color: #434B5C;\n",
              "      box-shadow: 0px 1px 3px 1px rgba(0, 0, 0, 0.15);\n",
              "      filter: drop-shadow(0px 1px 2px rgba(0, 0, 0, 0.3));\n",
              "      fill: #FFFFFF;\n",
              "    }\n",
              "  </style>\n",
              "\n",
              "    <script>\n",
              "      const buttonEl =\n",
              "        document.querySelector('#df-ecd19230-fab0-4d67-b1eb-fb402e749b3a button.colab-df-convert');\n",
              "      buttonEl.style.display =\n",
              "        google.colab.kernel.accessAllowed ? 'block' : 'none';\n",
              "\n",
              "      async function convertToInteractive(key) {\n",
              "        const element = document.querySelector('#df-ecd19230-fab0-4d67-b1eb-fb402e749b3a');\n",
              "        const dataTable =\n",
              "          await google.colab.kernel.invokeFunction('convertToInteractive',\n",
              "                                                    [key], {});\n",
              "        if (!dataTable) return;\n",
              "\n",
              "        const docLinkHtml = 'Like what you see? Visit the ' +\n",
              "          '<a target=\"_blank\" href=https://colab.research.google.com/notebooks/data_table.ipynb>data table notebook</a>'\n",
              "          + ' to learn more about interactive tables.';\n",
              "        element.innerHTML = '';\n",
              "        dataTable['output_type'] = 'display_data';\n",
              "        await google.colab.output.renderOutput(dataTable, element);\n",
              "        const docLink = document.createElement('div');\n",
              "        docLink.innerHTML = docLinkHtml;\n",
              "        element.appendChild(docLink);\n",
              "      }\n",
              "    </script>\n",
              "  </div>\n",
              "\n",
              "\n",
              "    <div id=\"df-887f6acf-261d-4ccd-8f2a-fb27322d2f09\">\n",
              "      <button class=\"colab-df-quickchart\" onclick=\"quickchart('df-887f6acf-261d-4ccd-8f2a-fb27322d2f09')\"\n",
              "                title=\"Suggest charts\"\n",
              "                style=\"display:none;\">\n",
              "\n",
              "<svg xmlns=\"http://www.w3.org/2000/svg\" height=\"24px\"viewBox=\"0 0 24 24\"\n",
              "     width=\"24px\">\n",
              "    <g>\n",
              "        <path d=\"M19 3H5c-1.1 0-2 .9-2 2v14c0 1.1.9 2 2 2h14c1.1 0 2-.9 2-2V5c0-1.1-.9-2-2-2zM9 17H7v-7h2v7zm4 0h-2V7h2v10zm4 0h-2v-4h2v4z\"/>\n",
              "    </g>\n",
              "</svg>\n",
              "      </button>\n",
              "\n",
              "<style>\n",
              "  .colab-df-quickchart {\n",
              "      --bg-color: #E8F0FE;\n",
              "      --fill-color: #1967D2;\n",
              "      --hover-bg-color: #E2EBFA;\n",
              "      --hover-fill-color: #174EA6;\n",
              "      --disabled-fill-color: #AAA;\n",
              "      --disabled-bg-color: #DDD;\n",
              "  }\n",
              "\n",
              "  [theme=dark] .colab-df-quickchart {\n",
              "      --bg-color: #3B4455;\n",
              "      --fill-color: #D2E3FC;\n",
              "      --hover-bg-color: #434B5C;\n",
              "      --hover-fill-color: #FFFFFF;\n",
              "      --disabled-bg-color: #3B4455;\n",
              "      --disabled-fill-color: #666;\n",
              "  }\n",
              "\n",
              "  .colab-df-quickchart {\n",
              "    background-color: var(--bg-color);\n",
              "    border: none;\n",
              "    border-radius: 50%;\n",
              "    cursor: pointer;\n",
              "    display: none;\n",
              "    fill: var(--fill-color);\n",
              "    height: 32px;\n",
              "    padding: 0;\n",
              "    width: 32px;\n",
              "  }\n",
              "\n",
              "  .colab-df-quickchart:hover {\n",
              "    background-color: var(--hover-bg-color);\n",
              "    box-shadow: 0 1px 2px rgba(60, 64, 67, 0.3), 0 1px 3px 1px rgba(60, 64, 67, 0.15);\n",
              "    fill: var(--button-hover-fill-color);\n",
              "  }\n",
              "\n",
              "  .colab-df-quickchart-complete:disabled,\n",
              "  .colab-df-quickchart-complete:disabled:hover {\n",
              "    background-color: var(--disabled-bg-color);\n",
              "    fill: var(--disabled-fill-color);\n",
              "    box-shadow: none;\n",
              "  }\n",
              "\n",
              "  .colab-df-spinner {\n",
              "    border: 2px solid var(--fill-color);\n",
              "    border-color: transparent;\n",
              "    border-bottom-color: var(--fill-color);\n",
              "    animation:\n",
              "      spin 1s steps(1) infinite;\n",
              "  }\n",
              "\n",
              "  @keyframes spin {\n",
              "    0% {\n",
              "      border-color: transparent;\n",
              "      border-bottom-color: var(--fill-color);\n",
              "      border-left-color: var(--fill-color);\n",
              "    }\n",
              "    20% {\n",
              "      border-color: transparent;\n",
              "      border-left-color: var(--fill-color);\n",
              "      border-top-color: var(--fill-color);\n",
              "    }\n",
              "    30% {\n",
              "      border-color: transparent;\n",
              "      border-left-color: var(--fill-color);\n",
              "      border-top-color: var(--fill-color);\n",
              "      border-right-color: var(--fill-color);\n",
              "    }\n",
              "    40% {\n",
              "      border-color: transparent;\n",
              "      border-right-color: var(--fill-color);\n",
              "      border-top-color: var(--fill-color);\n",
              "    }\n",
              "    60% {\n",
              "      border-color: transparent;\n",
              "      border-right-color: var(--fill-color);\n",
              "    }\n",
              "    80% {\n",
              "      border-color: transparent;\n",
              "      border-right-color: var(--fill-color);\n",
              "      border-bottom-color: var(--fill-color);\n",
              "    }\n",
              "    90% {\n",
              "      border-color: transparent;\n",
              "      border-bottom-color: var(--fill-color);\n",
              "    }\n",
              "  }\n",
              "</style>\n",
              "\n",
              "      <script>\n",
              "        async function quickchart(key) {\n",
              "          const quickchartButtonEl =\n",
              "            document.querySelector('#' + key + ' button');\n",
              "          quickchartButtonEl.disabled = true;  // To prevent multiple clicks.\n",
              "          quickchartButtonEl.classList.add('colab-df-spinner');\n",
              "          try {\n",
              "            const charts = await google.colab.kernel.invokeFunction(\n",
              "                'suggestCharts', [key], {});\n",
              "          } catch (error) {\n",
              "            console.error('Error during call to suggestCharts:', error);\n",
              "          }\n",
              "          quickchartButtonEl.classList.remove('colab-df-spinner');\n",
              "          quickchartButtonEl.classList.add('colab-df-quickchart-complete');\n",
              "        }\n",
              "        (() => {\n",
              "          let quickchartButtonEl =\n",
              "            document.querySelector('#df-887f6acf-261d-4ccd-8f2a-fb27322d2f09 button');\n",
              "          quickchartButtonEl.style.display =\n",
              "            google.colab.kernel.accessAllowed ? 'block' : 'none';\n",
              "        })();\n",
              "      </script>\n",
              "    </div>\n",
              "\n",
              "    </div>\n",
              "  </div>\n"
            ],
            "application/vnd.google.colaboratory.intrinsic+json": {
              "type": "dataframe",
              "variable_name": "df",
              "summary": "{\n  \"name\": \"df\",\n  \"rows\": 54860,\n  \"fields\": [\n    {\n      \"column\": \"name\",\n      \"properties\": {\n        \"dtype\": \"string\",\n        \"num_unique_values\": 40167,\n        \"samples\": [\n          \"Shawn Jackson\",\n          \"Danielle Lopez\",\n          \"Matthew Jones\"\n        ],\n        \"semantic_type\": \"\",\n        \"description\": \"\"\n      }\n    },\n    {\n      \"column\": \"age\",\n      \"properties\": {\n        \"dtype\": \"number\",\n        \"std\": 19,\n        \"min\": 13,\n        \"max\": 89,\n        \"num_unique_values\": 77,\n        \"samples\": [\n          43,\n          22,\n          72\n        ],\n        \"semantic_type\": \"\",\n        \"description\": \"\"\n      }\n    },\n    {\n      \"column\": \"gender\",\n      \"properties\": {\n        \"dtype\": \"category\",\n        \"num_unique_values\": 2,\n        \"samples\": [\n          \"Female\",\n          \"Male\"\n        ],\n        \"semantic_type\": \"\",\n        \"description\": \"\"\n      }\n    },\n    {\n      \"column\": \"blood_type\",\n      \"properties\": {\n        \"dtype\": \"category\",\n        \"num_unique_values\": 8,\n        \"samples\": [\n          \"A+\",\n          \"AB-\"\n        ],\n        \"semantic_type\": \"\",\n        \"description\": \"\"\n      }\n    },\n    {\n      \"column\": \"medical_condition\",\n      \"properties\": {\n        \"dtype\": \"category\",\n        \"num_unique_values\": 6,\n        \"samples\": [\n          \"Cancer\",\n          \"Obesity\"\n        ],\n        \"semantic_type\": \"\",\n        \"description\": \"\"\n      }\n    },\n    {\n      \"column\": \"date_of_admission\",\n      \"properties\": {\n        \"dtype\": \"date\",\n        \"min\": \"2019-05-08 00:00:00\",\n        \"max\": \"2024-05-07 00:00:00\",\n        \"num_unique_values\": 1827,\n        \"samples\": [\n          \"2019-10-05 00:00:00\",\n          \"2022-02-14 00:00:00\"\n        ],\n        \"semantic_type\": \"\",\n        \"description\": \"\"\n      }\n    },\n    {\n      \"column\": \"doctor\",\n      \"properties\": {\n        \"dtype\": \"string\",\n        \"num_unique_values\": 40276,\n        \"samples\": [\n          \"Daniel Forbes\",\n          \"Eric Martin\"\n        ],\n        \"semantic_type\": \"\",\n        \"description\": \"\"\n      }\n    },\n    {\n      \"column\": \"hospital\",\n      \"properties\": {\n        \"dtype\": \"string\",\n        \"num_unique_values\": 39815,\n        \"samples\": [\n          \"Jenkins Peterson, and Lambert\",\n          \"Ayala-Sandoval\"\n        ],\n        \"semantic_type\": \"\",\n        \"description\": \"\"\n      }\n    },\n    {\n      \"column\": \"insurance_provider\",\n      \"properties\": {\n        \"dtype\": \"category\",\n        \"num_unique_values\": 5,\n        \"samples\": [\n          \"Medicare\",\n          \"Cigna\"\n        ],\n        \"semantic_type\": \"\",\n        \"description\": \"\"\n      }\n    },\n    {\n      \"column\": \"billing_amount\",\n      \"properties\": {\n        \"dtype\": \"number\",\n        \"std\": 14175,\n        \"min\": 9,\n        \"max\": 52764,\n        \"num_unique_values\": 31568,\n        \"samples\": [\n          40790,\n          40704\n        ],\n        \"semantic_type\": \"\",\n        \"description\": \"\"\n      }\n    },\n    {\n      \"column\": \"room_number\",\n      \"properties\": {\n        \"dtype\": \"number\",\n        \"std\": 115,\n        \"min\": 101,\n        \"max\": 500,\n        \"num_unique_values\": 400,\n        \"samples\": [\n          287,\n          193\n        ],\n        \"semantic_type\": \"\",\n        \"description\": \"\"\n      }\n    },\n    {\n      \"column\": \"admission_type\",\n      \"properties\": {\n        \"dtype\": \"category\",\n        \"num_unique_values\": 3,\n        \"samples\": [\n          \"Urgent\",\n          \"Emergency\"\n        ],\n        \"semantic_type\": \"\",\n        \"description\": \"\"\n      }\n    },\n    {\n      \"column\": \"discharge_date\",\n      \"properties\": {\n        \"dtype\": \"date\",\n        \"min\": \"2019-05-09 00:00:00\",\n        \"max\": \"2024-06-06 00:00:00\",\n        \"num_unique_values\": 1856,\n        \"samples\": [\n          \"2023-07-14 00:00:00\",\n          \"2019-07-19 00:00:00\"\n        ],\n        \"semantic_type\": \"\",\n        \"description\": \"\"\n      }\n    },\n    {\n      \"column\": \"medication\",\n      \"properties\": {\n        \"dtype\": \"category\",\n        \"num_unique_values\": 5,\n        \"samples\": [\n          \"Ibuprofen\",\n          \"Lipitor\"\n        ],\n        \"semantic_type\": \"\",\n        \"description\": \"\"\n      }\n    },\n    {\n      \"column\": \"test_results\",\n      \"properties\": {\n        \"dtype\": \"category\",\n        \"num_unique_values\": 3,\n        \"samples\": [\n          \"Normal\",\n          \"Inconclusive\"\n        ],\n        \"semantic_type\": \"\",\n        \"description\": \"\"\n      }\n    }\n  ]\n}"
            }
          },
          "metadata": {},
          "execution_count": 38
        }
      ]
    },
    {
      "cell_type": "markdown",
      "source": [
        "#**3. Data Visualization**"
      ],
      "metadata": {
        "id": "XhTED0fvbyO4"
      }
    },
    {
      "cell_type": "markdown",
      "source": [
        "##**3.1. Univariate Analysis**"
      ],
      "metadata": {
        "id": "kzzvMh5lb4q3"
      }
    },
    {
      "cell_type": "markdown",
      "source": [
        "\n",
        "Univariate analysis is the simplest form of data analysis, focusing on one variable at a time. It helps us understand the basic characteristics of that variable through measures like mean, median, mode, and visualizations such as histograms or box plots. It’s a key first step in exploring data."
      ],
      "metadata": {
        "id": "w5l7sAsMb9oh"
      }
    },
    {
      "cell_type": "code",
      "source": [
        "df.columns"
      ],
      "metadata": {
        "colab": {
          "base_uri": "https://localhost:8080/"
        },
        "id": "VJFppTr3dSA2",
        "outputId": "deec6b05-e272-49dc-ba0f-e9b65b7fa69a"
      },
      "execution_count": 39,
      "outputs": [
        {
          "output_type": "execute_result",
          "data": {
            "text/plain": [
              "Index(['name', 'age', 'gender', 'blood_type', 'medical_condition',\n",
              "       'date_of_admission', 'doctor', 'hospital', 'insurance_provider',\n",
              "       'billing_amount', 'room_number', 'admission_type', 'discharge_date',\n",
              "       'medication', 'test_results'],\n",
              "      dtype='object')"
            ]
          },
          "metadata": {},
          "execution_count": 39
        }
      ]
    },
    {
      "cell_type": "markdown",
      "source": [
        "###**3.1.1.Gender**"
      ],
      "metadata": {
        "id": "QTIjHAbdcKID"
      }
    },
    {
      "cell_type": "code",
      "source": [
        "# Chart 1\n",
        "\n",
        "# Get value counts\n",
        "gender_counts = df['gender'].value_counts()\n",
        "\n",
        "# Plot pie chart with both % and count\n",
        "gender_counts.plot.pie(\n",
        "    autopct=lambda p: f'{p:.1f}%\\n({int(p * gender_counts.sum() / 100)})',\n",
        "    colors=sns.color_palette('Set3'),\n",
        "    startangle=90,\n",
        "    shadow=True\n",
        ")\n",
        "\n",
        "plt.title('Gender Distribution Pie Chart')\n",
        "plt.ylabel('')\n",
        "plt.show()"
      ],
      "metadata": {
        "colab": {
          "base_uri": "https://localhost:8080/",
          "height": 428
        },
        "id": "0p04gOIvcTAQ",
        "outputId": "f3c3e319-84ec-42e0-b995-d41f99e926ea"
      },
      "execution_count": 46,
      "outputs": [
        {
          "output_type": "display_data",
          "data": {
            "text/plain": [
              "<Figure size 640x480 with 1 Axes>"
            ],
            "image/png": "[encoded data removed]"
          },
          "metadata": {}
        }
      ]
    },
    {
      "cell_type": "markdown",
      "source": [
        "#### **Why did you pick the specific chart?**"
      ],
      "metadata": {
        "id": "50iWWXr8cV0o"
      }
    },
    {
      "cell_type": "markdown",
      "source": [
        " I chose a pie chart because we’re analyzing the distribution of a single categorical variable (gender). A pie chart visually communicates the proportion of each category clearly, making it ideal for comparing percentages between two groups (Male vs Female)."
      ],
      "metadata": {
        "id": "D_a3Kp30cmyH"
      }
    },
    {
      "cell_type": "markdown",
      "source": [
        "####**What is/are the insight(s) found from the chart?**"
      ],
      "metadata": {
        "id": "5RRkzmKKcpKE"
      }
    },
    {
      "cell_type": "markdown",
      "source": [
        "The chart shows an almost equal distribution of genders:\n",
        "\n",
        "* Male: 50.0% (27,449)\n",
        "\n",
        "* Female: 50.0% (27,410)\n",
        "\n",
        "There is only a tiny difference of 39 patients between the two.\n"
      ],
      "metadata": {
        "id": "Ash1AZ9ectJb"
      }
    },
    {
      "cell_type": "markdown",
      "source": [
        "####**Will the gained insights help create a positive business impact?**"
      ],
      "metadata": {
        "id": "JazYuc2nctnz"
      }
    },
    {
      "cell_type": "markdown",
      "source": [
        "Yes. A balanced gender distribution means:\n",
        "\n",
        "* No gender-based sampling bias\n",
        "\n",
        "* Medical outcomes can be fairly compared between male and female patients\n",
        "\n",
        "* Marketing, healthcare personalization, or wellness programs can be tailored for both genders equally without needing gender-specific outreach\n",
        "\n"
      ],
      "metadata": {
        "id": "eC8U1DXMc6BL"
      }
    },
    {
      "cell_type": "markdown",
      "source": [
        "####**Are there any insights that lead to negative growth? Justify with specific reason.**"
      ],
      "metadata": {
        "id": "foVNP9QNcz6d"
      }
    },
    {
      "cell_type": "markdown",
      "source": [
        "No negative insights observed here."
      ],
      "metadata": {
        "id": "eVijCpIUczro"
      }
    },
    {
      "cell_type": "markdown",
      "source": [
        "###**3.1.1.                     **"
      ],
      "metadata": {
        "id": "-uwoQId9c87C"
      }
    },
    {
      "cell_type": "code",
      "source": [
        "#Chart No."
      ],
      "metadata": {
        "id": "tpgpGrQzc87E"
      },
      "execution_count": null,
      "outputs": []
    },
    {
      "cell_type": "markdown",
      "source": [
        "#### **Why did you pick the specific chart?**"
      ],
      "metadata": {
        "id": "mN8OwWd0c87G"
      }
    },
    {
      "cell_type": "markdown",
      "source": [],
      "metadata": {
        "id": "_I68ZAncc87H"
      }
    },
    {
      "cell_type": "markdown",
      "source": [
        "####**What is/are the insight(s) found from the chart?**"
      ],
      "metadata": {
        "id": "RrUKa2F-c87H"
      }
    },
    {
      "cell_type": "markdown",
      "source": [],
      "metadata": {
        "id": "oXePVwyoc87I"
      }
    },
    {
      "cell_type": "markdown",
      "source": [
        "####**Will the gained insights help create a positive business impact?**"
      ],
      "metadata": {
        "id": "-3ZAxS8wc87I"
      }
    },
    {
      "cell_type": "markdown",
      "source": [],
      "metadata": {
        "id": "BSUcmYeTc87J"
      }
    },
    {
      "cell_type": "markdown",
      "source": [
        "####**Are there any insights that lead to negative growth? Justify with specific reason.**"
      ],
      "metadata": {
        "id": "mCK47IEgc87J"
      }
    },
    {
      "cell_type": "markdown",
      "source": [],
      "metadata": {
        "id": "uXPkPAbYc87L"
      }
    },
    {
      "cell_type": "markdown",
      "source": [
        "###**3.1.1.                     **"
      ],
      "metadata": {
        "id": "smRao5Nwc9tD"
      }
    },
    {
      "cell_type": "code",
      "source": [
        "#Chart No."
      ],
      "metadata": {
        "id": "3fGyCPZZc9tE"
      },
      "execution_count": null,
      "outputs": []
    },
    {
      "cell_type": "markdown",
      "source": [
        "#### **Why did you pick the specific chart?**"
      ],
      "metadata": {
        "id": "mXA0G1Mjc9tF"
      }
    },
    {
      "cell_type": "markdown",
      "source": [],
      "metadata": {
        "id": "Ce4IFetwc9tH"
      }
    },
    {
      "cell_type": "markdown",
      "source": [
        "####**What is/are the insight(s) found from the chart?**"
      ],
      "metadata": {
        "id": "Za_UKoeQc9tI"
      }
    },
    {
      "cell_type": "markdown",
      "source": [],
      "metadata": {
        "id": "yvxolS_0c9tI"
      }
    },
    {
      "cell_type": "markdown",
      "source": [
        "####**Will the gained insights help create a positive business impact?**"
      ],
      "metadata": {
        "id": "808oddOZc9tJ"
      }
    },
    {
      "cell_type": "markdown",
      "source": [],
      "metadata": {
        "id": "ep-0bKi3c9tK"
      }
    },
    {
      "cell_type": "markdown",
      "source": [
        "####**Are there any insights that lead to negative growth? Justify with specific reason.**"
      ],
      "metadata": {
        "id": "wH7geOKNc9tK"
      }
    },
    {
      "cell_type": "markdown",
      "source": [],
      "metadata": {
        "id": "SNU1t6h1c9tL"
      }
    },
    {
      "cell_type": "markdown",
      "source": [
        "###**3.1.1.                     **"
      ],
      "metadata": {
        "id": "7eOeOWl7dEWC"
      }
    },
    {
      "cell_type": "code",
      "source": [
        "#Chart No."
      ],
      "metadata": {
        "id": "hwYn6RI6dEWE"
      },
      "execution_count": null,
      "outputs": []
    },
    {
      "cell_type": "markdown",
      "source": [
        "#### **Why did you pick the specific chart?**"
      ],
      "metadata": {
        "id": "qj50AngvdEWF"
      }
    },
    {
      "cell_type": "markdown",
      "source": [],
      "metadata": {
        "id": "7GTREl6ldEWF"
      }
    },
    {
      "cell_type": "markdown",
      "source": [
        "####**What is/are the insight(s) found from the chart?**"
      ],
      "metadata": {
        "id": "cxS61PLUdEWG"
      }
    },
    {
      "cell_type": "markdown",
      "source": [],
      "metadata": {
        "id": "oKayhkOkdEWH"
      }
    },
    {
      "cell_type": "markdown",
      "source": [
        "####**Will the gained insights help create a positive business impact?**"
      ],
      "metadata": {
        "id": "vUiHNbrBdEWH"
      }
    },
    {
      "cell_type": "markdown",
      "source": [],
      "metadata": {
        "id": "z143MXS3dEWI"
      }
    },
    {
      "cell_type": "markdown",
      "source": [
        "####**Are there any insights that lead to negative growth? Justify with specific reason.**"
      ],
      "metadata": {
        "id": "llsw-Ph7dEWI"
      }
    },
    {
      "cell_type": "markdown",
      "source": [],
      "metadata": {
        "id": "nmTGGhwldEWJ"
      }
    },
    {
      "cell_type": "markdown",
      "source": [
        "###**3.1.1.                     **"
      ],
      "metadata": {
        "id": "Zj6bVIcedEaN"
      }
    },
    {
      "cell_type": "code",
      "source": [
        "#Chart No."
      ],
      "metadata": {
        "id": "nQXu6JEddEaR"
      },
      "execution_count": null,
      "outputs": []
    },
    {
      "cell_type": "markdown",
      "source": [
        "#### **Why did you pick the specific chart?**"
      ],
      "metadata": {
        "id": "614BDNjfdEaT"
      }
    },
    {
      "cell_type": "markdown",
      "source": [],
      "metadata": {
        "id": "1rYeh-yPdEaT"
      }
    },
    {
      "cell_type": "markdown",
      "source": [
        "####**What is/are the insight(s) found from the chart?**"
      ],
      "metadata": {
        "id": "Ta4da0GbdEaU"
      }
    },
    {
      "cell_type": "markdown",
      "source": [],
      "metadata": {
        "id": "nkp5uAbjdEaV"
      }
    },
    {
      "cell_type": "markdown",
      "source": [
        "####**Will the gained insights help create a positive business impact?**"
      ],
      "metadata": {
        "id": "WJh5r6RjdEaV"
      }
    },
    {
      "cell_type": "markdown",
      "source": [],
      "metadata": {
        "id": "bM7oweWddEaW"
      }
    },
    {
      "cell_type": "markdown",
      "source": [
        "####**Are there any insights that lead to negative growth? Justify with specific reason.**"
      ],
      "metadata": {
        "id": "S2mO8hHhdEaX"
      }
    },
    {
      "cell_type": "markdown",
      "source": [],
      "metadata": {
        "id": "VjMQvTl7dEaY"
      }
    },
    {
      "cell_type": "markdown",
      "source": [
        "###**3.1.1.                     **"
      ],
      "metadata": {
        "id": "clEuWAPOdEdn"
      }
    },
    {
      "cell_type": "code",
      "source": [
        "#Chart No."
      ],
      "metadata": {
        "id": "0r_UQee0dEdn"
      },
      "execution_count": null,
      "outputs": []
    },
    {
      "cell_type": "markdown",
      "source": [
        "#### **Why did you pick the specific chart?**"
      ],
      "metadata": {
        "id": "ZKc3PdC4dEdo"
      }
    },
    {
      "cell_type": "markdown",
      "source": [],
      "metadata": {
        "id": "5yMTjW3wdEdo"
      }
    },
    {
      "cell_type": "markdown",
      "source": [
        "####**What is/are the insight(s) found from the chart?**"
      ],
      "metadata": {
        "id": "K6Ea1cYKdEdo"
      }
    },
    {
      "cell_type": "markdown",
      "source": [],
      "metadata": {
        "id": "LTk_P6TbdEdo"
      }
    },
    {
      "cell_type": "markdown",
      "source": [
        "####**Will the gained insights help create a positive business impact?**"
      ],
      "metadata": {
        "id": "PaHcKWrVdEdo"
      }
    },
    {
      "cell_type": "markdown",
      "source": [],
      "metadata": {
        "id": "oQm8h_mTdEdo"
      }
    },
    {
      "cell_type": "markdown",
      "source": [
        "####**Are there any insights that lead to negative growth? Justify with specific reason.**"
      ],
      "metadata": {
        "id": "zxk2NQObdEdo"
      }
    },
    {
      "cell_type": "markdown",
      "source": [],
      "metadata": {
        "id": "Tj21gSFadEdo"
      }
    },
    {
      "cell_type": "markdown",
      "source": [
        "###**3.1.1.                     **"
      ],
      "metadata": {
        "id": "X0YN6dbLdEgp"
      }
    },
    {
      "cell_type": "code",
      "source": [
        "#Chart No."
      ],
      "metadata": {
        "id": "McntckqZdEgq"
      },
      "execution_count": null,
      "outputs": []
    },
    {
      "cell_type": "markdown",
      "source": [
        "#### **Why did you pick the specific chart?**"
      ],
      "metadata": {
        "id": "bgCq-T8AdEgq"
      }
    },
    {
      "cell_type": "markdown",
      "source": [],
      "metadata": {
        "id": "pZao-t1XdEgq"
      }
    },
    {
      "cell_type": "markdown",
      "source": [
        "####**What is/are the insight(s) found from the chart?**"
      ],
      "metadata": {
        "id": "u-D_opoJdEgq"
      }
    },
    {
      "cell_type": "markdown",
      "source": [],
      "metadata": {
        "id": "BPz2cY_MdEgr"
      }
    },
    {
      "cell_type": "markdown",
      "source": [
        "####**Will the gained insights help create a positive business impact?**"
      ],
      "metadata": {
        "id": "e9TtVWqLdEgr"
      }
    },
    {
      "cell_type": "markdown",
      "source": [],
      "metadata": {
        "id": "etpm3Dt9dEgr"
      }
    },
    {
      "cell_type": "markdown",
      "source": [
        "####**Are there any insights that lead to negative growth? Justify with specific reason.**"
      ],
      "metadata": {
        "id": "GPAg5V4ydEgr"
      }
    },
    {
      "cell_type": "markdown",
      "source": [],
      "metadata": {
        "id": "0HFllpPwdEgr"
      }
    },
    {
      "cell_type": "markdown",
      "source": [
        "###**3.1.1.                     **"
      ],
      "metadata": {
        "id": "ed28jd4odEjf"
      }
    },
    {
      "cell_type": "code",
      "source": [
        "#Chart No."
      ],
      "metadata": {
        "id": "ZAZcB94hdEjg"
      },
      "execution_count": null,
      "outputs": []
    },
    {
      "cell_type": "markdown",
      "source": [
        "#### **Why did you pick the specific chart?**"
      ],
      "metadata": {
        "id": "crjcxT9VdEjg"
      }
    },
    {
      "cell_type": "markdown",
      "source": [],
      "metadata": {
        "id": "lJNd2zo7dEjg"
      }
    },
    {
      "cell_type": "markdown",
      "source": [
        "####**What is/are the insight(s) found from the chart?**"
      ],
      "metadata": {
        "id": "XQSg5--mdEjg"
      }
    },
    {
      "cell_type": "markdown",
      "source": [],
      "metadata": {
        "id": "BxR8ZgBFdEjg"
      }
    },
    {
      "cell_type": "markdown",
      "source": [
        "####**Will the gained insights help create a positive business impact?**"
      ],
      "metadata": {
        "id": "YiN49Z32dEjg"
      }
    },
    {
      "cell_type": "markdown",
      "source": [],
      "metadata": {
        "id": "vwhkhohSdEjh"
      }
    },
    {
      "cell_type": "markdown",
      "source": [
        "####**Are there any insights that lead to negative growth? Justify with specific reason.**"
      ],
      "metadata": {
        "id": "SNse4NzVdEjh"
      }
    },
    {
      "cell_type": "markdown",
      "source": [],
      "metadata": {
        "id": "UjcKsWPodEjh"
      }
    },
    {
      "cell_type": "markdown",
      "source": [
        "###**3.1.1.                     **"
      ],
      "metadata": {
        "id": "X0EMPzQbdEmi"
      }
    },
    {
      "cell_type": "code",
      "source": [
        "#Chart No."
      ],
      "metadata": {
        "id": "xzyzgiExdEmi"
      },
      "execution_count": null,
      "outputs": []
    },
    {
      "cell_type": "markdown",
      "source": [
        "#### **Why did you pick the specific chart?**"
      ],
      "metadata": {
        "id": "tuck4VEzdEmj"
      }
    },
    {
      "cell_type": "markdown",
      "source": [],
      "metadata": {
        "id": "03SGQHt-dEmj"
      }
    },
    {
      "cell_type": "markdown",
      "source": [
        "####**What is/are the insight(s) found from the chart?**"
      ],
      "metadata": {
        "id": "85zKm6tYdEmj"
      }
    },
    {
      "cell_type": "markdown",
      "source": [],
      "metadata": {
        "id": "rLy3-YYAdEmj"
      }
    },
    {
      "cell_type": "markdown",
      "source": [
        "####**Will the gained insights help create a positive business impact?**"
      ],
      "metadata": {
        "id": "dDxi8QvWdEmj"
      }
    },
    {
      "cell_type": "markdown",
      "source": [],
      "metadata": {
        "id": "fsqX7_b6dEmj"
      }
    },
    {
      "cell_type": "markdown",
      "source": [
        "####**Are there any insights that lead to negative growth? Justify with specific reason.**"
      ],
      "metadata": {
        "id": "XQy2B3VbdEmk"
      }
    },
    {
      "cell_type": "markdown",
      "source": [],
      "metadata": {
        "id": "PNt9-YmFdEmk"
      }
    },
    {
      "cell_type": "markdown",
      "source": [
        "###**3.1.1.                     **"
      ],
      "metadata": {
        "id": "igzBntF8c9x0"
      }
    },
    {
      "cell_type": "code",
      "source": [
        "#Chart No."
      ],
      "metadata": {
        "id": "GVGRUcGYc9x0"
      },
      "execution_count": null,
      "outputs": []
    },
    {
      "cell_type": "markdown",
      "source": [
        "#### **Why did you pick the specific chart?**"
      ],
      "metadata": {
        "id": "2xVDHHObc9x1"
      }
    },
    {
      "cell_type": "markdown",
      "source": [],
      "metadata": {
        "id": "6kuGNV5bc9x2"
      }
    },
    {
      "cell_type": "markdown",
      "source": [
        "####**What is/are the insight(s) found from the chart?**"
      ],
      "metadata": {
        "id": "mABdF9Mjc9x2"
      }
    },
    {
      "cell_type": "markdown",
      "source": [],
      "metadata": {
        "id": "U6ZTziZIc9x3"
      }
    },
    {
      "cell_type": "markdown",
      "source": [
        "####**Will the gained insights help create a positive business impact?**"
      ],
      "metadata": {
        "id": "_SStiWBFc9x3"
      }
    },
    {
      "cell_type": "markdown",
      "source": [],
      "metadata": {
        "id": "vZp1mHapc9x4"
      }
    },
    {
      "cell_type": "markdown",
      "source": [
        "####**Are there any insights that lead to negative growth? Justify with specific reason.**"
      ],
      "metadata": {
        "id": "Ketd-GBGc9x4"
      }
    },
    {
      "cell_type": "markdown",
      "source": [],
      "metadata": {
        "id": "AX9sBbf8c9x5"
      }
    },
    {
      "cell_type": "markdown",
      "source": [
        "###**3.1.1.                     **"
      ],
      "metadata": {
        "id": "OaEeU57Ec904"
      }
    },
    {
      "cell_type": "code",
      "source": [
        "#Chart No."
      ],
      "metadata": {
        "id": "GktQUDwpc904"
      },
      "execution_count": null,
      "outputs": []
    },
    {
      "cell_type": "markdown",
      "source": [
        "#### **Why did you pick the specific chart?**"
      ],
      "metadata": {
        "id": "NwR-owOKc905"
      }
    },
    {
      "cell_type": "markdown",
      "source": [],
      "metadata": {
        "id": "8AN5scRmc905"
      }
    },
    {
      "cell_type": "markdown",
      "source": [
        "####**What is/are the insight(s) found from the chart?**"
      ],
      "metadata": {
        "id": "eMbKI5bNc905"
      }
    },
    {
      "cell_type": "markdown",
      "source": [],
      "metadata": {
        "id": "cnvnSsT2c905"
      }
    },
    {
      "cell_type": "markdown",
      "source": [
        "####**Will the gained insights help create a positive business impact?**"
      ],
      "metadata": {
        "id": "hO9umJiic906"
      }
    },
    {
      "cell_type": "markdown",
      "source": [],
      "metadata": {
        "id": "4w_iNGRoc906"
      }
    },
    {
      "cell_type": "markdown",
      "source": [
        "####**Are there any insights that lead to negative growth? Justify with specific reason.**"
      ],
      "metadata": {
        "id": "IN8q5EVGc906"
      }
    },
    {
      "cell_type": "markdown",
      "source": [],
      "metadata": {
        "id": "djEnneaZc906"
      }
    },
    {
      "cell_type": "markdown",
      "source": [
        "###**3.1.1.                     **"
      ],
      "metadata": {
        "id": "DwKzNhtec93n"
      }
    },
    {
      "cell_type": "code",
      "source": [
        "#Chart No."
      ],
      "metadata": {
        "id": "PAEx8ggNc93o"
      },
      "execution_count": null,
      "outputs": []
    },
    {
      "cell_type": "markdown",
      "source": [
        "#### **Why did you pick the specific chart?**"
      ],
      "metadata": {
        "id": "UQip5J6mc93o"
      }
    },
    {
      "cell_type": "markdown",
      "source": [],
      "metadata": {
        "id": "tzoCn_ezc93o"
      }
    },
    {
      "cell_type": "markdown",
      "source": [
        "####**What is/are the insight(s) found from the chart?**"
      ],
      "metadata": {
        "id": "YZxWcitVc93p"
      }
    },
    {
      "cell_type": "markdown",
      "source": [],
      "metadata": {
        "id": "5xK0ZIWBc93p"
      }
    },
    {
      "cell_type": "markdown",
      "source": [
        "####**Will the gained insights help create a positive business impact?**"
      ],
      "metadata": {
        "id": "XOdW9daCc93p"
      }
    },
    {
      "cell_type": "markdown",
      "source": [],
      "metadata": {
        "id": "pcUnpHq7c93p"
      }
    },
    {
      "cell_type": "markdown",
      "source": [
        "####**Are there any insights that lead to negative growth? Justify with specific reason.**"
      ],
      "metadata": {
        "id": "BnabKDZIc93p"
      }
    },
    {
      "cell_type": "markdown",
      "source": [],
      "metadata": {
        "id": "tVlizz_Rc93q"
      }
    },
    {
      "cell_type": "markdown",
      "source": [
        "###**3.1.1.                     **"
      ],
      "metadata": {
        "id": "mLJRpm6uc96W"
      }
    },
    {
      "cell_type": "code",
      "source": [
        "#Chart No."
      ],
      "metadata": {
        "id": "_Sbjsr8Vc96X"
      },
      "execution_count": null,
      "outputs": []
    },
    {
      "cell_type": "markdown",
      "source": [
        "#### **Why did you pick the specific chart?**"
      ],
      "metadata": {
        "id": "A38mzT07c96X"
      }
    },
    {
      "cell_type": "markdown",
      "source": [],
      "metadata": {
        "id": "mjIHRNDvc96X"
      }
    },
    {
      "cell_type": "markdown",
      "source": [
        "####**What is/are the insight(s) found from the chart?**"
      ],
      "metadata": {
        "id": "5onr2XIjc96X"
      }
    },
    {
      "cell_type": "markdown",
      "source": [],
      "metadata": {
        "id": "7laQPQBEc96X"
      }
    },
    {
      "cell_type": "markdown",
      "source": [
        "####**Will the gained insights help create a positive business impact?**"
      ],
      "metadata": {
        "id": "VQzBG5RPc96X"
      }
    },
    {
      "cell_type": "markdown",
      "source": [],
      "metadata": {
        "id": "ta1GV8BOc96Y"
      }
    },
    {
      "cell_type": "markdown",
      "source": [
        "####**Are there any insights that lead to negative growth? Justify with specific reason.**"
      ],
      "metadata": {
        "id": "XY0ZeNa6c96Y"
      }
    },
    {
      "cell_type": "markdown",
      "source": [],
      "metadata": {
        "id": "xIzV9O9Oc96Y"
      }
    },
    {
      "cell_type": "markdown",
      "source": [
        "###**3.1.1.                     **"
      ],
      "metadata": {
        "id": "iJduRV49c99O"
      }
    },
    {
      "cell_type": "code",
      "source": [
        "#Chart No."
      ],
      "metadata": {
        "id": "NwfwgkTHc99P"
      },
      "execution_count": null,
      "outputs": []
    },
    {
      "cell_type": "markdown",
      "source": [
        "#### **Why did you pick the specific chart?**"
      ],
      "metadata": {
        "id": "boehZJHIc99Q"
      }
    },
    {
      "cell_type": "markdown",
      "source": [],
      "metadata": {
        "id": "PfiQytMyc99Q"
      }
    },
    {
      "cell_type": "markdown",
      "source": [
        "####**What is/are the insight(s) found from the chart?**"
      ],
      "metadata": {
        "id": "oMibvu7Jc99Q"
      }
    },
    {
      "cell_type": "markdown",
      "source": [],
      "metadata": {
        "id": "c_BRe4QIc99R"
      }
    },
    {
      "cell_type": "markdown",
      "source": [
        "####**Will the gained insights help create a positive business impact?**"
      ],
      "metadata": {
        "id": "h6HAjkYhc99R"
      }
    },
    {
      "cell_type": "markdown",
      "source": [],
      "metadata": {
        "id": "PfKOdumhc99R"
      }
    },
    {
      "cell_type": "markdown",
      "source": [
        "####**Are there any insights that lead to negative growth? Justify with specific reason.**"
      ],
      "metadata": {
        "id": "ZxYod_6Zc99S"
      }
    },
    {
      "cell_type": "markdown",
      "source": [],
      "metadata": {
        "id": "DEv0yBY8c99S"
      }
    },
    {
      "cell_type": "markdown",
      "source": [
        "###**3.1.1.                     **"
      ],
      "metadata": {
        "id": "T5qVaTIgc-AR"
      }
    },
    {
      "cell_type": "code",
      "source": [
        "#Chart No."
      ],
      "metadata": {
        "id": "o09W39p0c-AR"
      },
      "execution_count": null,
      "outputs": []
    },
    {
      "cell_type": "markdown",
      "source": [
        "#### **Why did you pick the specific chart?**"
      ],
      "metadata": {
        "id": "ggYM-hucc-AS"
      }
    },
    {
      "cell_type": "markdown",
      "source": [],
      "metadata": {
        "id": "FYaw3vy8c-AS"
      }
    },
    {
      "cell_type": "markdown",
      "source": [
        "####**What is/are the insight(s) found from the chart?**"
      ],
      "metadata": {
        "id": "5mQeiY3Oc-AT"
      }
    },
    {
      "cell_type": "markdown",
      "source": [],
      "metadata": {
        "id": "BC5V1u_wc-AT"
      }
    },
    {
      "cell_type": "markdown",
      "source": [
        "####**Will the gained insights help create a positive business impact?**"
      ],
      "metadata": {
        "id": "rLlt7fIBc-AT"
      }
    },
    {
      "cell_type": "markdown",
      "source": [],
      "metadata": {
        "id": "RDFny7Bfc-AU"
      }
    },
    {
      "cell_type": "markdown",
      "source": [
        "####**Are there any insights that lead to negative growth? Justify with specific reason.**"
      ],
      "metadata": {
        "id": "89HHVuKoc-AV"
      }
    },
    {
      "cell_type": "markdown",
      "source": [],
      "metadata": {
        "id": "atFkdKogc-AV"
      }
    },
    {
      "cell_type": "markdown",
      "source": [
        "###**3.1.1.                     **"
      ],
      "metadata": {
        "id": "jp9sW2-Lc-Cu"
      }
    },
    {
      "cell_type": "code",
      "source": [
        "#Chart No."
      ],
      "metadata": {
        "id": "WpIF8W7Wc-Cv"
      },
      "execution_count": null,
      "outputs": []
    },
    {
      "cell_type": "markdown",
      "source": [
        "#### **Why did you pick the specific chart?**"
      ],
      "metadata": {
        "id": "wf4gvmQgc-Cv"
      }
    },
    {
      "cell_type": "markdown",
      "source": [],
      "metadata": {
        "id": "rIQjd8Acc-Cv"
      }
    },
    {
      "cell_type": "markdown",
      "source": [
        "####**What is/are the insight(s) found from the chart?**"
      ],
      "metadata": {
        "id": "Bz_CQn93c-Cv"
      }
    },
    {
      "cell_type": "markdown",
      "source": [],
      "metadata": {
        "id": "-PduG0Oqc-Cw"
      }
    },
    {
      "cell_type": "markdown",
      "source": [
        "####**Will the gained insights help create a positive business impact?**"
      ],
      "metadata": {
        "id": "MBim0N5Rc-Cw"
      }
    },
    {
      "cell_type": "markdown",
      "source": [],
      "metadata": {
        "id": "8bZJSA2ac-Cw"
      }
    },
    {
      "cell_type": "markdown",
      "source": [
        "####**Are there any insights that lead to negative growth? Justify with specific reason.**"
      ],
      "metadata": {
        "id": "EuFeT0JPc-Cw"
      }
    },
    {
      "cell_type": "markdown",
      "source": [],
      "metadata": {
        "id": "drzVKvDXc-Cx"
      }
    }
  ]
}