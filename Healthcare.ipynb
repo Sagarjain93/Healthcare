{
  "nbformat": 4,
  "nbformat_minor": 0,
  "metadata": {
    "colab": {
      "provenance": [],
      "authorship_tag": "ABX9TyNAW22e0vTLOhT2k3ietLYX",
      "include_colab_link": true
    },
    "kernelspec": {
      "name": "python3",
      "display_name": "Python 3"
    },
    "language_info": {
      "name": "python"
    }
  },
  "cells": [
    {
      "cell_type": "markdown",
      "metadata": {
        "id": "view-in-github",
        "colab_type": "text"
      },
      "source": [
        "<a href=\"https://colab.research.google.com/github/Sagarjain93/Healthcare/blob/main/Healthcare.ipynb\" target=\"_parent\"><img src=\"https://colab.research.google.com/assets/colab-badge.svg\" alt=\"Open In Colab\"/></a>"
      ]
    },
    {
      "cell_type": "markdown",
      "source": [
        "#**Project Name** - Exploratory Data Analysis of HealthCare Dataset"
      ],
      "metadata": {
        "id": "lMN0uSaKTDYB"
      }
    },
    {
      "cell_type": "markdown",
      "source": [
        "  **Project Type**    - EDA\n",
        "\n",
        "  **Contribution**    - Individual\n",
        "  \n",
        "  **Team Member 1 -**  SAGAR JAIN\n"
      ],
      "metadata": {
        "id": "qeigg2b8TH9Y"
      }
    },
    {
      "cell_type": "markdown",
      "source": [
        "#**Project Summary**"
      ],
      "metadata": {
        "id": "kaO65tOIUZNM"
      }
    },
    {
      "cell_type": "markdown",
      "source": [],
      "metadata": {
        "id": "iTOWCwMiU8TN"
      }
    },
    {
      "cell_type": "markdown",
      "source": [
        "#**Github Link**"
      ],
      "metadata": {
        "id": "uMNnx1vrU8ry"
      }
    },
    {
      "cell_type": "markdown",
      "source": [
        "https://github.com/Sagarjain93/Healthcare/tree/main"
      ],
      "metadata": {
        "id": "HIL-Mlh7U_on"
      }
    },
    {
      "cell_type": "markdown",
      "source": [],
      "metadata": {
        "id": "T0H7tX2jVEPm"
      }
    },
    {
      "cell_type": "markdown",
      "source": [
        "# **Problem Statement**\n"
      ],
      "metadata": {
        "id": "61l01WwCVKzO"
      }
    },
    {
      "cell_type": "markdown",
      "source": [
        "**Write Problem Statement Here.**"
      ],
      "metadata": {
        "id": "DpeJGUA3kjGy"
      }
    },
    {
      "cell_type": "markdown",
      "source": [
        "#### **Define Your Business Objective?**"
      ],
      "metadata": {
        "id": "PH-0ReGfmX4f"
      }
    },
    {
      "cell_type": "markdown",
      "source": [
        "Answer Here."
      ],
      "metadata": {
        "id": "PhDvGCAqmjP1"
      }
    },
    {
      "cell_type": "markdown",
      "source": [],
      "metadata": {
        "id": "dbVs3pjOVN4A"
      }
    },
    {
      "cell_type": "markdown",
      "source": [
        "# **Know Your Data**"
      ],
      "metadata": {
        "id": "DUBzzo2gVWcq"
      }
    },
    {
      "cell_type": "markdown",
      "source": [
        "##**Import Libraries**"
      ],
      "metadata": {
        "id": "0hk_DXeYVegi"
      }
    },
    {
      "cell_type": "code",
      "source": [
        "# Data Manipulation Libraries\n",
        "import numpy as np\n",
        "import pandas as pd\n",
        "\n",
        "# Data Visualization Libraries\n",
        "import matplotlib.pyplot as plt\n",
        "import seaborn as sns\n",
        "sns.palettes.SEABORN_PALETTES.keys()\n",
        "\n",
        "# Set a consistent theme for all plots\n",
        "sns.set(style = 'whitegrid')"
      ],
      "metadata": {
        "id": "OvLdR7mcWCXY"
      },
      "execution_count": 2,
      "outputs": []
    },
    {
      "cell_type": "markdown",
      "source": [
        "## **Load Dataset**"
      ],
      "metadata": {
        "id": "5F5smOF3VZyW"
      }
    },
    {
      "cell_type": "code",
      "source": [],
      "metadata": {
        "id": "jGcwDiVaVZVv"
      },
      "execution_count": null,
      "outputs": []
    }
  ]
}